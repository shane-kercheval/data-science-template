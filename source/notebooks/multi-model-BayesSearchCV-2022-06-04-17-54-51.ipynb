{
 "cells": [
  {
   "cell_type": "code",
   "execution_count": null,
   "id": "0ddc37d2",
   "metadata": {},
   "outputs": [],
   "source": [
    "cd ../.."
   ]
  },
  {
   "cell_type": "code",
   "execution_count": null,
   "id": "c5f3fe51",
   "metadata": {},
   "outputs": [],
   "source": [
    "%run \"source/config/notebook_settings.py\"\n",
    "from source.library.utilities import log_info"
   ]
  },
  {
   "cell_type": "markdown",
   "id": "1930b7e6",
   "metadata": {
    "pycharm": {
     "name": "#%% md\n"
    }
   },
   "source": [
    "# Load Data"
   ]
  },
  {
   "cell_type": "code",
   "execution_count": null,
   "id": "a14624fd",
   "metadata": {
    "pycharm": {
     "name": "#%%\n"
    }
   },
   "outputs": [],
   "source": [
    "file_name = 'artifacts/models/experiments/multi-model-BayesSearchCV-2022-06-04-17-54-51.yaml'\n",
    "results = hlp.sklearn_eval.MLExperimentResults.from_yaml_file(yaml_file_name = file_name)"
   ]
  },
  {
   "cell_type": "markdown",
   "id": "54a33939",
   "metadata": {},
   "source": [
    "---"
   ]
  },
  {
   "cell_type": "markdown",
   "id": "eb177594",
   "metadata": {},
   "source": [
    "# Hyper-Param Tuning - Cross Validation Results"
   ]
  },
  {
   "cell_type": "markdown",
   "id": "352a2dd8",
   "metadata": {},
   "source": [
    "## Best Scores/Params"
   ]
  },
  {
   "cell_type": "code",
   "execution_count": null,
   "id": "31f0b98a",
   "metadata": {
    "pycharm": {
     "name": "#%%\n"
    }
   },
   "outputs": [],
   "source": [
    "log_info(f\"Best Score: {results.best_score}\")"
   ]
  },
  {
   "cell_type": "code",
   "execution_count": null,
   "id": "59c9c626",
   "metadata": {},
   "outputs": [],
   "source": [
    "log_info(f\"Best Params: {results.best_params}\")"
   ]
  },
  {
   "cell_type": "code",
   "execution_count": null,
   "id": "76f52f3f",
   "metadata": {
    "scrolled": true
   },
   "outputs": [],
   "source": [
    "# Best model from each model-type.\n",
    "df = results.to_formatted_dataframe(return_style=False, include_rank=True)\n",
    "df[\"model_rank\"] = df.groupby(\"model\")[\"roc_auc Mean\"].rank(method=\"first\", ascending=False)\n",
    "df.query('model_rank == 1')"
   ]
  },
  {
   "cell_type": "code",
   "execution_count": null,
   "id": "5d25ab96",
   "metadata": {
    "pycharm": {
     "name": "#%%\n"
    },
    "scrolled": false
   },
   "outputs": [],
   "source": [
    "results.to_formatted_dataframe(return_style=True,\n",
    "                               include_rank=True,\n",
    "                               num_rows=1000)"
   ]
  },
  {
   "cell_type": "code",
   "execution_count": null,
   "id": "3d4d1a95",
   "metadata": {
    "scrolled": false
   },
   "outputs": [],
   "source": [
    "results.to_formatted_dataframe(query='model == \"RandomForestClassifier()\"', include_rank=True)"
   ]
  },
  {
   "cell_type": "code",
   "execution_count": null,
   "id": "35644690",
   "metadata": {
    "scrolled": false
   },
   "outputs": [],
   "source": [
    "results.to_formatted_dataframe(query='model == \"LogisticRegression()\"', include_rank=True)"
   ]
  },
  {
   "cell_type": "markdown",
   "id": "59fde126",
   "metadata": {},
   "source": [
    "## BayesSearchCV Performance Over Time"
   ]
  },
  {
   "cell_type": "code",
   "execution_count": null,
   "id": "69b25b60",
   "metadata": {},
   "outputs": [],
   "source": [
    "results.plot_performance_across_trials(facet_by='model').show()"
   ]
  },
  {
   "cell_type": "code",
   "execution_count": null,
   "id": "96106468",
   "metadata": {},
   "outputs": [],
   "source": [
    "results.plot_performance_across_trials(query='model == \"RandomForestClassifier()\"').show()"
   ]
  },
  {
   "cell_type": "markdown",
   "id": "a6f5be61",
   "metadata": {},
   "source": [
    "---"
   ]
  },
  {
   "cell_type": "markdown",
   "id": "49f22c15",
   "metadata": {},
   "source": [
    "## Variable Performance Over Time"
   ]
  },
  {
   "cell_type": "code",
   "execution_count": null,
   "id": "e100ea68",
   "metadata": {},
   "outputs": [],
   "source": [
    "results.plot_parameter_values_across_trials(query='model == \"RandomForestClassifier()\"').show()"
   ]
  },
  {
   "cell_type": "markdown",
   "id": "e23227a1",
   "metadata": {},
   "source": [
    "---"
   ]
  },
  {
   "cell_type": "markdown",
   "id": "3a27957a",
   "metadata": {},
   "source": [
    "## Scatter Matrix"
   ]
  },
  {
   "cell_type": "code",
   "execution_count": null,
   "id": "03852712",
   "metadata": {
    "scrolled": true
   },
   "outputs": [],
   "source": [
    "# results.plot_scatter_matrix(query='model == \"RandomForestClassifier()\"',\n",
    "#                             height=1000, width=1000).show()"
   ]
  },
  {
   "cell_type": "markdown",
   "id": "c6159d18",
   "metadata": {},
   "source": [
    "---"
   ]
  },
  {
   "cell_type": "markdown",
   "id": "ee749684",
   "metadata": {},
   "source": [
    "## Variable Performance - Numeric"
   ]
  },
  {
   "cell_type": "code",
   "execution_count": null,
   "id": "39189dad",
   "metadata": {},
   "outputs": [],
   "source": [
    "results.plot_performance_numeric_params(query='model == \"RandomForestClassifier()\"',\n",
    "                                        height=800)"
   ]
  },
  {
   "cell_type": "code",
   "execution_count": null,
   "id": "7a76f2c9",
   "metadata": {},
   "outputs": [],
   "source": [
    "results.plot_parallel_coordinates(query='model == \"RandomForestClassifier()\"').show()"
   ]
  },
  {
   "cell_type": "markdown",
   "id": "b8835e43",
   "metadata": {},
   "source": [
    "---"
   ]
  },
  {
   "cell_type": "markdown",
   "id": "030936ad",
   "metadata": {},
   "source": [
    "## Variable Performance - Non-Numeric"
   ]
  },
  {
   "cell_type": "code",
   "execution_count": null,
   "id": "9fe0a693",
   "metadata": {},
   "outputs": [],
   "source": [
    "results.plot_performance_non_numeric_params(query='model == \"RandomForestClassifier()\"').show()"
   ]
  },
  {
   "cell_type": "markdown",
   "id": "ec79358c",
   "metadata": {
    "pycharm": {
     "name": "#%% md\n"
    }
   },
   "source": [
    "---"
   ]
  },
  {
   "cell_type": "code",
   "execution_count": null,
   "id": "a4cb1cd0",
   "metadata": {},
   "outputs": [],
   "source": [
    "results.plot_score_vs_parameter(\n",
    "    query='model == \"RandomForestClassifier()\"',\n",
    "    parameter='max_features',\n",
    "    size='max_depth',\n",
    "    color='encoder',\n",
    ")"
   ]
  },
  {
   "cell_type": "markdown",
   "id": "b09bd440",
   "metadata": {},
   "source": [
    "---"
   ]
  },
  {
   "cell_type": "code",
   "execution_count": null,
   "id": "05670ea0",
   "metadata": {},
   "outputs": [],
   "source": [
    "# results.plot_parameter_vs_parameter(\n",
    "#     query='model == \"XGBClassifier()\"',\n",
    "#     parameter_x='colsample_bytree',\n",
    "#     parameter_y='learning_rate',\n",
    "#     size='max_depth'\n",
    "# )"
   ]
  },
  {
   "cell_type": "code",
   "execution_count": null,
   "id": "aab85748",
   "metadata": {},
   "outputs": [],
   "source": [
    "# results.plot_parameter_vs_parameter(\n",
    "#     query='model == \"XGBClassifier()\"',\n",
    "#     parameter_x='colsample_bytree',\n",
    "#     parameter_y='learning_rate',\n",
    "#     size='imputer'\n",
    "# )"
   ]
  },
  {
   "cell_type": "markdown",
   "id": "99721fb8",
   "metadata": {},
   "source": [
    "---"
   ]
  },
  {
   "cell_type": "markdown",
   "id": "6abb1968",
   "metadata": {},
   "source": [
    "# Best Model - Test Set Performance"
   ]
  },
  {
   "cell_type": "code",
   "execution_count": null,
   "id": "d7276dc9",
   "metadata": {},
   "outputs": [],
   "source": [
    "file_name = 'artifacts/models/experiments/multi-model-BayesSearchCV-2022-06-04-17-54-51_best_estimator.pkl'\n",
    "best_estimator = hlp.utility.read_pickle(file_name)"
   ]
  },
  {
   "cell_type": "code",
   "execution_count": null,
   "id": "5f2d803e",
   "metadata": {},
   "outputs": [],
   "source": [
    "x_test = pd.read_pickle('artifacts/data/processed/x_test.pkl')\n",
    "x_test.head()"
   ]
  },
  {
   "cell_type": "code",
   "execution_count": null,
   "id": "0e7586c3",
   "metadata": {},
   "outputs": [],
   "source": [
    "y_test = hlp.utility.read_pickle('artifacts/data/processed/y_test.pkl')\n",
    "y_test[0:10]"
   ]
  },
  {
   "cell_type": "code",
   "execution_count": null,
   "id": "3b256e43",
   "metadata": {},
   "outputs": [],
   "source": [
    "test_predictions = best_estimator.predict_proba(x_test)[:, 1]\n",
    "test_predictions[0:10]"
   ]
  },
  {
   "cell_type": "code",
   "execution_count": null,
   "id": "6abd219e",
   "metadata": {},
   "outputs": [],
   "source": [
    "evaluator = hlp.sklearn_eval.TwoClassEvaluator(\n",
    "    actual_values=y_test,\n",
    "    predicted_scores=test_predictions,\n",
    "    score_threshold=0.37\n",
    ")"
   ]
  },
  {
   "cell_type": "code",
   "execution_count": null,
   "id": "1dcd2c01",
   "metadata": {},
   "outputs": [],
   "source": [
    "evaluator.plot_actual_vs_predict_histogram()"
   ]
  },
  {
   "cell_type": "code",
   "execution_count": null,
   "id": "7e98d47c",
   "metadata": {},
   "outputs": [],
   "source": [
    "evaluator.plot_confusion_matrix()"
   ]
  },
  {
   "cell_type": "code",
   "execution_count": null,
   "id": "2fc49b20",
   "metadata": {},
   "outputs": [],
   "source": [
    "evaluator.all_metrics_df(return_style=True,\n",
    "                         dummy_classifier_strategy=['prior', 'constant'],\n",
    "                         round_by=3)"
   ]
  },
  {
   "cell_type": "code",
   "execution_count": null,
   "id": "bc9457e9",
   "metadata": {},
   "outputs": [],
   "source": [
    "evaluator.plot_roc_auc_curve().show()"
   ]
  },
  {
   "cell_type": "code",
   "execution_count": null,
   "id": "9233e119",
   "metadata": {},
   "outputs": [],
   "source": [
    "evaluator.plot_precision_recall_auc_curve().show()"
   ]
  },
  {
   "cell_type": "code",
   "execution_count": null,
   "id": "2e816815",
   "metadata": {},
   "outputs": [],
   "source": [
    "evaluator.plot_threshold_curves(score_threshold_range=(0.1, 0.7)).show()"
   ]
  },
  {
   "cell_type": "code",
   "execution_count": null,
   "id": "70aa5d47",
   "metadata": {},
   "outputs": [],
   "source": [
    "evaluator.plot_precision_recall_tradeoff(score_threshold_range=(0.1, 0.6)).show()"
   ]
  },
  {
   "cell_type": "code",
   "execution_count": null,
   "id": "5b729774",
   "metadata": {},
   "outputs": [],
   "source": [
    "evaluator.calculate_lift_gain(return_style=True)"
   ]
  },
  {
   "cell_type": "markdown",
   "id": "12d03792",
   "metadata": {},
   "source": [
    "---"
   ]
  }
 ],
 "metadata": {
  "kernelspec": {
   "display_name": "Python 3 (ipykernel)",
   "language": "python",
   "name": "python3"
  },
  "language_info": {
   "codemirror_mode": {
    "name": "ipython",
    "version": 3
   },
   "file_extension": ".py",
   "mimetype": "text/x-python",
   "name": "python",
   "nbconvert_exporter": "python",
   "pygments_lexer": "ipython3",
   "version": "3.9.10"
  },
  "toc": {
   "base_numbering": 1,
   "nav_menu": {},
   "number_sections": false,
   "sideBar": true,
   "skip_h1_title": false,
   "title_cell": "Table of Contents",
   "title_sidebar": "Contents",
   "toc_cell": false,
   "toc_position": {
    "height": "calc(100% - 180px)",
    "left": "10px",
    "top": "150px",
    "width": "258px"
   },
   "toc_section_display": true,
   "toc_window_display": true
  }
 },
 "nbformat": 4,
 "nbformat_minor": 5
}
