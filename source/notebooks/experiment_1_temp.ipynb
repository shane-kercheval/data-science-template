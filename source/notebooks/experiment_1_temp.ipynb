{
 "cells": [
  {
   "cell_type": "code",
   "execution_count": 1,
   "id": "0ddc37d2",
   "metadata": {},
   "outputs": [
    {
     "name": "stdout",
     "output_type": "stream",
     "text": [
      "/Users/shanekercheval/repos/data-science-template\n"
     ]
    }
   ],
   "source": [
    "cd ../.."
   ]
  },
  {
   "cell_type": "code",
   "execution_count": 2,
   "id": "f8fdf7c4",
   "metadata": {
    "pycharm": {
     "name": "#%%\n"
    }
   },
   "outputs": [],
   "source": [
    "import mlflow"
   ]
  },
  {
   "cell_type": "code",
   "execution_count": 6,
   "id": "4b1ccac8",
   "metadata": {
    "pycharm": {
     "name": "#%%\n"
    }
   },
   "outputs": [],
   "source": [
    "import mlflow\n",
    "import os\n",
    "from mlflow.tracking import MlflowClient\n",
    "client = MlflowClient(tracking_uri='http://127.0.0.1:1234')\n",
    "experiments = client.list_experiments()\n",
    "#local_dir = \"mlflow\"\n",
    "#client.download_artifacts(<run-id>, \"features\", local_dir)"
   ]
  },
  {
   "cell_type": "code",
   "execution_count": 7,
   "id": "7e60ab3d",
   "metadata": {
    "pycharm": {
     "name": "#%%\n"
    }
   },
   "outputs": [],
   "source": [
    "#experiment = client.get_experiment(experiment_id='0')"
   ]
  },
  {
   "cell_type": "code",
   "execution_count": 13,
   "id": "6bb2a2c0",
   "metadata": {},
   "outputs": [
    {
     "data": {
      "text/plain": [
       "<Experiment: artifact_location='./mlflow-artifact-root/1', experiment_id='1', lifecycle_stage='active', name='credit', tags={}>"
      ]
     },
     "execution_count": 13,
     "metadata": {},
     "output_type": "execute_result"
    }
   ],
   "source": [
    "credit_experiment = client.get_experiment_by_name('credit')\n",
    "credit_experiment"
   ]
  },
  {
   "cell_type": "code",
   "execution_count": 32,
   "id": "43ab7424",
   "metadata": {},
   "outputs": [
    {
     "data": {
      "text/plain": [
       "'d63ca93a86a846d5a9614d4e6c783011'"
      ]
     },
     "execution_count": 32,
     "metadata": {},
     "output_type": "execute_result"
    }
   ],
   "source": [
    "import numpy as np\n",
    "latest_run = runs[np.argmax([x.start_time for x in runs])]\n",
    "latest_run.run_id"
   ]
  },
  {
   "cell_type": "code",
   "execution_count": 36,
   "id": "cd5518ec",
   "metadata": {},
   "outputs": [],
   "source": [
    "import helpsk as hlp\n",
    "yaml_path = client.download_artifacts(run_id=latest_run.run_id, path='experiment.yaml')\n",
    "results = hlp.sklearn_eval.MLExperimentResults.from_yaml_file(yaml_file_name = yaml_path)"
   ]
  },
  {
   "cell_type": "code",
   "execution_count": 38,
   "id": "b5cdc486",
   "metadata": {},
   "outputs": [
    {
     "data": {
      "text/html": [
       "<style type=\"text/css\">\n",
       "#T_06dbc_row0_col0, #T_06dbc_row1_col0 {\n",
       "  width: 10em;\n",
       "  background: linear-gradient(90deg, #1AAF54 100.0%, transparent 100.0%);\n",
       "}\n",
       "#T_06dbc_row0_col1 {\n",
       "  width: 10em;\n",
       "  height: 80%;\n",
       "  background: linear-gradient(90deg,transparent 94.1%, #B4B7B9 94.1%);\n",
       "}\n",
       "#T_06dbc_row0_col2, #T_06dbc_row9_col2 {\n",
       "  width: 10em;\n",
       "  background: linear-gradient(90deg, #B4B7B9 74.0%, transparent 74.0%);\n",
       "}\n",
       "#T_06dbc_row0_col3, #T_06dbc_row0_col4, #T_06dbc_row0_col19, #T_06dbc_row0_col20, #T_06dbc_row0_col21, #T_06dbc_row0_col22, #T_06dbc_row1_col3, #T_06dbc_row1_col19, #T_06dbc_row1_col20, #T_06dbc_row1_col21, #T_06dbc_row1_col22, #T_06dbc_row2_col3, #T_06dbc_row2_col19, #T_06dbc_row2_col20, #T_06dbc_row2_col21, #T_06dbc_row2_col22, #T_06dbc_row3_col3, #T_06dbc_row3_col5, #T_06dbc_row3_col6, #T_06dbc_row3_col7, #T_06dbc_row3_col8, #T_06dbc_row3_col9, #T_06dbc_row3_col10, #T_06dbc_row3_col11, #T_06dbc_row3_col19, #T_06dbc_row3_col20, #T_06dbc_row3_col21, #T_06dbc_row3_col22, #T_06dbc_row4_col3, #T_06dbc_row4_col5, #T_06dbc_row4_col6, #T_06dbc_row4_col7, #T_06dbc_row4_col8, #T_06dbc_row4_col9, #T_06dbc_row4_col10, #T_06dbc_row4_col11, #T_06dbc_row4_col19, #T_06dbc_row4_col20, #T_06dbc_row4_col21, #T_06dbc_row4_col22, #T_06dbc_row5_col3, #T_06dbc_row5_col4, #T_06dbc_row5_col19, #T_06dbc_row5_col20, #T_06dbc_row5_col21, #T_06dbc_row5_col22, #T_06dbc_row6_col3, #T_06dbc_row6_col5, #T_06dbc_row6_col6, #T_06dbc_row6_col7, #T_06dbc_row6_col8, #T_06dbc_row6_col9, #T_06dbc_row6_col10, #T_06dbc_row6_col11, #T_06dbc_row6_col19, #T_06dbc_row6_col20, #T_06dbc_row6_col21, #T_06dbc_row6_col22 {\n",
       "  background-color: #7AA9CF;\n",
       "}\n",
       "#T_06dbc_row0_col5, #T_06dbc_row0_col6, #T_06dbc_row0_col7, #T_06dbc_row0_col8, #T_06dbc_row0_col9, #T_06dbc_row0_col10, #T_06dbc_row0_col11, #T_06dbc_row0_col12, #T_06dbc_row0_col13, #T_06dbc_row0_col14, #T_06dbc_row0_col15, #T_06dbc_row0_col16, #T_06dbc_row0_col17, #T_06dbc_row0_col18, #T_06dbc_row1_col4, #T_06dbc_row1_col5, #T_06dbc_row1_col6, #T_06dbc_row1_col7, #T_06dbc_row1_col8, #T_06dbc_row1_col9, #T_06dbc_row1_col10, #T_06dbc_row1_col11, #T_06dbc_row1_col12, #T_06dbc_row1_col13, #T_06dbc_row1_col14, #T_06dbc_row1_col15, #T_06dbc_row1_col16, #T_06dbc_row1_col17, #T_06dbc_row1_col18, #T_06dbc_row2_col4, #T_06dbc_row2_col5, #T_06dbc_row2_col6, #T_06dbc_row2_col7, #T_06dbc_row2_col8, #T_06dbc_row2_col9, #T_06dbc_row2_col10, #T_06dbc_row2_col11, #T_06dbc_row2_col12, #T_06dbc_row2_col13, #T_06dbc_row2_col14, #T_06dbc_row2_col15, #T_06dbc_row2_col16, #T_06dbc_row2_col17, #T_06dbc_row2_col18, #T_06dbc_row3_col4, #T_06dbc_row3_col12, #T_06dbc_row3_col13, #T_06dbc_row3_col14, #T_06dbc_row3_col15, #T_06dbc_row3_col16, #T_06dbc_row3_col17, #T_06dbc_row3_col18, #T_06dbc_row4_col4, #T_06dbc_row4_col12, #T_06dbc_row4_col13, #T_06dbc_row4_col14, #T_06dbc_row4_col15, #T_06dbc_row4_col16, #T_06dbc_row4_col17, #T_06dbc_row4_col18, #T_06dbc_row5_col5, #T_06dbc_row5_col6, #T_06dbc_row5_col7, #T_06dbc_row5_col8, #T_06dbc_row5_col9, #T_06dbc_row5_col10, #T_06dbc_row5_col11, #T_06dbc_row5_col12, #T_06dbc_row5_col13, #T_06dbc_row5_col14, #T_06dbc_row5_col15, #T_06dbc_row5_col16, #T_06dbc_row5_col17, #T_06dbc_row5_col18, #T_06dbc_row6_col4, #T_06dbc_row6_col12, #T_06dbc_row6_col13, #T_06dbc_row6_col14, #T_06dbc_row6_col15, #T_06dbc_row6_col16, #T_06dbc_row6_col17, #T_06dbc_row6_col18 {\n",
       "  background-color: #EBB13E;\n",
       "  background-color: #7AA9CF;\n",
       "}\n",
       "#T_06dbc_row1_col1 {\n",
       "  width: 10em;\n",
       "  height: 80%;\n",
       "  background: linear-gradient(90deg,transparent 88.2%, #B4B7B9 88.2%);\n",
       "}\n",
       "#T_06dbc_row1_col2 {\n",
       "  width: 10em;\n",
       "  background: linear-gradient(90deg, #B4B7B9 83.3%, transparent 83.3%);\n",
       "}\n",
       "#T_06dbc_row2_col0 {\n",
       "  width: 10em;\n",
       "  background: linear-gradient(90deg, #1AAF54 97.1%, transparent 97.1%);\n",
       "}\n",
       "#T_06dbc_row2_col1 {\n",
       "  width: 10em;\n",
       "  height: 80%;\n",
       "  background: linear-gradient(90deg,transparent 96.7%, #B4B7B9 96.7%);\n",
       "}\n",
       "#T_06dbc_row2_col2 {\n",
       "  width: 10em;\n",
       "  background: linear-gradient(90deg, #B4B7B9 63.5%, transparent 63.5%);\n",
       "}\n",
       "#T_06dbc_row3_col0, #T_06dbc_row4_col0 {\n",
       "  width: 10em;\n",
       "  background: linear-gradient(90deg, #1AAF54 95.2%, transparent 95.2%);\n",
       "}\n",
       "#T_06dbc_row3_col1 {\n",
       "  width: 10em;\n",
       "  height: 80%;\n",
       "  background: linear-gradient(90deg,transparent 84.2%, #B4B7B9 84.2%);\n",
       "}\n",
       "#T_06dbc_row3_col2, #T_06dbc_row20_col2 {\n",
       "  width: 10em;\n",
       "  background: linear-gradient(90deg, #B4B7B9 80.2%, transparent 80.2%);\n",
       "}\n",
       "#T_06dbc_row4_col1 {\n",
       "  width: 10em;\n",
       "  height: 80%;\n",
       "  background: linear-gradient(90deg,transparent 100.0%, #B4B7B9 100.0%);\n",
       "}\n",
       "#T_06dbc_row4_col2, #T_06dbc_row17_col2 {\n",
       "  width: 10em;\n",
       "  background: linear-gradient(90deg, #B4B7B9 54.2%, transparent 54.2%);\n",
       "}\n",
       "#T_06dbc_row5_col0 {\n",
       "  width: 10em;\n",
       "  background: linear-gradient(90deg, #1AAF54 93.3%, transparent 93.3%);\n",
       "}\n",
       "#T_06dbc_row5_col1, #T_06dbc_row18_col1 {\n",
       "  width: 10em;\n",
       "  height: 80%;\n",
       "  background: linear-gradient(90deg,transparent 69.1%, #B4B7B9 69.1%);\n",
       "}\n",
       "#T_06dbc_row5_col2 {\n",
       "  width: 10em;\n",
       "  background: linear-gradient(90deg, #B4B7B9 97.9%, transparent 97.9%);\n",
       "}\n",
       "#T_06dbc_row6_col0 {\n",
       "  width: 10em;\n",
       "  background: linear-gradient(90deg, #1AAF54 92.4%, transparent 92.4%);\n",
       "}\n",
       "#T_06dbc_row6_col1, #T_06dbc_row7_col1 {\n",
       "  width: 10em;\n",
       "  height: 80%;\n",
       "  background: linear-gradient(90deg,transparent 67.8%, #B4B7B9 67.8%);\n",
       "}\n",
       "#T_06dbc_row6_col2 {\n",
       "  width: 10em;\n",
       "  background: linear-gradient(90deg, #B4B7B9 100.0%, transparent 100.0%);\n",
       "}\n",
       "#T_06dbc_row7_col0 {\n",
       "  width: 10em;\n",
       "  background: linear-gradient(90deg, #1AAF54 86.7%, transparent 86.7%);\n",
       "}\n",
       "#T_06dbc_row7_col2, #T_06dbc_row8_col2 {\n",
       "  width: 10em;\n",
       "  background: linear-gradient(90deg, #B4B7B9 87.5%, transparent 87.5%);\n",
       "}\n",
       "#T_06dbc_row7_col4, #T_06dbc_row7_col5, #T_06dbc_row7_col6, #T_06dbc_row7_col7, #T_06dbc_row7_col8, #T_06dbc_row7_col9, #T_06dbc_row7_col10, #T_06dbc_row7_col11, #T_06dbc_row7_col12, #T_06dbc_row7_col13, #T_06dbc_row7_col14, #T_06dbc_row7_col15, #T_06dbc_row7_col16, #T_06dbc_row7_col17, #T_06dbc_row7_col18, #T_06dbc_row8_col4, #T_06dbc_row8_col12, #T_06dbc_row8_col13, #T_06dbc_row8_col14, #T_06dbc_row8_col15, #T_06dbc_row8_col16, #T_06dbc_row8_col17, #T_06dbc_row8_col18, #T_06dbc_row9_col4, #T_06dbc_row9_col5, #T_06dbc_row9_col6, #T_06dbc_row9_col7, #T_06dbc_row9_col8, #T_06dbc_row9_col9, #T_06dbc_row9_col10, #T_06dbc_row9_col11, #T_06dbc_row9_col12, #T_06dbc_row9_col13, #T_06dbc_row9_col14, #T_06dbc_row9_col15, #T_06dbc_row9_col16, #T_06dbc_row9_col17, #T_06dbc_row9_col18, #T_06dbc_row10_col4, #T_06dbc_row10_col5, #T_06dbc_row10_col8, #T_06dbc_row10_col9, #T_06dbc_row10_col10, #T_06dbc_row10_col11, #T_06dbc_row11_col5, #T_06dbc_row11_col6, #T_06dbc_row11_col7, #T_06dbc_row11_col8, #T_06dbc_row11_col9, #T_06dbc_row11_col10, #T_06dbc_row11_col11, #T_06dbc_row11_col12, #T_06dbc_row11_col13, #T_06dbc_row11_col14, #T_06dbc_row11_col15, #T_06dbc_row11_col16, #T_06dbc_row11_col17, #T_06dbc_row11_col18, #T_06dbc_row12_col4, #T_06dbc_row12_col12, #T_06dbc_row12_col13, #T_06dbc_row12_col14, #T_06dbc_row12_col15, #T_06dbc_row12_col16, #T_06dbc_row12_col17, #T_06dbc_row12_col18, #T_06dbc_row13_col4, #T_06dbc_row13_col12, #T_06dbc_row13_col13, #T_06dbc_row13_col14, #T_06dbc_row13_col15, #T_06dbc_row13_col16, #T_06dbc_row13_col17, #T_06dbc_row13_col18, #T_06dbc_row14_col4, #T_06dbc_row14_col12, #T_06dbc_row14_col13, #T_06dbc_row14_col14, #T_06dbc_row14_col15, #T_06dbc_row14_col16, #T_06dbc_row14_col17, #T_06dbc_row14_col18, #T_06dbc_row15_col5, #T_06dbc_row15_col6, #T_06dbc_row15_col7, #T_06dbc_row15_col8, #T_06dbc_row15_col9, #T_06dbc_row15_col10, #T_06dbc_row15_col11, #T_06dbc_row15_col12, #T_06dbc_row15_col13, #T_06dbc_row15_col14, #T_06dbc_row15_col15, #T_06dbc_row15_col16, #T_06dbc_row15_col17, #T_06dbc_row15_col18, #T_06dbc_row16_col5, #T_06dbc_row16_col6, #T_06dbc_row16_col7, #T_06dbc_row16_col8, #T_06dbc_row16_col9, #T_06dbc_row16_col10, #T_06dbc_row16_col11, #T_06dbc_row16_col12, #T_06dbc_row16_col13, #T_06dbc_row16_col14, #T_06dbc_row16_col15, #T_06dbc_row16_col16, #T_06dbc_row16_col17, #T_06dbc_row16_col18, #T_06dbc_row17_col4, #T_06dbc_row17_col5, #T_06dbc_row17_col8, #T_06dbc_row17_col9, #T_06dbc_row17_col10, #T_06dbc_row17_col11, #T_06dbc_row18_col5, #T_06dbc_row18_col6, #T_06dbc_row18_col7, #T_06dbc_row18_col8, #T_06dbc_row18_col9, #T_06dbc_row18_col10, #T_06dbc_row18_col11, #T_06dbc_row18_col12, #T_06dbc_row18_col13, #T_06dbc_row18_col14, #T_06dbc_row18_col15, #T_06dbc_row18_col16, #T_06dbc_row18_col17, #T_06dbc_row18_col18, #T_06dbc_row19_col4, #T_06dbc_row19_col12, #T_06dbc_row19_col13, #T_06dbc_row19_col14, #T_06dbc_row19_col15, #T_06dbc_row19_col16, #T_06dbc_row19_col17, #T_06dbc_row19_col18, #T_06dbc_row20_col5, #T_06dbc_row20_col6, #T_06dbc_row20_col7, #T_06dbc_row20_col8, #T_06dbc_row20_col9, #T_06dbc_row20_col10, #T_06dbc_row20_col11, #T_06dbc_row20_col12, #T_06dbc_row20_col13, #T_06dbc_row20_col14, #T_06dbc_row20_col15, #T_06dbc_row20_col16, #T_06dbc_row20_col17, #T_06dbc_row20_col18, #T_06dbc_row21_col4, #T_06dbc_row21_col5, #T_06dbc_row21_col8, #T_06dbc_row21_col9, #T_06dbc_row21_col10, #T_06dbc_row21_col11, #T_06dbc_row22_col4, #T_06dbc_row22_col5, #T_06dbc_row22_col6, #T_06dbc_row22_col7, #T_06dbc_row22_col8, #T_06dbc_row22_col9, #T_06dbc_row22_col10, #T_06dbc_row22_col11, #T_06dbc_row22_col12, #T_06dbc_row22_col13, #T_06dbc_row22_col14, #T_06dbc_row22_col15, #T_06dbc_row22_col16, #T_06dbc_row22_col17, #T_06dbc_row22_col18, #T_06dbc_row23_col4, #T_06dbc_row23_col5, #T_06dbc_row23_col8, #T_06dbc_row23_col9, #T_06dbc_row23_col10, #T_06dbc_row23_col11, #T_06dbc_row24_col5, #T_06dbc_row24_col6, #T_06dbc_row24_col7, #T_06dbc_row24_col8, #T_06dbc_row24_col9, #T_06dbc_row24_col10, #T_06dbc_row24_col11, #T_06dbc_row24_col12, #T_06dbc_row24_col13, #T_06dbc_row24_col14, #T_06dbc_row24_col15, #T_06dbc_row24_col16, #T_06dbc_row24_col17, #T_06dbc_row24_col18 {\n",
       "  background-color: #EBB13E;\n",
       "}\n",
       "#T_06dbc_row8_col0 {\n",
       "  width: 10em;\n",
       "  background: linear-gradient(90deg, #1AAF54 84.8%, transparent 84.8%);\n",
       "}\n",
       "#T_06dbc_row8_col1 {\n",
       "  width: 10em;\n",
       "  height: 80%;\n",
       "  background: linear-gradient(90deg,transparent 64.5%, #B4B7B9 64.5%);\n",
       "}\n",
       "#T_06dbc_row9_col0 {\n",
       "  width: 10em;\n",
       "  background: linear-gradient(90deg, #1AAF54 83.8%, transparent 83.8%);\n",
       "}\n",
       "#T_06dbc_row9_col1, #T_06dbc_row15_col1 {\n",
       "  width: 10em;\n",
       "  height: 80%;\n",
       "  background: linear-gradient(90deg,transparent 72.4%, #B4B7B9 72.4%);\n",
       "}\n",
       "#T_06dbc_row10_col0 {\n",
       "  width: 10em;\n",
       "  background: linear-gradient(90deg, #1AAF54 82.9%, transparent 82.9%);\n",
       "}\n",
       "#T_06dbc_row10_col1 {\n",
       "  width: 10em;\n",
       "  height: 80%;\n",
       "  background: linear-gradient(90deg,transparent 78.9%, #B4B7B9 78.9%);\n",
       "}\n",
       "#T_06dbc_row10_col2 {\n",
       "  width: 10em;\n",
       "  background: linear-gradient(90deg, #B4B7B9 59.4%, transparent 59.4%);\n",
       "}\n",
       "#T_06dbc_row11_col0 {\n",
       "  width: 10em;\n",
       "  background: linear-gradient(90deg, #1AAF54 81.0%, transparent 81.0%);\n",
       "}\n",
       "#T_06dbc_row11_col1 {\n",
       "  width: 10em;\n",
       "  height: 80%;\n",
       "  background: linear-gradient(90deg,transparent 59.9%, #B4B7B9 59.9%);\n",
       "}\n",
       "#T_06dbc_row11_col2 {\n",
       "  width: 10em;\n",
       "  background: linear-gradient(90deg, #B4B7B9 85.4%, transparent 85.4%);\n",
       "}\n",
       "#T_06dbc_row12_col0 {\n",
       "  width: 10em;\n",
       "  background: linear-gradient(90deg, #1AAF54 79.0%, transparent 79.0%);\n",
       "}\n",
       "#T_06dbc_row12_col1, #T_06dbc_row23_col1 {\n",
       "  width: 10em;\n",
       "  height: 80%;\n",
       "  background: linear-gradient(90deg,transparent 75.0%, #B4B7B9 75.0%);\n",
       "}\n",
       "#T_06dbc_row12_col2 {\n",
       "  width: 10em;\n",
       "  background: linear-gradient(90deg, #B4B7B9 57.3%, transparent 57.3%);\n",
       "}\n",
       "#T_06dbc_row13_col0 {\n",
       "  width: 10em;\n",
       "  background: linear-gradient(90deg, #1AAF54 78.1%, transparent 78.1%);\n",
       "}\n",
       "#T_06dbc_row13_col1 {\n",
       "  width: 10em;\n",
       "  height: 80%;\n",
       "  background: linear-gradient(90deg,transparent 98.0%, #B4B7B9 98.0%);\n",
       "}\n",
       "#T_06dbc_row13_col2 {\n",
       "  width: 10em;\n",
       "  background: linear-gradient(90deg, #B4B7B9 18.8%, transparent 18.8%);\n",
       "}\n",
       "#T_06dbc_row14_col0 {\n",
       "  width: 10em;\n",
       "  background: linear-gradient(90deg, #1AAF54 76.2%, transparent 76.2%);\n",
       "}\n",
       "#T_06dbc_row14_col1 {\n",
       "  width: 10em;\n",
       "  height: 80%;\n",
       "  background: linear-gradient(90deg,transparent 63.8%, #B4B7B9 63.8%);\n",
       "}\n",
       "#T_06dbc_row14_col2 {\n",
       "  width: 10em;\n",
       "  background: linear-gradient(90deg, #B4B7B9 68.8%, transparent 68.8%);\n",
       "}\n",
       "#T_06dbc_row15_col0, #T_06dbc_row16_col0 {\n",
       "  width: 10em;\n",
       "  background: linear-gradient(90deg, #1AAF54 68.6%, transparent 68.6%);\n",
       "}\n",
       "#T_06dbc_row15_col2 {\n",
       "  width: 10em;\n",
       "  background: linear-gradient(90deg, #B4B7B9 38.5%, transparent 38.5%);\n",
       "}\n",
       "#T_06dbc_row16_col1 {\n",
       "  width: 10em;\n",
       "  height: 80%;\n",
       "  background: linear-gradient(90deg,transparent 44.1%, #B4B7B9 44.1%);\n",
       "}\n",
       "#T_06dbc_row16_col2 {\n",
       "  width: 10em;\n",
       "  background: linear-gradient(90deg, #B4B7B9 84.4%, transparent 84.4%);\n",
       "}\n",
       "#T_06dbc_row17_col0 {\n",
       "  width: 10em;\n",
       "  background: linear-gradient(90deg, #1AAF54 67.6%, transparent 67.6%);\n",
       "}\n",
       "#T_06dbc_row17_col1 {\n",
       "  width: 10em;\n",
       "  height: 80%;\n",
       "  background: linear-gradient(90deg,transparent 61.8%, #B4B7B9 61.8%);\n",
       "}\n",
       "#T_06dbc_row18_col0 {\n",
       "  width: 10em;\n",
       "  background: linear-gradient(90deg, #1AAF54 64.8%, transparent 64.8%);\n",
       "}\n",
       "#T_06dbc_row18_col2 {\n",
       "  width: 10em;\n",
       "  background: linear-gradient(90deg, #B4B7B9 36.5%, transparent 36.5%);\n",
       "}\n",
       "#T_06dbc_row19_col0 {\n",
       "  width: 10em;\n",
       "  background: linear-gradient(90deg, #1AAF54 63.8%, transparent 63.8%);\n",
       "}\n",
       "#T_06dbc_row19_col1 {\n",
       "  width: 10em;\n",
       "  height: 80%;\n",
       "  background: linear-gradient(90deg,transparent 45.4%, #B4B7B9 45.4%);\n",
       "}\n",
       "#T_06dbc_row19_col2 {\n",
       "  width: 10em;\n",
       "  background: linear-gradient(90deg, #B4B7B9 71.9%, transparent 71.9%);\n",
       "}\n",
       "#T_06dbc_row20_col0, #T_06dbc_row21_col0 {\n",
       "  width: 10em;\n",
       "  background: linear-gradient(90deg, #1AAF54 61.9%, transparent 61.9%);\n",
       "}\n",
       "#T_06dbc_row20_col1 {\n",
       "  width: 10em;\n",
       "  height: 80%;\n",
       "  background: linear-gradient(90deg,transparent 38.2%, #B4B7B9 38.2%);\n",
       "}\n",
       "#T_06dbc_row21_col1 {\n",
       "  width: 10em;\n",
       "  height: 80%;\n",
       "  background: linear-gradient(90deg,transparent 57.9%, #B4B7B9 57.9%);\n",
       "}\n",
       "#T_06dbc_row21_col2 {\n",
       "  width: 10em;\n",
       "  background: linear-gradient(90deg, #B4B7B9 49.0%, transparent 49.0%);\n",
       "}\n",
       "#T_06dbc_row22_col0 {\n",
       "  width: 10em;\n",
       "  background: linear-gradient(90deg, #1AAF54 61.0%, transparent 61.0%);\n",
       "}\n",
       "#T_06dbc_row22_col1 {\n",
       "  width: 10em;\n",
       "  height: 80%;\n",
       "  background: linear-gradient(90deg,transparent 76.3%, #B4B7B9 76.3%);\n",
       "}\n",
       "#T_06dbc_row22_col2 {\n",
       "  width: 10em;\n",
       "  background: linear-gradient(90deg, #B4B7B9 15.6%, transparent 15.6%);\n",
       "}\n",
       "#T_06dbc_row23_col0 {\n",
       "  width: 10em;\n",
       "  background: linear-gradient(90deg, #1AAF54 52.4%, transparent 52.4%);\n",
       "}\n",
       "#T_06dbc_row23_col2, #T_06dbc_row24_col0 {\n",
       "  width: 10em;\n",
       "}\n",
       "#T_06dbc_row24_col1 {\n",
       "  width: 10em;\n",
       "  height: 80%;\n",
       "  background: linear-gradient(90deg, #B4B7B9 100.0%, transparent 100.0%, transparent 100.0%, #B4B7B9 100.0%);\n",
       "}\n",
       "#T_06dbc_row24_col2 {\n",
       "  width: 10em;\n",
       "  background: linear-gradient(90deg, #B4B7B9 3.1%, transparent 3.1%);\n",
       "}\n",
       "</style>\n",
       "<table id=\"T_06dbc\">\n",
       "  <thead>\n",
       "    <tr>\n",
       "      <th id=\"T_06dbc_level0_col0\" class=\"col_heading level0 col0\" >roc_auc Mean</th>\n",
       "      <th id=\"T_06dbc_level0_col1\" class=\"col_heading level0 col1\" >roc_auc 95CI.LO</th>\n",
       "      <th id=\"T_06dbc_level0_col2\" class=\"col_heading level0 col2\" >roc_auc 95CI.HI</th>\n",
       "      <th id=\"T_06dbc_level0_col3\" class=\"col_heading level0 col3\" >model</th>\n",
       "      <th id=\"T_06dbc_level0_col4\" class=\"col_heading level0 col4\" >C</th>\n",
       "      <th id=\"T_06dbc_level0_col5\" class=\"col_heading level0 col5\" >max_features</th>\n",
       "      <th id=\"T_06dbc_level0_col6\" class=\"col_heading level0 col6\" >max_depth</th>\n",
       "      <th id=\"T_06dbc_level0_col7\" class=\"col_heading level0 col7\" >n_estimators</th>\n",
       "      <th id=\"T_06dbc_level0_col8\" class=\"col_heading level0 col8\" >min_samples_split</th>\n",
       "      <th id=\"T_06dbc_level0_col9\" class=\"col_heading level0 col9\" >min_samples_leaf</th>\n",
       "      <th id=\"T_06dbc_level0_col10\" class=\"col_heading level0 col10\" >max_samples</th>\n",
       "      <th id=\"T_06dbc_level0_col11\" class=\"col_heading level0 col11\" >criterion</th>\n",
       "      <th id=\"T_06dbc_level0_col12\" class=\"col_heading level0 col12\" >learning_rate</th>\n",
       "      <th id=\"T_06dbc_level0_col13\" class=\"col_heading level0 col13\" >min_child_weight</th>\n",
       "      <th id=\"T_06dbc_level0_col14\" class=\"col_heading level0 col14\" >subsample</th>\n",
       "      <th id=\"T_06dbc_level0_col15\" class=\"col_heading level0 col15\" >colsample_bytree</th>\n",
       "      <th id=\"T_06dbc_level0_col16\" class=\"col_heading level0 col16\" >colsample_bylevel</th>\n",
       "      <th id=\"T_06dbc_level0_col17\" class=\"col_heading level0 col17\" >reg_alpha</th>\n",
       "      <th id=\"T_06dbc_level0_col18\" class=\"col_heading level0 col18\" >reg_lambda</th>\n",
       "      <th id=\"T_06dbc_level0_col19\" class=\"col_heading level0 col19\" >imputer</th>\n",
       "      <th id=\"T_06dbc_level0_col20\" class=\"col_heading level0 col20\" >scaler</th>\n",
       "      <th id=\"T_06dbc_level0_col21\" class=\"col_heading level0 col21\" >pca</th>\n",
       "      <th id=\"T_06dbc_level0_col22\" class=\"col_heading level0 col22\" >encoder</th>\n",
       "    </tr>\n",
       "  </thead>\n",
       "  <tbody>\n",
       "    <tr>\n",
       "      <td id=\"T_06dbc_row0_col0\" class=\"data row0 col0\" >0.759</td>\n",
       "      <td id=\"T_06dbc_row0_col1\" class=\"data row0 col1\" >0.722</td>\n",
       "      <td id=\"T_06dbc_row0_col2\" class=\"data row0 col2\" >0.796</td>\n",
       "      <td id=\"T_06dbc_row0_col3\" class=\"data row0 col3\" >LinearSVC()</td>\n",
       "      <td id=\"T_06dbc_row0_col4\" class=\"data row0 col4\" >0.281</td>\n",
       "      <td id=\"T_06dbc_row0_col5\" class=\"data row0 col5\" >&lt;NA&gt;</td>\n",
       "      <td id=\"T_06dbc_row0_col6\" class=\"data row0 col6\" >&lt;NA&gt;</td>\n",
       "      <td id=\"T_06dbc_row0_col7\" class=\"data row0 col7\" >&lt;NA&gt;</td>\n",
       "      <td id=\"T_06dbc_row0_col8\" class=\"data row0 col8\" >&lt;NA&gt;</td>\n",
       "      <td id=\"T_06dbc_row0_col9\" class=\"data row0 col9\" >&lt;NA&gt;</td>\n",
       "      <td id=\"T_06dbc_row0_col10\" class=\"data row0 col10\" >&lt;NA&gt;</td>\n",
       "      <td id=\"T_06dbc_row0_col11\" class=\"data row0 col11\" >&lt;NA&gt;</td>\n",
       "      <td id=\"T_06dbc_row0_col12\" class=\"data row0 col12\" >&lt;NA&gt;</td>\n",
       "      <td id=\"T_06dbc_row0_col13\" class=\"data row0 col13\" >&lt;NA&gt;</td>\n",
       "      <td id=\"T_06dbc_row0_col14\" class=\"data row0 col14\" >&lt;NA&gt;</td>\n",
       "      <td id=\"T_06dbc_row0_col15\" class=\"data row0 col15\" >&lt;NA&gt;</td>\n",
       "      <td id=\"T_06dbc_row0_col16\" class=\"data row0 col16\" >&lt;NA&gt;</td>\n",
       "      <td id=\"T_06dbc_row0_col17\" class=\"data row0 col17\" >&lt;NA&gt;</td>\n",
       "      <td id=\"T_06dbc_row0_col18\" class=\"data row0 col18\" >&lt;NA&gt;</td>\n",
       "      <td id=\"T_06dbc_row0_col19\" class=\"data row0 col19\" >SimpleImputer(strategy='most_frequent')</td>\n",
       "      <td id=\"T_06dbc_row0_col20\" class=\"data row0 col20\" >MinMaxScaler()</td>\n",
       "      <td id=\"T_06dbc_row0_col21\" class=\"data row0 col21\" >PCA('mle')</td>\n",
       "      <td id=\"T_06dbc_row0_col22\" class=\"data row0 col22\" >OneHotEncoder()</td>\n",
       "    </tr>\n",
       "    <tr>\n",
       "      <td id=\"T_06dbc_row1_col0\" class=\"data row1 col0\" >0.759</td>\n",
       "      <td id=\"T_06dbc_row1_col1\" class=\"data row1 col1\" >0.713</td>\n",
       "      <td id=\"T_06dbc_row1_col2\" class=\"data row1 col2\" >0.805</td>\n",
       "      <td id=\"T_06dbc_row1_col3\" class=\"data row1 col3\" >LogisticRegression()</td>\n",
       "      <td id=\"T_06dbc_row1_col4\" class=\"data row1 col4\" >&lt;NA&gt;</td>\n",
       "      <td id=\"T_06dbc_row1_col5\" class=\"data row1 col5\" >&lt;NA&gt;</td>\n",
       "      <td id=\"T_06dbc_row1_col6\" class=\"data row1 col6\" >&lt;NA&gt;</td>\n",
       "      <td id=\"T_06dbc_row1_col7\" class=\"data row1 col7\" >&lt;NA&gt;</td>\n",
       "      <td id=\"T_06dbc_row1_col8\" class=\"data row1 col8\" >&lt;NA&gt;</td>\n",
       "      <td id=\"T_06dbc_row1_col9\" class=\"data row1 col9\" >&lt;NA&gt;</td>\n",
       "      <td id=\"T_06dbc_row1_col10\" class=\"data row1 col10\" >&lt;NA&gt;</td>\n",
       "      <td id=\"T_06dbc_row1_col11\" class=\"data row1 col11\" >&lt;NA&gt;</td>\n",
       "      <td id=\"T_06dbc_row1_col12\" class=\"data row1 col12\" >&lt;NA&gt;</td>\n",
       "      <td id=\"T_06dbc_row1_col13\" class=\"data row1 col13\" >&lt;NA&gt;</td>\n",
       "      <td id=\"T_06dbc_row1_col14\" class=\"data row1 col14\" >&lt;NA&gt;</td>\n",
       "      <td id=\"T_06dbc_row1_col15\" class=\"data row1 col15\" >&lt;NA&gt;</td>\n",
       "      <td id=\"T_06dbc_row1_col16\" class=\"data row1 col16\" >&lt;NA&gt;</td>\n",
       "      <td id=\"T_06dbc_row1_col17\" class=\"data row1 col17\" >&lt;NA&gt;</td>\n",
       "      <td id=\"T_06dbc_row1_col18\" class=\"data row1 col18\" >&lt;NA&gt;</td>\n",
       "      <td id=\"T_06dbc_row1_col19\" class=\"data row1 col19\" >SimpleImputer()</td>\n",
       "      <td id=\"T_06dbc_row1_col20\" class=\"data row1 col20\" >StandardScaler()</td>\n",
       "      <td id=\"T_06dbc_row1_col21\" class=\"data row1 col21\" >None</td>\n",
       "      <td id=\"T_06dbc_row1_col22\" class=\"data row1 col22\" >OneHotEncoder()</td>\n",
       "    </tr>\n",
       "    <tr>\n",
       "      <td id=\"T_06dbc_row2_col0\" class=\"data row2 col0\" >0.756</td>\n",
       "      <td id=\"T_06dbc_row2_col1\" class=\"data row2 col1\" >0.726</td>\n",
       "      <td id=\"T_06dbc_row2_col2\" class=\"data row2 col2\" >0.786</td>\n",
       "      <td id=\"T_06dbc_row2_col3\" class=\"data row2 col3\" >RandomForestClassifier()</td>\n",
       "      <td id=\"T_06dbc_row2_col4\" class=\"data row2 col4\" >&lt;NA&gt;</td>\n",
       "      <td id=\"T_06dbc_row2_col5\" class=\"data row2 col5\" >&lt;NA&gt;</td>\n",
       "      <td id=\"T_06dbc_row2_col6\" class=\"data row2 col6\" >&lt;NA&gt;</td>\n",
       "      <td id=\"T_06dbc_row2_col7\" class=\"data row2 col7\" >&lt;NA&gt;</td>\n",
       "      <td id=\"T_06dbc_row2_col8\" class=\"data row2 col8\" >&lt;NA&gt;</td>\n",
       "      <td id=\"T_06dbc_row2_col9\" class=\"data row2 col9\" >&lt;NA&gt;</td>\n",
       "      <td id=\"T_06dbc_row2_col10\" class=\"data row2 col10\" >&lt;NA&gt;</td>\n",
       "      <td id=\"T_06dbc_row2_col11\" class=\"data row2 col11\" >&lt;NA&gt;</td>\n",
       "      <td id=\"T_06dbc_row2_col12\" class=\"data row2 col12\" >&lt;NA&gt;</td>\n",
       "      <td id=\"T_06dbc_row2_col13\" class=\"data row2 col13\" >&lt;NA&gt;</td>\n",
       "      <td id=\"T_06dbc_row2_col14\" class=\"data row2 col14\" >&lt;NA&gt;</td>\n",
       "      <td id=\"T_06dbc_row2_col15\" class=\"data row2 col15\" >&lt;NA&gt;</td>\n",
       "      <td id=\"T_06dbc_row2_col16\" class=\"data row2 col16\" >&lt;NA&gt;</td>\n",
       "      <td id=\"T_06dbc_row2_col17\" class=\"data row2 col17\" >&lt;NA&gt;</td>\n",
       "      <td id=\"T_06dbc_row2_col18\" class=\"data row2 col18\" >&lt;NA&gt;</td>\n",
       "      <td id=\"T_06dbc_row2_col19\" class=\"data row2 col19\" >SimpleImputer()</td>\n",
       "      <td id=\"T_06dbc_row2_col20\" class=\"data row2 col20\" >None</td>\n",
       "      <td id=\"T_06dbc_row2_col21\" class=\"data row2 col21\" >None</td>\n",
       "      <td id=\"T_06dbc_row2_col22\" class=\"data row2 col22\" >OneHotEncoder()</td>\n",
       "    </tr>\n",
       "    <tr>\n",
       "      <td id=\"T_06dbc_row3_col0\" class=\"data row3 col0\" >0.754</td>\n",
       "      <td id=\"T_06dbc_row3_col1\" class=\"data row3 col1\" >0.707</td>\n",
       "      <td id=\"T_06dbc_row3_col2\" class=\"data row3 col2\" >0.802</td>\n",
       "      <td id=\"T_06dbc_row3_col3\" class=\"data row3 col3\" >ExtraTreesClassifier()</td>\n",
       "      <td id=\"T_06dbc_row3_col4\" class=\"data row3 col4\" >&lt;NA&gt;</td>\n",
       "      <td id=\"T_06dbc_row3_col5\" class=\"data row3 col5\" >0.114</td>\n",
       "      <td id=\"T_06dbc_row3_col6\" class=\"data row3 col6\" >70.000</td>\n",
       "      <td id=\"T_06dbc_row3_col7\" class=\"data row3 col7\" >553.000</td>\n",
       "      <td id=\"T_06dbc_row3_col8\" class=\"data row3 col8\" >12.000</td>\n",
       "      <td id=\"T_06dbc_row3_col9\" class=\"data row3 col9\" >8.000</td>\n",
       "      <td id=\"T_06dbc_row3_col10\" class=\"data row3 col10\" >0.548</td>\n",
       "      <td id=\"T_06dbc_row3_col11\" class=\"data row3 col11\" >entropy</td>\n",
       "      <td id=\"T_06dbc_row3_col12\" class=\"data row3 col12\" >&lt;NA&gt;</td>\n",
       "      <td id=\"T_06dbc_row3_col13\" class=\"data row3 col13\" >&lt;NA&gt;</td>\n",
       "      <td id=\"T_06dbc_row3_col14\" class=\"data row3 col14\" >&lt;NA&gt;</td>\n",
       "      <td id=\"T_06dbc_row3_col15\" class=\"data row3 col15\" >&lt;NA&gt;</td>\n",
       "      <td id=\"T_06dbc_row3_col16\" class=\"data row3 col16\" >&lt;NA&gt;</td>\n",
       "      <td id=\"T_06dbc_row3_col17\" class=\"data row3 col17\" >&lt;NA&gt;</td>\n",
       "      <td id=\"T_06dbc_row3_col18\" class=\"data row3 col18\" >&lt;NA&gt;</td>\n",
       "      <td id=\"T_06dbc_row3_col19\" class=\"data row3 col19\" >SimpleImputer(strategy='median')</td>\n",
       "      <td id=\"T_06dbc_row3_col20\" class=\"data row3 col20\" >None</td>\n",
       "      <td id=\"T_06dbc_row3_col21\" class=\"data row3 col21\" >PCA('mle')</td>\n",
       "      <td id=\"T_06dbc_row3_col22\" class=\"data row3 col22\" >OneHotEncoder()</td>\n",
       "    </tr>\n",
       "    <tr>\n",
       "      <td id=\"T_06dbc_row4_col0\" class=\"data row4 col0\" >0.754</td>\n",
       "      <td id=\"T_06dbc_row4_col1\" class=\"data row4 col1\" >0.731</td>\n",
       "      <td id=\"T_06dbc_row4_col2\" class=\"data row4 col2\" >0.777</td>\n",
       "      <td id=\"T_06dbc_row4_col3\" class=\"data row4 col3\" >RandomForestClassifier()</td>\n",
       "      <td id=\"T_06dbc_row4_col4\" class=\"data row4 col4\" >&lt;NA&gt;</td>\n",
       "      <td id=\"T_06dbc_row4_col5\" class=\"data row4 col5\" >0.685</td>\n",
       "      <td id=\"T_06dbc_row4_col6\" class=\"data row4 col6\" >30.000</td>\n",
       "      <td id=\"T_06dbc_row4_col7\" class=\"data row4 col7\" >1,659.000</td>\n",
       "      <td id=\"T_06dbc_row4_col8\" class=\"data row4 col8\" >25.000</td>\n",
       "      <td id=\"T_06dbc_row4_col9\" class=\"data row4 col9\" >11.000</td>\n",
       "      <td id=\"T_06dbc_row4_col10\" class=\"data row4 col10\" >0.781</td>\n",
       "      <td id=\"T_06dbc_row4_col11\" class=\"data row4 col11\" >gini</td>\n",
       "      <td id=\"T_06dbc_row4_col12\" class=\"data row4 col12\" >&lt;NA&gt;</td>\n",
       "      <td id=\"T_06dbc_row4_col13\" class=\"data row4 col13\" >&lt;NA&gt;</td>\n",
       "      <td id=\"T_06dbc_row4_col14\" class=\"data row4 col14\" >&lt;NA&gt;</td>\n",
       "      <td id=\"T_06dbc_row4_col15\" class=\"data row4 col15\" >&lt;NA&gt;</td>\n",
       "      <td id=\"T_06dbc_row4_col16\" class=\"data row4 col16\" >&lt;NA&gt;</td>\n",
       "      <td id=\"T_06dbc_row4_col17\" class=\"data row4 col17\" >&lt;NA&gt;</td>\n",
       "      <td id=\"T_06dbc_row4_col18\" class=\"data row4 col18\" >&lt;NA&gt;</td>\n",
       "      <td id=\"T_06dbc_row4_col19\" class=\"data row4 col19\" >SimpleImputer()</td>\n",
       "      <td id=\"T_06dbc_row4_col20\" class=\"data row4 col20\" >None</td>\n",
       "      <td id=\"T_06dbc_row4_col21\" class=\"data row4 col21\" >PCA('mle')</td>\n",
       "      <td id=\"T_06dbc_row4_col22\" class=\"data row4 col22\" >OneHotEncoder()</td>\n",
       "    </tr>\n",
       "    <tr>\n",
       "      <td id=\"T_06dbc_row5_col0\" class=\"data row5 col0\" >0.752</td>\n",
       "      <td id=\"T_06dbc_row5_col1\" class=\"data row5 col1\" >0.684</td>\n",
       "      <td id=\"T_06dbc_row5_col2\" class=\"data row5 col2\" >0.819</td>\n",
       "      <td id=\"T_06dbc_row5_col3\" class=\"data row5 col3\" >LogisticRegression()</td>\n",
       "      <td id=\"T_06dbc_row5_col4\" class=\"data row5 col4\" >0.001</td>\n",
       "      <td id=\"T_06dbc_row5_col5\" class=\"data row5 col5\" >&lt;NA&gt;</td>\n",
       "      <td id=\"T_06dbc_row5_col6\" class=\"data row5 col6\" >&lt;NA&gt;</td>\n",
       "      <td id=\"T_06dbc_row5_col7\" class=\"data row5 col7\" >&lt;NA&gt;</td>\n",
       "      <td id=\"T_06dbc_row5_col8\" class=\"data row5 col8\" >&lt;NA&gt;</td>\n",
       "      <td id=\"T_06dbc_row5_col9\" class=\"data row5 col9\" >&lt;NA&gt;</td>\n",
       "      <td id=\"T_06dbc_row5_col10\" class=\"data row5 col10\" >&lt;NA&gt;</td>\n",
       "      <td id=\"T_06dbc_row5_col11\" class=\"data row5 col11\" >&lt;NA&gt;</td>\n",
       "      <td id=\"T_06dbc_row5_col12\" class=\"data row5 col12\" >&lt;NA&gt;</td>\n",
       "      <td id=\"T_06dbc_row5_col13\" class=\"data row5 col13\" >&lt;NA&gt;</td>\n",
       "      <td id=\"T_06dbc_row5_col14\" class=\"data row5 col14\" >&lt;NA&gt;</td>\n",
       "      <td id=\"T_06dbc_row5_col15\" class=\"data row5 col15\" >&lt;NA&gt;</td>\n",
       "      <td id=\"T_06dbc_row5_col16\" class=\"data row5 col16\" >&lt;NA&gt;</td>\n",
       "      <td id=\"T_06dbc_row5_col17\" class=\"data row5 col17\" >&lt;NA&gt;</td>\n",
       "      <td id=\"T_06dbc_row5_col18\" class=\"data row5 col18\" >&lt;NA&gt;</td>\n",
       "      <td id=\"T_06dbc_row5_col19\" class=\"data row5 col19\" >SimpleImputer(strategy='median')</td>\n",
       "      <td id=\"T_06dbc_row5_col20\" class=\"data row5 col20\" >MinMaxScaler()</td>\n",
       "      <td id=\"T_06dbc_row5_col21\" class=\"data row5 col21\" >None</td>\n",
       "      <td id=\"T_06dbc_row5_col22\" class=\"data row5 col22\" >OneHotEncoder()</td>\n",
       "    </tr>\n",
       "    <tr>\n",
       "      <td id=\"T_06dbc_row6_col0\" class=\"data row6 col0\" >0.751</td>\n",
       "      <td id=\"T_06dbc_row6_col1\" class=\"data row6 col1\" >0.682</td>\n",
       "      <td id=\"T_06dbc_row6_col2\" class=\"data row6 col2\" >0.821</td>\n",
       "      <td id=\"T_06dbc_row6_col3\" class=\"data row6 col3\" >RandomForestClassifier()</td>\n",
       "      <td id=\"T_06dbc_row6_col4\" class=\"data row6 col4\" >&lt;NA&gt;</td>\n",
       "      <td id=\"T_06dbc_row6_col5\" class=\"data row6 col5\" >0.303</td>\n",
       "      <td id=\"T_06dbc_row6_col6\" class=\"data row6 col6\" >81.000</td>\n",
       "      <td id=\"T_06dbc_row6_col7\" class=\"data row6 col7\" >1,063.000</td>\n",
       "      <td id=\"T_06dbc_row6_col8\" class=\"data row6 col8\" >15.000</td>\n",
       "      <td id=\"T_06dbc_row6_col9\" class=\"data row6 col9\" >27.000</td>\n",
       "      <td id=\"T_06dbc_row6_col10\" class=\"data row6 col10\" >0.502</td>\n",
       "      <td id=\"T_06dbc_row6_col11\" class=\"data row6 col11\" >gini</td>\n",
       "      <td id=\"T_06dbc_row6_col12\" class=\"data row6 col12\" >&lt;NA&gt;</td>\n",
       "      <td id=\"T_06dbc_row6_col13\" class=\"data row6 col13\" >&lt;NA&gt;</td>\n",
       "      <td id=\"T_06dbc_row6_col14\" class=\"data row6 col14\" >&lt;NA&gt;</td>\n",
       "      <td id=\"T_06dbc_row6_col15\" class=\"data row6 col15\" >&lt;NA&gt;</td>\n",
       "      <td id=\"T_06dbc_row6_col16\" class=\"data row6 col16\" >&lt;NA&gt;</td>\n",
       "      <td id=\"T_06dbc_row6_col17\" class=\"data row6 col17\" >&lt;NA&gt;</td>\n",
       "      <td id=\"T_06dbc_row6_col18\" class=\"data row6 col18\" >&lt;NA&gt;</td>\n",
       "      <td id=\"T_06dbc_row6_col19\" class=\"data row6 col19\" >SimpleImputer(strategy='median')</td>\n",
       "      <td id=\"T_06dbc_row6_col20\" class=\"data row6 col20\" >None</td>\n",
       "      <td id=\"T_06dbc_row6_col21\" class=\"data row6 col21\" >None</td>\n",
       "      <td id=\"T_06dbc_row6_col22\" class=\"data row6 col22\" >OneHotEncoder()</td>\n",
       "    </tr>\n",
       "    <tr>\n",
       "      <td id=\"T_06dbc_row7_col0\" class=\"data row7 col0\" >0.745</td>\n",
       "      <td id=\"T_06dbc_row7_col1\" class=\"data row7 col1\" >0.682</td>\n",
       "      <td id=\"T_06dbc_row7_col2\" class=\"data row7 col2\" >0.809</td>\n",
       "      <td id=\"T_06dbc_row7_col3\" class=\"data row7 col3\" >LinearSVC()</td>\n",
       "      <td id=\"T_06dbc_row7_col4\" class=\"data row7 col4\" >&lt;NA&gt;</td>\n",
       "      <td id=\"T_06dbc_row7_col5\" class=\"data row7 col5\" >&lt;NA&gt;</td>\n",
       "      <td id=\"T_06dbc_row7_col6\" class=\"data row7 col6\" >&lt;NA&gt;</td>\n",
       "      <td id=\"T_06dbc_row7_col7\" class=\"data row7 col7\" >&lt;NA&gt;</td>\n",
       "      <td id=\"T_06dbc_row7_col8\" class=\"data row7 col8\" >&lt;NA&gt;</td>\n",
       "      <td id=\"T_06dbc_row7_col9\" class=\"data row7 col9\" >&lt;NA&gt;</td>\n",
       "      <td id=\"T_06dbc_row7_col10\" class=\"data row7 col10\" >&lt;NA&gt;</td>\n",
       "      <td id=\"T_06dbc_row7_col11\" class=\"data row7 col11\" >&lt;NA&gt;</td>\n",
       "      <td id=\"T_06dbc_row7_col12\" class=\"data row7 col12\" >&lt;NA&gt;</td>\n",
       "      <td id=\"T_06dbc_row7_col13\" class=\"data row7 col13\" >&lt;NA&gt;</td>\n",
       "      <td id=\"T_06dbc_row7_col14\" class=\"data row7 col14\" >&lt;NA&gt;</td>\n",
       "      <td id=\"T_06dbc_row7_col15\" class=\"data row7 col15\" >&lt;NA&gt;</td>\n",
       "      <td id=\"T_06dbc_row7_col16\" class=\"data row7 col16\" >&lt;NA&gt;</td>\n",
       "      <td id=\"T_06dbc_row7_col17\" class=\"data row7 col17\" >&lt;NA&gt;</td>\n",
       "      <td id=\"T_06dbc_row7_col18\" class=\"data row7 col18\" >&lt;NA&gt;</td>\n",
       "      <td id=\"T_06dbc_row7_col19\" class=\"data row7 col19\" >SimpleImputer()</td>\n",
       "      <td id=\"T_06dbc_row7_col20\" class=\"data row7 col20\" >StandardScaler()</td>\n",
       "      <td id=\"T_06dbc_row7_col21\" class=\"data row7 col21\" >None</td>\n",
       "      <td id=\"T_06dbc_row7_col22\" class=\"data row7 col22\" >OneHotEncoder()</td>\n",
       "    </tr>\n",
       "    <tr>\n",
       "      <td id=\"T_06dbc_row8_col0\" class=\"data row8 col0\" >0.743</td>\n",
       "      <td id=\"T_06dbc_row8_col1\" class=\"data row8 col1\" >0.677</td>\n",
       "      <td id=\"T_06dbc_row8_col2\" class=\"data row8 col2\" >0.809</td>\n",
       "      <td id=\"T_06dbc_row8_col3\" class=\"data row8 col3\" >RandomForestClassifier()</td>\n",
       "      <td id=\"T_06dbc_row8_col4\" class=\"data row8 col4\" >&lt;NA&gt;</td>\n",
       "      <td id=\"T_06dbc_row8_col5\" class=\"data row8 col5\" >0.328</td>\n",
       "      <td id=\"T_06dbc_row8_col6\" class=\"data row8 col6\" >5.000</td>\n",
       "      <td id=\"T_06dbc_row8_col7\" class=\"data row8 col7\" >1,047.000</td>\n",
       "      <td id=\"T_06dbc_row8_col8\" class=\"data row8 col8\" >23.000</td>\n",
       "      <td id=\"T_06dbc_row8_col9\" class=\"data row8 col9\" >43.000</td>\n",
       "      <td id=\"T_06dbc_row8_col10\" class=\"data row8 col10\" >0.957</td>\n",
       "      <td id=\"T_06dbc_row8_col11\" class=\"data row8 col11\" >entropy</td>\n",
       "      <td id=\"T_06dbc_row8_col12\" class=\"data row8 col12\" >&lt;NA&gt;</td>\n",
       "      <td id=\"T_06dbc_row8_col13\" class=\"data row8 col13\" >&lt;NA&gt;</td>\n",
       "      <td id=\"T_06dbc_row8_col14\" class=\"data row8 col14\" >&lt;NA&gt;</td>\n",
       "      <td id=\"T_06dbc_row8_col15\" class=\"data row8 col15\" >&lt;NA&gt;</td>\n",
       "      <td id=\"T_06dbc_row8_col16\" class=\"data row8 col16\" >&lt;NA&gt;</td>\n",
       "      <td id=\"T_06dbc_row8_col17\" class=\"data row8 col17\" >&lt;NA&gt;</td>\n",
       "      <td id=\"T_06dbc_row8_col18\" class=\"data row8 col18\" >&lt;NA&gt;</td>\n",
       "      <td id=\"T_06dbc_row8_col19\" class=\"data row8 col19\" >SimpleImputer(strategy='median')</td>\n",
       "      <td id=\"T_06dbc_row8_col20\" class=\"data row8 col20\" >None</td>\n",
       "      <td id=\"T_06dbc_row8_col21\" class=\"data row8 col21\" >PCA('mle')</td>\n",
       "      <td id=\"T_06dbc_row8_col22\" class=\"data row8 col22\" >OneHotEncoder()</td>\n",
       "    </tr>\n",
       "    <tr>\n",
       "      <td id=\"T_06dbc_row9_col0\" class=\"data row9 col0\" >0.742</td>\n",
       "      <td id=\"T_06dbc_row9_col1\" class=\"data row9 col1\" >0.689</td>\n",
       "      <td id=\"T_06dbc_row9_col2\" class=\"data row9 col2\" >0.796</td>\n",
       "      <td id=\"T_06dbc_row9_col3\" class=\"data row9 col3\" >ExtraTreesClassifier()</td>\n",
       "      <td id=\"T_06dbc_row9_col4\" class=\"data row9 col4\" >&lt;NA&gt;</td>\n",
       "      <td id=\"T_06dbc_row9_col5\" class=\"data row9 col5\" >&lt;NA&gt;</td>\n",
       "      <td id=\"T_06dbc_row9_col6\" class=\"data row9 col6\" >&lt;NA&gt;</td>\n",
       "      <td id=\"T_06dbc_row9_col7\" class=\"data row9 col7\" >&lt;NA&gt;</td>\n",
       "      <td id=\"T_06dbc_row9_col8\" class=\"data row9 col8\" >&lt;NA&gt;</td>\n",
       "      <td id=\"T_06dbc_row9_col9\" class=\"data row9 col9\" >&lt;NA&gt;</td>\n",
       "      <td id=\"T_06dbc_row9_col10\" class=\"data row9 col10\" >&lt;NA&gt;</td>\n",
       "      <td id=\"T_06dbc_row9_col11\" class=\"data row9 col11\" >&lt;NA&gt;</td>\n",
       "      <td id=\"T_06dbc_row9_col12\" class=\"data row9 col12\" >&lt;NA&gt;</td>\n",
       "      <td id=\"T_06dbc_row9_col13\" class=\"data row9 col13\" >&lt;NA&gt;</td>\n",
       "      <td id=\"T_06dbc_row9_col14\" class=\"data row9 col14\" >&lt;NA&gt;</td>\n",
       "      <td id=\"T_06dbc_row9_col15\" class=\"data row9 col15\" >&lt;NA&gt;</td>\n",
       "      <td id=\"T_06dbc_row9_col16\" class=\"data row9 col16\" >&lt;NA&gt;</td>\n",
       "      <td id=\"T_06dbc_row9_col17\" class=\"data row9 col17\" >&lt;NA&gt;</td>\n",
       "      <td id=\"T_06dbc_row9_col18\" class=\"data row9 col18\" >&lt;NA&gt;</td>\n",
       "      <td id=\"T_06dbc_row9_col19\" class=\"data row9 col19\" >SimpleImputer()</td>\n",
       "      <td id=\"T_06dbc_row9_col20\" class=\"data row9 col20\" >None</td>\n",
       "      <td id=\"T_06dbc_row9_col21\" class=\"data row9 col21\" >None</td>\n",
       "      <td id=\"T_06dbc_row9_col22\" class=\"data row9 col22\" >OneHotEncoder()</td>\n",
       "    </tr>\n",
       "    <tr>\n",
       "      <td id=\"T_06dbc_row10_col0\" class=\"data row10 col0\" >0.741</td>\n",
       "      <td id=\"T_06dbc_row10_col1\" class=\"data row10 col1\" >0.699</td>\n",
       "      <td id=\"T_06dbc_row10_col2\" class=\"data row10 col2\" >0.782</td>\n",
       "      <td id=\"T_06dbc_row10_col3\" class=\"data row10 col3\" >XGBClassifier()</td>\n",
       "      <td id=\"T_06dbc_row10_col4\" class=\"data row10 col4\" >&lt;NA&gt;</td>\n",
       "      <td id=\"T_06dbc_row10_col5\" class=\"data row10 col5\" >&lt;NA&gt;</td>\n",
       "      <td id=\"T_06dbc_row10_col6\" class=\"data row10 col6\" >2.000</td>\n",
       "      <td id=\"T_06dbc_row10_col7\" class=\"data row10 col7\" >1,397.000</td>\n",
       "      <td id=\"T_06dbc_row10_col8\" class=\"data row10 col8\" >&lt;NA&gt;</td>\n",
       "      <td id=\"T_06dbc_row10_col9\" class=\"data row10 col9\" >&lt;NA&gt;</td>\n",
       "      <td id=\"T_06dbc_row10_col10\" class=\"data row10 col10\" >&lt;NA&gt;</td>\n",
       "      <td id=\"T_06dbc_row10_col11\" class=\"data row10 col11\" >&lt;NA&gt;</td>\n",
       "      <td id=\"T_06dbc_row10_col12\" class=\"data row10 col12\" >0.031</td>\n",
       "      <td id=\"T_06dbc_row10_col13\" class=\"data row10 col13\" >16.000</td>\n",
       "      <td id=\"T_06dbc_row10_col14\" class=\"data row10 col14\" >0.608</td>\n",
       "      <td id=\"T_06dbc_row10_col15\" class=\"data row10 col15\" >0.881</td>\n",
       "      <td id=\"T_06dbc_row10_col16\" class=\"data row10 col16\" >0.812</td>\n",
       "      <td id=\"T_06dbc_row10_col17\" class=\"data row10 col17\" >0.096</td>\n",
       "      <td id=\"T_06dbc_row10_col18\" class=\"data row10 col18\" >1.971</td>\n",
       "      <td id=\"T_06dbc_row10_col19\" class=\"data row10 col19\" >SimpleImputer(strategy='median')</td>\n",
       "      <td id=\"T_06dbc_row10_col20\" class=\"data row10 col20\" >None</td>\n",
       "      <td id=\"T_06dbc_row10_col21\" class=\"data row10 col21\" >None</td>\n",
       "      <td id=\"T_06dbc_row10_col22\" class=\"data row10 col22\" >OneHotEncoder()</td>\n",
       "    </tr>\n",
       "    <tr>\n",
       "      <td id=\"T_06dbc_row11_col0\" class=\"data row11 col0\" >0.739</td>\n",
       "      <td id=\"T_06dbc_row11_col1\" class=\"data row11 col1\" >0.670</td>\n",
       "      <td id=\"T_06dbc_row11_col2\" class=\"data row11 col2\" >0.807</td>\n",
       "      <td id=\"T_06dbc_row11_col3\" class=\"data row11 col3\" >LogisticRegression()</td>\n",
       "      <td id=\"T_06dbc_row11_col4\" class=\"data row11 col4\" >23.327</td>\n",
       "      <td id=\"T_06dbc_row11_col5\" class=\"data row11 col5\" >&lt;NA&gt;</td>\n",
       "      <td id=\"T_06dbc_row11_col6\" class=\"data row11 col6\" >&lt;NA&gt;</td>\n",
       "      <td id=\"T_06dbc_row11_col7\" class=\"data row11 col7\" >&lt;NA&gt;</td>\n",
       "      <td id=\"T_06dbc_row11_col8\" class=\"data row11 col8\" >&lt;NA&gt;</td>\n",
       "      <td id=\"T_06dbc_row11_col9\" class=\"data row11 col9\" >&lt;NA&gt;</td>\n",
       "      <td id=\"T_06dbc_row11_col10\" class=\"data row11 col10\" >&lt;NA&gt;</td>\n",
       "      <td id=\"T_06dbc_row11_col11\" class=\"data row11 col11\" >&lt;NA&gt;</td>\n",
       "      <td id=\"T_06dbc_row11_col12\" class=\"data row11 col12\" >&lt;NA&gt;</td>\n",
       "      <td id=\"T_06dbc_row11_col13\" class=\"data row11 col13\" >&lt;NA&gt;</td>\n",
       "      <td id=\"T_06dbc_row11_col14\" class=\"data row11 col14\" >&lt;NA&gt;</td>\n",
       "      <td id=\"T_06dbc_row11_col15\" class=\"data row11 col15\" >&lt;NA&gt;</td>\n",
       "      <td id=\"T_06dbc_row11_col16\" class=\"data row11 col16\" >&lt;NA&gt;</td>\n",
       "      <td id=\"T_06dbc_row11_col17\" class=\"data row11 col17\" >&lt;NA&gt;</td>\n",
       "      <td id=\"T_06dbc_row11_col18\" class=\"data row11 col18\" >&lt;NA&gt;</td>\n",
       "      <td id=\"T_06dbc_row11_col19\" class=\"data row11 col19\" >SimpleImputer(strategy='median')</td>\n",
       "      <td id=\"T_06dbc_row11_col20\" class=\"data row11 col20\" >StandardScaler()</td>\n",
       "      <td id=\"T_06dbc_row11_col21\" class=\"data row11 col21\" >None</td>\n",
       "      <td id=\"T_06dbc_row11_col22\" class=\"data row11 col22\" >OneHotEncoder()</td>\n",
       "    </tr>\n",
       "    <tr>\n",
       "      <td id=\"T_06dbc_row12_col0\" class=\"data row12 col0\" >0.737</td>\n",
       "      <td id=\"T_06dbc_row12_col1\" class=\"data row12 col1\" >0.693</td>\n",
       "      <td id=\"T_06dbc_row12_col2\" class=\"data row12 col2\" >0.780</td>\n",
       "      <td id=\"T_06dbc_row12_col3\" class=\"data row12 col3\" >ExtraTreesClassifier()</td>\n",
       "      <td id=\"T_06dbc_row12_col4\" class=\"data row12 col4\" >&lt;NA&gt;</td>\n",
       "      <td id=\"T_06dbc_row12_col5\" class=\"data row12 col5\" >0.681</td>\n",
       "      <td id=\"T_06dbc_row12_col6\" class=\"data row12 col6\" >38.000</td>\n",
       "      <td id=\"T_06dbc_row12_col7\" class=\"data row12 col7\" >1,461.000</td>\n",
       "      <td id=\"T_06dbc_row12_col8\" class=\"data row12 col8\" >23.000</td>\n",
       "      <td id=\"T_06dbc_row12_col9\" class=\"data row12 col9\" >10.000</td>\n",
       "      <td id=\"T_06dbc_row12_col10\" class=\"data row12 col10\" >0.553</td>\n",
       "      <td id=\"T_06dbc_row12_col11\" class=\"data row12 col11\" >gini</td>\n",
       "      <td id=\"T_06dbc_row12_col12\" class=\"data row12 col12\" >&lt;NA&gt;</td>\n",
       "      <td id=\"T_06dbc_row12_col13\" class=\"data row12 col13\" >&lt;NA&gt;</td>\n",
       "      <td id=\"T_06dbc_row12_col14\" class=\"data row12 col14\" >&lt;NA&gt;</td>\n",
       "      <td id=\"T_06dbc_row12_col15\" class=\"data row12 col15\" >&lt;NA&gt;</td>\n",
       "      <td id=\"T_06dbc_row12_col16\" class=\"data row12 col16\" >&lt;NA&gt;</td>\n",
       "      <td id=\"T_06dbc_row12_col17\" class=\"data row12 col17\" >&lt;NA&gt;</td>\n",
       "      <td id=\"T_06dbc_row12_col18\" class=\"data row12 col18\" >&lt;NA&gt;</td>\n",
       "      <td id=\"T_06dbc_row12_col19\" class=\"data row12 col19\" >SimpleImputer(strategy='median')</td>\n",
       "      <td id=\"T_06dbc_row12_col20\" class=\"data row12 col20\" >None</td>\n",
       "      <td id=\"T_06dbc_row12_col21\" class=\"data row12 col21\" >None</td>\n",
       "      <td id=\"T_06dbc_row12_col22\" class=\"data row12 col22\" >CustomOrdinalEncoder()</td>\n",
       "    </tr>\n",
       "    <tr>\n",
       "      <td id=\"T_06dbc_row13_col0\" class=\"data row13 col0\" >0.736</td>\n",
       "      <td id=\"T_06dbc_row13_col1\" class=\"data row13 col1\" >0.728</td>\n",
       "      <td id=\"T_06dbc_row13_col2\" class=\"data row13 col2\" >0.743</td>\n",
       "      <td id=\"T_06dbc_row13_col3\" class=\"data row13 col3\" >RandomForestClassifier()</td>\n",
       "      <td id=\"T_06dbc_row13_col4\" class=\"data row13 col4\" >&lt;NA&gt;</td>\n",
       "      <td id=\"T_06dbc_row13_col5\" class=\"data row13 col5\" >0.762</td>\n",
       "      <td id=\"T_06dbc_row13_col6\" class=\"data row13 col6\" >88.000</td>\n",
       "      <td id=\"T_06dbc_row13_col7\" class=\"data row13 col7\" >1,235.000</td>\n",
       "      <td id=\"T_06dbc_row13_col8\" class=\"data row13 col8\" >8.000</td>\n",
       "      <td id=\"T_06dbc_row13_col9\" class=\"data row13 col9\" >7.000</td>\n",
       "      <td id=\"T_06dbc_row13_col10\" class=\"data row13 col10\" >0.666</td>\n",
       "      <td id=\"T_06dbc_row13_col11\" class=\"data row13 col11\" >gini</td>\n",
       "      <td id=\"T_06dbc_row13_col12\" class=\"data row13 col12\" >&lt;NA&gt;</td>\n",
       "      <td id=\"T_06dbc_row13_col13\" class=\"data row13 col13\" >&lt;NA&gt;</td>\n",
       "      <td id=\"T_06dbc_row13_col14\" class=\"data row13 col14\" >&lt;NA&gt;</td>\n",
       "      <td id=\"T_06dbc_row13_col15\" class=\"data row13 col15\" >&lt;NA&gt;</td>\n",
       "      <td id=\"T_06dbc_row13_col16\" class=\"data row13 col16\" >&lt;NA&gt;</td>\n",
       "      <td id=\"T_06dbc_row13_col17\" class=\"data row13 col17\" >&lt;NA&gt;</td>\n",
       "      <td id=\"T_06dbc_row13_col18\" class=\"data row13 col18\" >&lt;NA&gt;</td>\n",
       "      <td id=\"T_06dbc_row13_col19\" class=\"data row13 col19\" >SimpleImputer(strategy='median')</td>\n",
       "      <td id=\"T_06dbc_row13_col20\" class=\"data row13 col20\" >None</td>\n",
       "      <td id=\"T_06dbc_row13_col21\" class=\"data row13 col21\" >PCA('mle')</td>\n",
       "      <td id=\"T_06dbc_row13_col22\" class=\"data row13 col22\" >CustomOrdinalEncoder()</td>\n",
       "    </tr>\n",
       "    <tr>\n",
       "      <td id=\"T_06dbc_row14_col0\" class=\"data row14 col0\" >0.734</td>\n",
       "      <td id=\"T_06dbc_row14_col1\" class=\"data row14 col1\" >0.676</td>\n",
       "      <td id=\"T_06dbc_row14_col2\" class=\"data row14 col2\" >0.791</td>\n",
       "      <td id=\"T_06dbc_row14_col3\" class=\"data row14 col3\" >ExtraTreesClassifier()</td>\n",
       "      <td id=\"T_06dbc_row14_col4\" class=\"data row14 col4\" >&lt;NA&gt;</td>\n",
       "      <td id=\"T_06dbc_row14_col5\" class=\"data row14 col5\" >0.710</td>\n",
       "      <td id=\"T_06dbc_row14_col6\" class=\"data row14 col6\" >15.000</td>\n",
       "      <td id=\"T_06dbc_row14_col7\" class=\"data row14 col7\" >1,493.000</td>\n",
       "      <td id=\"T_06dbc_row14_col8\" class=\"data row14 col8\" >33.000</td>\n",
       "      <td id=\"T_06dbc_row14_col9\" class=\"data row14 col9\" >27.000</td>\n",
       "      <td id=\"T_06dbc_row14_col10\" class=\"data row14 col10\" >0.914</td>\n",
       "      <td id=\"T_06dbc_row14_col11\" class=\"data row14 col11\" >gini</td>\n",
       "      <td id=\"T_06dbc_row14_col12\" class=\"data row14 col12\" >&lt;NA&gt;</td>\n",
       "      <td id=\"T_06dbc_row14_col13\" class=\"data row14 col13\" >&lt;NA&gt;</td>\n",
       "      <td id=\"T_06dbc_row14_col14\" class=\"data row14 col14\" >&lt;NA&gt;</td>\n",
       "      <td id=\"T_06dbc_row14_col15\" class=\"data row14 col15\" >&lt;NA&gt;</td>\n",
       "      <td id=\"T_06dbc_row14_col16\" class=\"data row14 col16\" >&lt;NA&gt;</td>\n",
       "      <td id=\"T_06dbc_row14_col17\" class=\"data row14 col17\" >&lt;NA&gt;</td>\n",
       "      <td id=\"T_06dbc_row14_col18\" class=\"data row14 col18\" >&lt;NA&gt;</td>\n",
       "      <td id=\"T_06dbc_row14_col19\" class=\"data row14 col19\" >SimpleImputer(strategy='most_frequent')</td>\n",
       "      <td id=\"T_06dbc_row14_col20\" class=\"data row14 col20\" >None</td>\n",
       "      <td id=\"T_06dbc_row14_col21\" class=\"data row14 col21\" >PCA('mle')</td>\n",
       "      <td id=\"T_06dbc_row14_col22\" class=\"data row14 col22\" >OneHotEncoder()</td>\n",
       "    </tr>\n",
       "    <tr>\n",
       "      <td id=\"T_06dbc_row15_col0\" class=\"data row15 col0\" >0.726</td>\n",
       "      <td id=\"T_06dbc_row15_col1\" class=\"data row15 col1\" >0.689</td>\n",
       "      <td id=\"T_06dbc_row15_col2\" class=\"data row15 col2\" >0.762</td>\n",
       "      <td id=\"T_06dbc_row15_col3\" class=\"data row15 col3\" >LogisticRegression()</td>\n",
       "      <td id=\"T_06dbc_row15_col4\" class=\"data row15 col4\" >0.000</td>\n",
       "      <td id=\"T_06dbc_row15_col5\" class=\"data row15 col5\" >&lt;NA&gt;</td>\n",
       "      <td id=\"T_06dbc_row15_col6\" class=\"data row15 col6\" >&lt;NA&gt;</td>\n",
       "      <td id=\"T_06dbc_row15_col7\" class=\"data row15 col7\" >&lt;NA&gt;</td>\n",
       "      <td id=\"T_06dbc_row15_col8\" class=\"data row15 col8\" >&lt;NA&gt;</td>\n",
       "      <td id=\"T_06dbc_row15_col9\" class=\"data row15 col9\" >&lt;NA&gt;</td>\n",
       "      <td id=\"T_06dbc_row15_col10\" class=\"data row15 col10\" >&lt;NA&gt;</td>\n",
       "      <td id=\"T_06dbc_row15_col11\" class=\"data row15 col11\" >&lt;NA&gt;</td>\n",
       "      <td id=\"T_06dbc_row15_col12\" class=\"data row15 col12\" >&lt;NA&gt;</td>\n",
       "      <td id=\"T_06dbc_row15_col13\" class=\"data row15 col13\" >&lt;NA&gt;</td>\n",
       "      <td id=\"T_06dbc_row15_col14\" class=\"data row15 col14\" >&lt;NA&gt;</td>\n",
       "      <td id=\"T_06dbc_row15_col15\" class=\"data row15 col15\" >&lt;NA&gt;</td>\n",
       "      <td id=\"T_06dbc_row15_col16\" class=\"data row15 col16\" >&lt;NA&gt;</td>\n",
       "      <td id=\"T_06dbc_row15_col17\" class=\"data row15 col17\" >&lt;NA&gt;</td>\n",
       "      <td id=\"T_06dbc_row15_col18\" class=\"data row15 col18\" >&lt;NA&gt;</td>\n",
       "      <td id=\"T_06dbc_row15_col19\" class=\"data row15 col19\" >SimpleImputer(strategy='median')</td>\n",
       "      <td id=\"T_06dbc_row15_col20\" class=\"data row15 col20\" >StandardScaler()</td>\n",
       "      <td id=\"T_06dbc_row15_col21\" class=\"data row15 col21\" >None</td>\n",
       "      <td id=\"T_06dbc_row15_col22\" class=\"data row15 col22\" >CustomOrdinalEncoder()</td>\n",
       "    </tr>\n",
       "    <tr>\n",
       "      <td id=\"T_06dbc_row16_col0\" class=\"data row16 col0\" >0.726</td>\n",
       "      <td id=\"T_06dbc_row16_col1\" class=\"data row16 col1\" >0.646</td>\n",
       "      <td id=\"T_06dbc_row16_col2\" class=\"data row16 col2\" >0.806</td>\n",
       "      <td id=\"T_06dbc_row16_col3\" class=\"data row16 col3\" >LinearSVC()</td>\n",
       "      <td id=\"T_06dbc_row16_col4\" class=\"data row16 col4\" >10.021</td>\n",
       "      <td id=\"T_06dbc_row16_col5\" class=\"data row16 col5\" >&lt;NA&gt;</td>\n",
       "      <td id=\"T_06dbc_row16_col6\" class=\"data row16 col6\" >&lt;NA&gt;</td>\n",
       "      <td id=\"T_06dbc_row16_col7\" class=\"data row16 col7\" >&lt;NA&gt;</td>\n",
       "      <td id=\"T_06dbc_row16_col8\" class=\"data row16 col8\" >&lt;NA&gt;</td>\n",
       "      <td id=\"T_06dbc_row16_col9\" class=\"data row16 col9\" >&lt;NA&gt;</td>\n",
       "      <td id=\"T_06dbc_row16_col10\" class=\"data row16 col10\" >&lt;NA&gt;</td>\n",
       "      <td id=\"T_06dbc_row16_col11\" class=\"data row16 col11\" >&lt;NA&gt;</td>\n",
       "      <td id=\"T_06dbc_row16_col12\" class=\"data row16 col12\" >&lt;NA&gt;</td>\n",
       "      <td id=\"T_06dbc_row16_col13\" class=\"data row16 col13\" >&lt;NA&gt;</td>\n",
       "      <td id=\"T_06dbc_row16_col14\" class=\"data row16 col14\" >&lt;NA&gt;</td>\n",
       "      <td id=\"T_06dbc_row16_col15\" class=\"data row16 col15\" >&lt;NA&gt;</td>\n",
       "      <td id=\"T_06dbc_row16_col16\" class=\"data row16 col16\" >&lt;NA&gt;</td>\n",
       "      <td id=\"T_06dbc_row16_col17\" class=\"data row16 col17\" >&lt;NA&gt;</td>\n",
       "      <td id=\"T_06dbc_row16_col18\" class=\"data row16 col18\" >&lt;NA&gt;</td>\n",
       "      <td id=\"T_06dbc_row16_col19\" class=\"data row16 col19\" >SimpleImputer()</td>\n",
       "      <td id=\"T_06dbc_row16_col20\" class=\"data row16 col20\" >MinMaxScaler()</td>\n",
       "      <td id=\"T_06dbc_row16_col21\" class=\"data row16 col21\" >PCA('mle')</td>\n",
       "      <td id=\"T_06dbc_row16_col22\" class=\"data row16 col22\" >CustomOrdinalEncoder()</td>\n",
       "    </tr>\n",
       "    <tr>\n",
       "      <td id=\"T_06dbc_row17_col0\" class=\"data row17 col0\" >0.725</td>\n",
       "      <td id=\"T_06dbc_row17_col1\" class=\"data row17 col1\" >0.673</td>\n",
       "      <td id=\"T_06dbc_row17_col2\" class=\"data row17 col2\" >0.777</td>\n",
       "      <td id=\"T_06dbc_row17_col3\" class=\"data row17 col3\" >XGBClassifier()</td>\n",
       "      <td id=\"T_06dbc_row17_col4\" class=\"data row17 col4\" >&lt;NA&gt;</td>\n",
       "      <td id=\"T_06dbc_row17_col5\" class=\"data row17 col5\" >&lt;NA&gt;</td>\n",
       "      <td id=\"T_06dbc_row17_col6\" class=\"data row17 col6\" >13.000</td>\n",
       "      <td id=\"T_06dbc_row17_col7\" class=\"data row17 col7\" >1,153.000</td>\n",
       "      <td id=\"T_06dbc_row17_col8\" class=\"data row17 col8\" >&lt;NA&gt;</td>\n",
       "      <td id=\"T_06dbc_row17_col9\" class=\"data row17 col9\" >&lt;NA&gt;</td>\n",
       "      <td id=\"T_06dbc_row17_col10\" class=\"data row17 col10\" >&lt;NA&gt;</td>\n",
       "      <td id=\"T_06dbc_row17_col11\" class=\"data row17 col11\" >&lt;NA&gt;</td>\n",
       "      <td id=\"T_06dbc_row17_col12\" class=\"data row17 col12\" >0.026</td>\n",
       "      <td id=\"T_06dbc_row17_col13\" class=\"data row17 col13\" >3.000</td>\n",
       "      <td id=\"T_06dbc_row17_col14\" class=\"data row17 col14\" >0.685</td>\n",
       "      <td id=\"T_06dbc_row17_col15\" class=\"data row17 col15\" >0.549</td>\n",
       "      <td id=\"T_06dbc_row17_col16\" class=\"data row17 col16\" >0.802</td>\n",
       "      <td id=\"T_06dbc_row17_col17\" class=\"data row17 col17\" >0.016</td>\n",
       "      <td id=\"T_06dbc_row17_col18\" class=\"data row17 col18\" >2.353</td>\n",
       "      <td id=\"T_06dbc_row17_col19\" class=\"data row17 col19\" >SimpleImputer()</td>\n",
       "      <td id=\"T_06dbc_row17_col20\" class=\"data row17 col20\" >None</td>\n",
       "      <td id=\"T_06dbc_row17_col21\" class=\"data row17 col21\" >PCA('mle')</td>\n",
       "      <td id=\"T_06dbc_row17_col22\" class=\"data row17 col22\" >CustomOrdinalEncoder()</td>\n",
       "    </tr>\n",
       "    <tr>\n",
       "      <td id=\"T_06dbc_row18_col0\" class=\"data row18 col0\" >0.722</td>\n",
       "      <td id=\"T_06dbc_row18_col1\" class=\"data row18 col1\" >0.684</td>\n",
       "      <td id=\"T_06dbc_row18_col2\" class=\"data row18 col2\" >0.760</td>\n",
       "      <td id=\"T_06dbc_row18_col3\" class=\"data row18 col3\" >LogisticRegression()</td>\n",
       "      <td id=\"T_06dbc_row18_col4\" class=\"data row18 col4\" >0.000</td>\n",
       "      <td id=\"T_06dbc_row18_col5\" class=\"data row18 col5\" >&lt;NA&gt;</td>\n",
       "      <td id=\"T_06dbc_row18_col6\" class=\"data row18 col6\" >&lt;NA&gt;</td>\n",
       "      <td id=\"T_06dbc_row18_col7\" class=\"data row18 col7\" >&lt;NA&gt;</td>\n",
       "      <td id=\"T_06dbc_row18_col8\" class=\"data row18 col8\" >&lt;NA&gt;</td>\n",
       "      <td id=\"T_06dbc_row18_col9\" class=\"data row18 col9\" >&lt;NA&gt;</td>\n",
       "      <td id=\"T_06dbc_row18_col10\" class=\"data row18 col10\" >&lt;NA&gt;</td>\n",
       "      <td id=\"T_06dbc_row18_col11\" class=\"data row18 col11\" >&lt;NA&gt;</td>\n",
       "      <td id=\"T_06dbc_row18_col12\" class=\"data row18 col12\" >&lt;NA&gt;</td>\n",
       "      <td id=\"T_06dbc_row18_col13\" class=\"data row18 col13\" >&lt;NA&gt;</td>\n",
       "      <td id=\"T_06dbc_row18_col14\" class=\"data row18 col14\" >&lt;NA&gt;</td>\n",
       "      <td id=\"T_06dbc_row18_col15\" class=\"data row18 col15\" >&lt;NA&gt;</td>\n",
       "      <td id=\"T_06dbc_row18_col16\" class=\"data row18 col16\" >&lt;NA&gt;</td>\n",
       "      <td id=\"T_06dbc_row18_col17\" class=\"data row18 col17\" >&lt;NA&gt;</td>\n",
       "      <td id=\"T_06dbc_row18_col18\" class=\"data row18 col18\" >&lt;NA&gt;</td>\n",
       "      <td id=\"T_06dbc_row18_col19\" class=\"data row18 col19\" >SimpleImputer(strategy='median')</td>\n",
       "      <td id=\"T_06dbc_row18_col20\" class=\"data row18 col20\" >StandardScaler()</td>\n",
       "      <td id=\"T_06dbc_row18_col21\" class=\"data row18 col21\" >PCA('mle')</td>\n",
       "      <td id=\"T_06dbc_row18_col22\" class=\"data row18 col22\" >CustomOrdinalEncoder()</td>\n",
       "    </tr>\n",
       "    <tr>\n",
       "      <td id=\"T_06dbc_row19_col0\" class=\"data row19 col0\" >0.721</td>\n",
       "      <td id=\"T_06dbc_row19_col1\" class=\"data row19 col1\" >0.648</td>\n",
       "      <td id=\"T_06dbc_row19_col2\" class=\"data row19 col2\" >0.794</td>\n",
       "      <td id=\"T_06dbc_row19_col3\" class=\"data row19 col3\" >ExtraTreesClassifier()</td>\n",
       "      <td id=\"T_06dbc_row19_col4\" class=\"data row19 col4\" >&lt;NA&gt;</td>\n",
       "      <td id=\"T_06dbc_row19_col5\" class=\"data row19 col5\" >0.740</td>\n",
       "      <td id=\"T_06dbc_row19_col6\" class=\"data row19 col6\" >14.000</td>\n",
       "      <td id=\"T_06dbc_row19_col7\" class=\"data row19 col7\" >1,645.000</td>\n",
       "      <td id=\"T_06dbc_row19_col8\" class=\"data row19 col8\" >5.000</td>\n",
       "      <td id=\"T_06dbc_row19_col9\" class=\"data row19 col9\" >43.000</td>\n",
       "      <td id=\"T_06dbc_row19_col10\" class=\"data row19 col10\" >0.741</td>\n",
       "      <td id=\"T_06dbc_row19_col11\" class=\"data row19 col11\" >entropy</td>\n",
       "      <td id=\"T_06dbc_row19_col12\" class=\"data row19 col12\" >&lt;NA&gt;</td>\n",
       "      <td id=\"T_06dbc_row19_col13\" class=\"data row19 col13\" >&lt;NA&gt;</td>\n",
       "      <td id=\"T_06dbc_row19_col14\" class=\"data row19 col14\" >&lt;NA&gt;</td>\n",
       "      <td id=\"T_06dbc_row19_col15\" class=\"data row19 col15\" >&lt;NA&gt;</td>\n",
       "      <td id=\"T_06dbc_row19_col16\" class=\"data row19 col16\" >&lt;NA&gt;</td>\n",
       "      <td id=\"T_06dbc_row19_col17\" class=\"data row19 col17\" >&lt;NA&gt;</td>\n",
       "      <td id=\"T_06dbc_row19_col18\" class=\"data row19 col18\" >&lt;NA&gt;</td>\n",
       "      <td id=\"T_06dbc_row19_col19\" class=\"data row19 col19\" >SimpleImputer(strategy='most_frequent')</td>\n",
       "      <td id=\"T_06dbc_row19_col20\" class=\"data row19 col20\" >None</td>\n",
       "      <td id=\"T_06dbc_row19_col21\" class=\"data row19 col21\" >PCA('mle')</td>\n",
       "      <td id=\"T_06dbc_row19_col22\" class=\"data row19 col22\" >CustomOrdinalEncoder()</td>\n",
       "    </tr>\n",
       "    <tr>\n",
       "      <td id=\"T_06dbc_row20_col0\" class=\"data row20 col0\" >0.719</td>\n",
       "      <td id=\"T_06dbc_row20_col1\" class=\"data row20 col1\" >0.637</td>\n",
       "      <td id=\"T_06dbc_row20_col2\" class=\"data row20 col2\" >0.802</td>\n",
       "      <td id=\"T_06dbc_row20_col3\" class=\"data row20 col3\" >LinearSVC()</td>\n",
       "      <td id=\"T_06dbc_row20_col4\" class=\"data row20 col4\" >0.361</td>\n",
       "      <td id=\"T_06dbc_row20_col5\" class=\"data row20 col5\" >&lt;NA&gt;</td>\n",
       "      <td id=\"T_06dbc_row20_col6\" class=\"data row20 col6\" >&lt;NA&gt;</td>\n",
       "      <td id=\"T_06dbc_row20_col7\" class=\"data row20 col7\" >&lt;NA&gt;</td>\n",
       "      <td id=\"T_06dbc_row20_col8\" class=\"data row20 col8\" >&lt;NA&gt;</td>\n",
       "      <td id=\"T_06dbc_row20_col9\" class=\"data row20 col9\" >&lt;NA&gt;</td>\n",
       "      <td id=\"T_06dbc_row20_col10\" class=\"data row20 col10\" >&lt;NA&gt;</td>\n",
       "      <td id=\"T_06dbc_row20_col11\" class=\"data row20 col11\" >&lt;NA&gt;</td>\n",
       "      <td id=\"T_06dbc_row20_col12\" class=\"data row20 col12\" >&lt;NA&gt;</td>\n",
       "      <td id=\"T_06dbc_row20_col13\" class=\"data row20 col13\" >&lt;NA&gt;</td>\n",
       "      <td id=\"T_06dbc_row20_col14\" class=\"data row20 col14\" >&lt;NA&gt;</td>\n",
       "      <td id=\"T_06dbc_row20_col15\" class=\"data row20 col15\" >&lt;NA&gt;</td>\n",
       "      <td id=\"T_06dbc_row20_col16\" class=\"data row20 col16\" >&lt;NA&gt;</td>\n",
       "      <td id=\"T_06dbc_row20_col17\" class=\"data row20 col17\" >&lt;NA&gt;</td>\n",
       "      <td id=\"T_06dbc_row20_col18\" class=\"data row20 col18\" >&lt;NA&gt;</td>\n",
       "      <td id=\"T_06dbc_row20_col19\" class=\"data row20 col19\" >SimpleImputer(strategy='median')</td>\n",
       "      <td id=\"T_06dbc_row20_col20\" class=\"data row20 col20\" >MinMaxScaler()</td>\n",
       "      <td id=\"T_06dbc_row20_col21\" class=\"data row20 col21\" >PCA('mle')</td>\n",
       "      <td id=\"T_06dbc_row20_col22\" class=\"data row20 col22\" >CustomOrdinalEncoder()</td>\n",
       "    </tr>\n",
       "    <tr>\n",
       "      <td id=\"T_06dbc_row21_col0\" class=\"data row21 col0\" >0.719</td>\n",
       "      <td id=\"T_06dbc_row21_col1\" class=\"data row21 col1\" >0.667</td>\n",
       "      <td id=\"T_06dbc_row21_col2\" class=\"data row21 col2\" >0.772</td>\n",
       "      <td id=\"T_06dbc_row21_col3\" class=\"data row21 col3\" >XGBClassifier()</td>\n",
       "      <td id=\"T_06dbc_row21_col4\" class=\"data row21 col4\" >&lt;NA&gt;</td>\n",
       "      <td id=\"T_06dbc_row21_col5\" class=\"data row21 col5\" >&lt;NA&gt;</td>\n",
       "      <td id=\"T_06dbc_row21_col6\" class=\"data row21 col6\" >12.000</td>\n",
       "      <td id=\"T_06dbc_row21_col7\" class=\"data row21 col7\" >945.000</td>\n",
       "      <td id=\"T_06dbc_row21_col8\" class=\"data row21 col8\" >&lt;NA&gt;</td>\n",
       "      <td id=\"T_06dbc_row21_col9\" class=\"data row21 col9\" >&lt;NA&gt;</td>\n",
       "      <td id=\"T_06dbc_row21_col10\" class=\"data row21 col10\" >&lt;NA&gt;</td>\n",
       "      <td id=\"T_06dbc_row21_col11\" class=\"data row21 col11\" >&lt;NA&gt;</td>\n",
       "      <td id=\"T_06dbc_row21_col12\" class=\"data row21 col12\" >0.156</td>\n",
       "      <td id=\"T_06dbc_row21_col13\" class=\"data row21 col13\" >21.000</td>\n",
       "      <td id=\"T_06dbc_row21_col14\" class=\"data row21 col14\" >0.990</td>\n",
       "      <td id=\"T_06dbc_row21_col15\" class=\"data row21 col15\" >0.851</td>\n",
       "      <td id=\"T_06dbc_row21_col16\" class=\"data row21 col16\" >0.658</td>\n",
       "      <td id=\"T_06dbc_row21_col17\" class=\"data row21 col17\" >0.071</td>\n",
       "      <td id=\"T_06dbc_row21_col18\" class=\"data row21 col18\" >3.523</td>\n",
       "      <td id=\"T_06dbc_row21_col19\" class=\"data row21 col19\" >SimpleImputer()</td>\n",
       "      <td id=\"T_06dbc_row21_col20\" class=\"data row21 col20\" >None</td>\n",
       "      <td id=\"T_06dbc_row21_col21\" class=\"data row21 col21\" >PCA('mle')</td>\n",
       "      <td id=\"T_06dbc_row21_col22\" class=\"data row21 col22\" >OneHotEncoder()</td>\n",
       "    </tr>\n",
       "    <tr>\n",
       "      <td id=\"T_06dbc_row22_col0\" class=\"data row22 col0\" >0.718</td>\n",
       "      <td id=\"T_06dbc_row22_col1\" class=\"data row22 col1\" >0.695</td>\n",
       "      <td id=\"T_06dbc_row22_col2\" class=\"data row22 col2\" >0.740</td>\n",
       "      <td id=\"T_06dbc_row22_col3\" class=\"data row22 col3\" >XGBClassifier()</td>\n",
       "      <td id=\"T_06dbc_row22_col4\" class=\"data row22 col4\" >&lt;NA&gt;</td>\n",
       "      <td id=\"T_06dbc_row22_col5\" class=\"data row22 col5\" >&lt;NA&gt;</td>\n",
       "      <td id=\"T_06dbc_row22_col6\" class=\"data row22 col6\" >&lt;NA&gt;</td>\n",
       "      <td id=\"T_06dbc_row22_col7\" class=\"data row22 col7\" >&lt;NA&gt;</td>\n",
       "      <td id=\"T_06dbc_row22_col8\" class=\"data row22 col8\" >&lt;NA&gt;</td>\n",
       "      <td id=\"T_06dbc_row22_col9\" class=\"data row22 col9\" >&lt;NA&gt;</td>\n",
       "      <td id=\"T_06dbc_row22_col10\" class=\"data row22 col10\" >&lt;NA&gt;</td>\n",
       "      <td id=\"T_06dbc_row22_col11\" class=\"data row22 col11\" >&lt;NA&gt;</td>\n",
       "      <td id=\"T_06dbc_row22_col12\" class=\"data row22 col12\" >&lt;NA&gt;</td>\n",
       "      <td id=\"T_06dbc_row22_col13\" class=\"data row22 col13\" >&lt;NA&gt;</td>\n",
       "      <td id=\"T_06dbc_row22_col14\" class=\"data row22 col14\" >&lt;NA&gt;</td>\n",
       "      <td id=\"T_06dbc_row22_col15\" class=\"data row22 col15\" >&lt;NA&gt;</td>\n",
       "      <td id=\"T_06dbc_row22_col16\" class=\"data row22 col16\" >&lt;NA&gt;</td>\n",
       "      <td id=\"T_06dbc_row22_col17\" class=\"data row22 col17\" >&lt;NA&gt;</td>\n",
       "      <td id=\"T_06dbc_row22_col18\" class=\"data row22 col18\" >&lt;NA&gt;</td>\n",
       "      <td id=\"T_06dbc_row22_col19\" class=\"data row22 col19\" >SimpleImputer()</td>\n",
       "      <td id=\"T_06dbc_row22_col20\" class=\"data row22 col20\" >None</td>\n",
       "      <td id=\"T_06dbc_row22_col21\" class=\"data row22 col21\" >None</td>\n",
       "      <td id=\"T_06dbc_row22_col22\" class=\"data row22 col22\" >OneHotEncoder()</td>\n",
       "    </tr>\n",
       "    <tr>\n",
       "      <td id=\"T_06dbc_row23_col0\" class=\"data row23 col0\" >0.709</td>\n",
       "      <td id=\"T_06dbc_row23_col1\" class=\"data row23 col1\" >0.693</td>\n",
       "      <td id=\"T_06dbc_row23_col2\" class=\"data row23 col2\" >0.725</td>\n",
       "      <td id=\"T_06dbc_row23_col3\" class=\"data row23 col3\" >XGBClassifier()</td>\n",
       "      <td id=\"T_06dbc_row23_col4\" class=\"data row23 col4\" >&lt;NA&gt;</td>\n",
       "      <td id=\"T_06dbc_row23_col5\" class=\"data row23 col5\" >&lt;NA&gt;</td>\n",
       "      <td id=\"T_06dbc_row23_col6\" class=\"data row23 col6\" >8.000</td>\n",
       "      <td id=\"T_06dbc_row23_col7\" class=\"data row23 col7\" >1,657.000</td>\n",
       "      <td id=\"T_06dbc_row23_col8\" class=\"data row23 col8\" >&lt;NA&gt;</td>\n",
       "      <td id=\"T_06dbc_row23_col9\" class=\"data row23 col9\" >&lt;NA&gt;</td>\n",
       "      <td id=\"T_06dbc_row23_col10\" class=\"data row23 col10\" >&lt;NA&gt;</td>\n",
       "      <td id=\"T_06dbc_row23_col11\" class=\"data row23 col11\" >&lt;NA&gt;</td>\n",
       "      <td id=\"T_06dbc_row23_col12\" class=\"data row23 col12\" >0.084</td>\n",
       "      <td id=\"T_06dbc_row23_col13\" class=\"data row23 col13\" >5.000</td>\n",
       "      <td id=\"T_06dbc_row23_col14\" class=\"data row23 col14\" >0.977</td>\n",
       "      <td id=\"T_06dbc_row23_col15\" class=\"data row23 col15\" >0.847</td>\n",
       "      <td id=\"T_06dbc_row23_col16\" class=\"data row23 col16\" >0.788</td>\n",
       "      <td id=\"T_06dbc_row23_col17\" class=\"data row23 col17\" >0.417</td>\n",
       "      <td id=\"T_06dbc_row23_col18\" class=\"data row23 col18\" >1.290</td>\n",
       "      <td id=\"T_06dbc_row23_col19\" class=\"data row23 col19\" >SimpleImputer(strategy='median')</td>\n",
       "      <td id=\"T_06dbc_row23_col20\" class=\"data row23 col20\" >None</td>\n",
       "      <td id=\"T_06dbc_row23_col21\" class=\"data row23 col21\" >None</td>\n",
       "      <td id=\"T_06dbc_row23_col22\" class=\"data row23 col22\" >OneHotEncoder()</td>\n",
       "    </tr>\n",
       "    <tr>\n",
       "      <td id=\"T_06dbc_row24_col0\" class=\"data row24 col0\" >0.654</td>\n",
       "      <td id=\"T_06dbc_row24_col1\" class=\"data row24 col1\" >0.579</td>\n",
       "      <td id=\"T_06dbc_row24_col2\" class=\"data row24 col2\" >0.728</td>\n",
       "      <td id=\"T_06dbc_row24_col3\" class=\"data row24 col3\" >LinearSVC()</td>\n",
       "      <td id=\"T_06dbc_row24_col4\" class=\"data row24 col4\" >0.000</td>\n",
       "      <td id=\"T_06dbc_row24_col5\" class=\"data row24 col5\" >&lt;NA&gt;</td>\n",
       "      <td id=\"T_06dbc_row24_col6\" class=\"data row24 col6\" >&lt;NA&gt;</td>\n",
       "      <td id=\"T_06dbc_row24_col7\" class=\"data row24 col7\" >&lt;NA&gt;</td>\n",
       "      <td id=\"T_06dbc_row24_col8\" class=\"data row24 col8\" >&lt;NA&gt;</td>\n",
       "      <td id=\"T_06dbc_row24_col9\" class=\"data row24 col9\" >&lt;NA&gt;</td>\n",
       "      <td id=\"T_06dbc_row24_col10\" class=\"data row24 col10\" >&lt;NA&gt;</td>\n",
       "      <td id=\"T_06dbc_row24_col11\" class=\"data row24 col11\" >&lt;NA&gt;</td>\n",
       "      <td id=\"T_06dbc_row24_col12\" class=\"data row24 col12\" >&lt;NA&gt;</td>\n",
       "      <td id=\"T_06dbc_row24_col13\" class=\"data row24 col13\" >&lt;NA&gt;</td>\n",
       "      <td id=\"T_06dbc_row24_col14\" class=\"data row24 col14\" >&lt;NA&gt;</td>\n",
       "      <td id=\"T_06dbc_row24_col15\" class=\"data row24 col15\" >&lt;NA&gt;</td>\n",
       "      <td id=\"T_06dbc_row24_col16\" class=\"data row24 col16\" >&lt;NA&gt;</td>\n",
       "      <td id=\"T_06dbc_row24_col17\" class=\"data row24 col17\" >&lt;NA&gt;</td>\n",
       "      <td id=\"T_06dbc_row24_col18\" class=\"data row24 col18\" >&lt;NA&gt;</td>\n",
       "      <td id=\"T_06dbc_row24_col19\" class=\"data row24 col19\" >SimpleImputer(strategy='most_frequent')</td>\n",
       "      <td id=\"T_06dbc_row24_col20\" class=\"data row24 col20\" >MinMaxScaler()</td>\n",
       "      <td id=\"T_06dbc_row24_col21\" class=\"data row24 col21\" >None</td>\n",
       "      <td id=\"T_06dbc_row24_col22\" class=\"data row24 col22\" >OneHotEncoder()</td>\n",
       "    </tr>\n",
       "  </tbody>\n",
       "</table>\n"
      ],
      "text/plain": [
       "<pandas.io.formats.style.Styler at 0x16ca800a0>"
      ]
     },
     "execution_count": 38,
     "metadata": {},
     "output_type": "execute_result"
    }
   ],
   "source": [
    "results.to_formatted_dataframe()"
   ]
  },
  {
   "cell_type": "code",
   "execution_count": 15,
   "id": "9d437fdf",
   "metadata": {},
   "outputs": [
    {
     "data": {
      "text/plain": [
       "[<RunInfo: artifact_uri='./mlflow-artifact-root/1/d63ca93a86a846d5a9614d4e6c783011/artifacts', end_time=1654660108948, experiment_id='1', lifecycle_stage='active', run_id='d63ca93a86a846d5a9614d4e6c783011', run_uuid='d63ca93a86a846d5a9614d4e6c783011', start_time=1654660089522, status='FINISHED', user_id='shanekercheval'>,\n",
       " <RunInfo: artifact_uri='./mlflow-artifact-root/1/f36a535d81d5401a875e6cb9235a66a1/artifacts', end_time=1654660017364, experiment_id='1', lifecycle_stage='active', run_id='f36a535d81d5401a875e6cb9235a66a1', run_uuid='f36a535d81d5401a875e6cb9235a66a1', start_time=1654659997670, status='FINISHED', user_id='shanekercheval'>,\n",
       " <RunInfo: artifact_uri='./mlflow-artifact-root/1/1f1398c3c06f4725acfb9602130beb07/artifacts', end_time=1654658238885, experiment_id='1', lifecycle_stage='active', run_id='1f1398c3c06f4725acfb9602130beb07', run_uuid='1f1398c3c06f4725acfb9602130beb07', start_time=1654658217481, status='FINISHED', user_id='shanekercheval'>,\n",
       " <RunInfo: artifact_uri='./mlflow-artifact-root/1/e2c7384f33654f41a3110628f26da192/artifacts', end_time=1654657708482, experiment_id='1', lifecycle_stage='active', run_id='e2c7384f33654f41a3110628f26da192', run_uuid='e2c7384f33654f41a3110628f26da192', start_time=1654657689398, status='FINISHED', user_id='shanekercheval'>,\n",
       " <RunInfo: artifact_uri='./mlflow-artifact-root/1/a65772920c67453f83ef04fda6c981c6/artifacts', end_time=1654657362971, experiment_id='1', lifecycle_stage='active', run_id='a65772920c67453f83ef04fda6c981c6', run_uuid='a65772920c67453f83ef04fda6c981c6', start_time=1654657342403, status='FAILED', user_id='shanekercheval'>,\n",
       " <RunInfo: artifact_uri='./mlflow-artifact-root/1/8ff68016c3c9415084344496b2690ae2/artifacts', end_time=1654657184729, experiment_id='1', lifecycle_stage='active', run_id='8ff68016c3c9415084344496b2690ae2', run_uuid='8ff68016c3c9415084344496b2690ae2', start_time=1654657163955, status='FAILED', user_id='shanekercheval'>,\n",
       " <RunInfo: artifact_uri='./mlflow-artifact-root/1/82356c4c5dee412b9b53438791fbff61/artifacts', end_time=1654655895060, experiment_id='1', lifecycle_stage='active', run_id='82356c4c5dee412b9b53438791fbff61', run_uuid='82356c4c5dee412b9b53438791fbff61', start_time=1654655876803, status='FINISHED', user_id='shanekercheval'>]"
      ]
     },
     "execution_count": 15,
     "metadata": {},
     "output_type": "execute_result"
    }
   ],
   "source": [
    "runs = client.list_run_infos(experiment_id=credit_experiment.experiment_id)\n",
    "runs"
   ]
  },
  {
   "cell_type": "code",
   "execution_count": 18,
   "id": "3556dab5",
   "metadata": {},
   "outputs": [
    {
     "data": {
      "text/plain": [
       "<ModelVersion: creation_timestamp=1654660108881, current_stage='Production', description='', last_updated_timestamp=1654660527135, name='credit_model', run_id='d63ca93a86a846d5a9614d4e6c783011', run_link='', source='./mlflow-artifact-root/1/d63ca93a86a846d5a9614d4e6c783011/artifacts/model', status='READY', status_message='', tags={}, user_id='', version='2'>"
      ]
     },
     "execution_count": 18,
     "metadata": {},
     "output_type": "execute_result"
    }
   ],
   "source": [
    "client.transition_model_version_stage(\n",
    "    name=\"credit_model\",\n",
    "    version=2,\n",
    "    stage=\"Production\"\n",
    ")"
   ]
  },
  {
   "cell_type": "code",
   "execution_count": 26,
   "id": "daa2131e",
   "metadata": {},
   "outputs": [
    {
     "data": {
      "text/plain": [
       "'2'"
      ]
     },
     "execution_count": 26,
     "metadata": {},
     "output_type": "execute_result"
    }
   ],
   "source": [
    "client.get_registered_model(name='credit_model').latest_versions[-1].version"
   ]
  },
  {
   "cell_type": "code",
   "execution_count": 14,
   "id": "1d4e3700",
   "metadata": {
    "pycharm": {
     "name": "#%%\n"
    }
   },
   "outputs": [],
   "source": [
    "runs = client.list_run_infos(experiment_id=credit_experiment.experiment_id)\n",
    "run = runs[0]\n",
    "run_ids = [x.run_id for x in runs]"
   ]
  },
  {
   "cell_type": "code",
   "execution_count": 39,
   "id": "5cbe7f2d",
   "metadata": {
    "pycharm": {
     "name": "#%%\n"
    }
   },
   "outputs": [
    {
     "data": {
      "text/plain": [
       "'e3130874a3954cb88862298db633f13c'"
      ]
     },
     "execution_count": 39,
     "metadata": {},
     "output_type": "execute_result"
    }
   ],
   "source": [
    "import numpy as np\n",
    "index = np.argmax(np.array([x.start_time for x in runs]))\n",
    "latest_run_id = run_ids[index]\n",
    "latest_run_id"
   ]
  },
  {
   "cell_type": "code",
   "execution_count": 38,
   "id": "9364b36d",
   "metadata": {
    "pycharm": {
     "name": "#%%\n"
    }
   },
   "outputs": [
    {
     "data": {
      "text/plain": [
       "'/Users/shanekercheval/repos/data-science-template/experiment.yaml'"
      ]
     },
     "execution_count": 38,
     "metadata": {},
     "output_type": "execute_result"
    }
   ],
   "source": [
    "client.download_artifacts(latest_run_id, \"experiment.yaml\", '.')"
   ]
  },
  {
   "cell_type": "code",
   "execution_count": 45,
   "id": "29fd9ea0",
   "metadata": {
    "pycharm": {
     "name": "#%%\n"
    }
   },
   "outputs": [
    {
     "data": {
      "text/plain": [
       "<RunInfo: artifact_uri='file:///Users/shanekercheval/repos/data-science-template/mlruns/0/e3130874a3954cb88862298db633f13c/artifacts', end_time=1654571328073, experiment_id='0', lifecycle_stage='active', run_id='e3130874a3954cb88862298db633f13c', run_uuid='e3130874a3954cb88862298db633f13c', start_time=1654571309665, status='FINISHED', user_id='shanekercheval'>"
      ]
     },
     "execution_count": 45,
     "metadata": {},
     "output_type": "execute_result"
    }
   ],
   "source": [
    "client.get_run(latest_run_id).info"
   ]
  },
  {
   "cell_type": "code",
   "execution_count": 57,
   "id": "c0787aca",
   "metadata": {
    "pycharm": {
     "name": "#%%\n"
    }
   },
   "outputs": [
    {
     "data": {
      "text/plain": [
       "<Run: data=<RunData: metrics={'roc_auc': 0.7589679600998016,\n",
       " 'training_accuracy_score': 0.77125,\n",
       " 'training_f1_score': 0.7610303120687889,\n",
       " 'training_precision_score': 0.7605660985454675,\n",
       " 'training_recall_score': 0.77125,\n",
       " 'training_score': 0.77125}, params={'memory': 'None',\n",
       " 'model': 'LinearSVC(C=0.28074562508300177, random_state=42)',\n",
       " 'model__C': '0.28074562508300177',\n",
       " 'model__class_weight': 'None',\n",
       " 'model__dual': 'True',\n",
       " 'model__fit_intercept': 'True',\n",
       " 'model__intercept_scaling': '1',\n",
       " 'model__loss': 'squared_hinge',\n",
       " 'model__max_iter': '1000',\n",
       " 'model__multi_class': 'ovr',\n",
       " 'model__penalty': 'l2',\n",
       " 'model__random_state': '42',\n",
       " 'model__tol': '0.0001',\n",
       " 'model__verbose': '0',\n",
       " 'prep': \"ColumnTransformer(transformers=[('numeric',\\n\"\n",
       "         \"                                 Pipeline(steps=[('imputer',\\n\"\n",
       "         '                                                  '\n",
       "         \"TransformerChooser(transformer=SimpleImputer(strategy='most_frequent'))),\\n\"\n",
       "         '                  ...',\n",
       " 'prep__n_jobs': 'None',\n",
       " 'prep__non_numeric': \"Pipeline(steps=[('encoder',\\n\"\n",
       "                      '                 '\n",
       "                      \"TransformerChooser(transformer=OneHotEncoder(handle_unknown='ignore')))])\",\n",
       " 'prep__non_numeric__encoder': \"TransformerChooser(transformer=OneHotEncoder(handle_unknown='ignore'))\",\n",
       " 'prep__non_numeric__encoder__transformer': \"OneHotEncoder(handle_unknown='ignore')\",\n",
       " 'prep__non_numeric__encoder__transformer__categories': 'auto',\n",
       " 'prep__non_numeric__encoder__transformer__drop': 'None',\n",
       " 'prep__non_numeric__encoder__transformer__dtype': \"<class 'numpy.float64'>\",\n",
       " 'prep__non_numeric__encoder__transformer__handle_unknown': 'ignore',\n",
       " 'prep__non_numeric__encoder__transformer__max_categories': 'None',\n",
       " 'prep__non_numeric__encoder__transformer__min_frequency': 'None',\n",
       " 'prep__non_numeric__encoder__transformer__sparse': 'True',\n",
       " 'prep__non_numeric__memory': 'None',\n",
       " 'prep__non_numeric__steps': \"[('encoder', \"\n",
       "                             \"TransformerChooser(transformer=OneHotEncoder(handle_unknown='ignore')))]\",\n",
       " 'prep__non_numeric__verbose': 'False',\n",
       " 'prep__numeric': \"Pipeline(steps=[('imputer',\\n\"\n",
       "                  '                 '\n",
       "                  \"TransformerChooser(transformer=SimpleImputer(strategy='most_frequent'))),\\n\"\n",
       "                  \"                ('scaler', \"\n",
       "                  'TransformerChooser(transformer=MinMaxScaler())),\\n'\n",
       "                  \"                ('pca',\\n\"\n",
       "                  '                 Transformer...',\n",
       " 'prep__numeric__imputer': \"TransformerChooser(transformer=SimpleImputer(strategy='most_frequent'))\",\n",
       " 'prep__numeric__imputer__transformer': \"SimpleImputer(strategy='most_frequent')\",\n",
       " 'prep__numeric__imputer__transformer__add_indicator': 'False',\n",
       " 'prep__numeric__imputer__transformer__copy': 'True',\n",
       " 'prep__numeric__imputer__transformer__fill_value': 'None',\n",
       " 'prep__numeric__imputer__transformer__missing_values': 'nan',\n",
       " 'prep__numeric__imputer__transformer__strategy': 'most_frequent',\n",
       " 'prep__numeric__imputer__transformer__verbose': 'deprecated',\n",
       " 'prep__numeric__memory': 'None',\n",
       " 'prep__numeric__pca': \"TransformerChooser(transformer=PCA(n_components='mle'))\",\n",
       " 'prep__numeric__pca__transformer': \"PCA(n_components='mle')\",\n",
       " 'prep__numeric__pca__transformer__copy': 'True',\n",
       " 'prep__numeric__pca__transformer__iterated_power': 'auto',\n",
       " 'prep__numeric__pca__transformer__n_components': 'mle',\n",
       " 'prep__numeric__pca__transformer__n_oversamples': '10',\n",
       " 'prep__numeric__pca__transformer__power_iteration_normalizer': 'auto',\n",
       " 'prep__numeric__pca__transformer__random_state': 'None',\n",
       " 'prep__numeric__pca__transformer__svd_solver': 'auto',\n",
       " 'prep__numeric__pca__transformer__tol': '0.0',\n",
       " 'prep__numeric__pca__transformer__whiten': 'False',\n",
       " 'prep__numeric__scaler': 'TransformerChooser(transformer=MinMaxScaler())',\n",
       " 'prep__numeric__scaler__transformer': 'MinMaxScaler()',\n",
       " 'prep__numeric__scaler__transformer__clip': 'False',\n",
       " 'prep__numeric__scaler__transformer__copy': 'True',\n",
       " 'prep__numeric__scaler__transformer__feature_range': '(0, 1)',\n",
       " 'prep__numeric__steps': \"[('imputer', \"\n",
       "                         \"TransformerChooser(transformer=SimpleImputer(strategy='most_frequent'))), \"\n",
       "                         \"('scaler', \"\n",
       "                         'TransformerChooser(transformer=MinMaxScaler())), '\n",
       "                         \"('pca', \"\n",
       "                         \"TransformerChooser(transformer=PCA(n_components='mle')))]\",\n",
       " 'prep__numeric__verbose': 'False',\n",
       " 'prep__remainder': 'drop',\n",
       " 'prep__sparse_threshold': '0.3',\n",
       " 'prep__transformer_weights': 'None',\n",
       " 'prep__transformers': \"[('numeric', Pipeline(steps=[('imputer',\\n\"\n",
       "                       '                 '\n",
       "                       \"TransformerChooser(transformer=SimpleImputer(strategy='most_frequent'))),\\n\"\n",
       "                       \"                ('scaler', \"\n",
       "                       'TransformerChooser(transformer=MinMaxScaler())),\\n'\n",
       "                       \"                ('pca',\\n\"\n",
       "                       '               ...',\n",
       " 'prep__verbose': 'False',\n",
       " 'prep__verbose_feature_names_out': 'True',\n",
       " 'steps': \"[('prep', ColumnTransformer(transformers=[('numeric',\\n\"\n",
       "          \"                                 Pipeline(steps=[('imputer',\\n\"\n",
       "          '                                                  '\n",
       "          \"TransformerChooser(transformer=SimpleImputer(strategy='most_frequent'))),\\n\"\n",
       "          '        ...',\n",
       " 'verbose': 'False'}, tags={'estimator_class': 'sklearn.pipeline.Pipeline',\n",
       " 'estimator_name': 'Pipeline',\n",
       " 'mlflow.log-model.history': '[{\"run_id\": \"e3130874a3954cb88862298db633f13c\", '\n",
       "                             '\"artifact_path\": \"model\", \"utc_time_created\": '\n",
       "                             '\"2022-06-07 03:08:46.085348\", \"flavors\": '\n",
       "                             '{\"python_function\": {\"model_path\": \"model.pkl\", '\n",
       "                             '\"loader_module\": \"mlflow.sklearn\", '\n",
       "                             '\"python_version\": \"3.9.10\", \"env\": '\n",
       "                             '\"conda.yaml\"}, \"sklearn\": {\"pickled_model\": '\n",
       "                             '\"model.pkl\", \"sklearn_version\": \"1.1.1\", '\n",
       "                             '\"serialization_format\": \"cloudpickle\", \"code\": '\n",
       "                             'null}}, \"model_uuid\": '\n",
       "                             '\"435a528386484f1db71aa49df0055def\", '\n",
       "                             '\"mlflow_version\": \"1.26.1\"}]',\n",
       " 'mlflow.note.content': '2022_06_06_20_08_29',\n",
       " 'mlflow.source.git.commit': 'b86662dff81afdbc527ea2b42b642aa5e760bfaf',\n",
       " 'mlflow.source.name': 'source/scripts/commands.py',\n",
       " 'mlflow.source.type': 'LOCAL',\n",
       " 'mlflow.user': 'shanekercheval',\n",
       " 'type': 'BayesSearchCV'}>, info=<RunInfo: artifact_uri='file:///Users/shanekercheval/repos/data-science-template/mlruns/0/e3130874a3954cb88862298db633f13c/artifacts', end_time=1654571328073, experiment_id='0', lifecycle_stage='active', run_id='e3130874a3954cb88862298db633f13c', run_uuid='e3130874a3954cb88862298db633f13c', start_time=1654571309665, status='FINISHED', user_id='shanekercheval'>>"
      ]
     },
     "execution_count": 57,
     "metadata": {},
     "output_type": "execute_result"
    }
   ],
   "source": [
    "run1 = client.get_run(latest_run_id)\n",
    "run1"
   ]
  },
  {
   "cell_type": "code",
   "execution_count": 55,
   "id": "7349db02",
   "metadata": {
    "pycharm": {
     "name": "#%%\n"
    }
   },
   "outputs": [
    {
     "data": {
      "text/plain": [
       "<RunInfo: artifact_uri='file:///Users/shanekercheval/repos/data-science-template/mlruns/0/e3130874a3954cb88862298db633f13c/artifacts', end_time=1654571328073, experiment_id='0', lifecycle_stage='active', run_id='e3130874a3954cb88862298db633f13c', run_uuid='e3130874a3954cb88862298db633f13c', start_time=1654571309665, status='FINISHED', user_id='shanekercheval'>"
      ]
     },
     "execution_count": 55,
     "metadata": {},
     "output_type": "execute_result"
    }
   ],
   "source": [
    "run1."
   ]
  },
  {
   "cell_type": "code",
   "execution_count": 46,
   "id": "3658639b",
   "metadata": {
    "pycharm": {
     "name": "#%%\n"
    }
   },
   "outputs": [
    {
     "data": {
      "text/plain": [
       "<RunData: metrics={'roc_auc': 0.7589679600998016,\n",
       " 'training_accuracy_score': 0.77125,\n",
       " 'training_f1_score': 0.7610303120687889,\n",
       " 'training_precision_score': 0.7605660985454675,\n",
       " 'training_recall_score': 0.77125,\n",
       " 'training_score': 0.77125}, params={'memory': 'None',\n",
       " 'model': 'LinearSVC(C=0.28074562508300177, random_state=42)',\n",
       " 'model__C': '0.28074562508300177',\n",
       " 'model__class_weight': 'None',\n",
       " 'model__dual': 'True',\n",
       " 'model__fit_intercept': 'True',\n",
       " 'model__intercept_scaling': '1',\n",
       " 'model__loss': 'squared_hinge',\n",
       " 'model__max_iter': '1000',\n",
       " 'model__multi_class': 'ovr',\n",
       " 'model__penalty': 'l2',\n",
       " 'model__random_state': '42',\n",
       " 'model__tol': '0.0001',\n",
       " 'model__verbose': '0',\n",
       " 'prep': \"ColumnTransformer(transformers=[('numeric',\\n\"\n",
       "         \"                                 Pipeline(steps=[('imputer',\\n\"\n",
       "         '                                                  '\n",
       "         \"TransformerChooser(transformer=SimpleImputer(strategy='most_frequent'))),\\n\"\n",
       "         '                  ...',\n",
       " 'prep__n_jobs': 'None',\n",
       " 'prep__non_numeric': \"Pipeline(steps=[('encoder',\\n\"\n",
       "                      '                 '\n",
       "                      \"TransformerChooser(transformer=OneHotEncoder(handle_unknown='ignore')))])\",\n",
       " 'prep__non_numeric__encoder': \"TransformerChooser(transformer=OneHotEncoder(handle_unknown='ignore'))\",\n",
       " 'prep__non_numeric__encoder__transformer': \"OneHotEncoder(handle_unknown='ignore')\",\n",
       " 'prep__non_numeric__encoder__transformer__categories': 'auto',\n",
       " 'prep__non_numeric__encoder__transformer__drop': 'None',\n",
       " 'prep__non_numeric__encoder__transformer__dtype': \"<class 'numpy.float64'>\",\n",
       " 'prep__non_numeric__encoder__transformer__handle_unknown': 'ignore',\n",
       " 'prep__non_numeric__encoder__transformer__max_categories': 'None',\n",
       " 'prep__non_numeric__encoder__transformer__min_frequency': 'None',\n",
       " 'prep__non_numeric__encoder__transformer__sparse': 'True',\n",
       " 'prep__non_numeric__memory': 'None',\n",
       " 'prep__non_numeric__steps': \"[('encoder', \"\n",
       "                             \"TransformerChooser(transformer=OneHotEncoder(handle_unknown='ignore')))]\",\n",
       " 'prep__non_numeric__verbose': 'False',\n",
       " 'prep__numeric': \"Pipeline(steps=[('imputer',\\n\"\n",
       "                  '                 '\n",
       "                  \"TransformerChooser(transformer=SimpleImputer(strategy='most_frequent'))),\\n\"\n",
       "                  \"                ('scaler', \"\n",
       "                  'TransformerChooser(transformer=MinMaxScaler())),\\n'\n",
       "                  \"                ('pca',\\n\"\n",
       "                  '                 Transformer...',\n",
       " 'prep__numeric__imputer': \"TransformerChooser(transformer=SimpleImputer(strategy='most_frequent'))\",\n",
       " 'prep__numeric__imputer__transformer': \"SimpleImputer(strategy='most_frequent')\",\n",
       " 'prep__numeric__imputer__transformer__add_indicator': 'False',\n",
       " 'prep__numeric__imputer__transformer__copy': 'True',\n",
       " 'prep__numeric__imputer__transformer__fill_value': 'None',\n",
       " 'prep__numeric__imputer__transformer__missing_values': 'nan',\n",
       " 'prep__numeric__imputer__transformer__strategy': 'most_frequent',\n",
       " 'prep__numeric__imputer__transformer__verbose': 'deprecated',\n",
       " 'prep__numeric__memory': 'None',\n",
       " 'prep__numeric__pca': \"TransformerChooser(transformer=PCA(n_components='mle'))\",\n",
       " 'prep__numeric__pca__transformer': \"PCA(n_components='mle')\",\n",
       " 'prep__numeric__pca__transformer__copy': 'True',\n",
       " 'prep__numeric__pca__transformer__iterated_power': 'auto',\n",
       " 'prep__numeric__pca__transformer__n_components': 'mle',\n",
       " 'prep__numeric__pca__transformer__n_oversamples': '10',\n",
       " 'prep__numeric__pca__transformer__power_iteration_normalizer': 'auto',\n",
       " 'prep__numeric__pca__transformer__random_state': 'None',\n",
       " 'prep__numeric__pca__transformer__svd_solver': 'auto',\n",
       " 'prep__numeric__pca__transformer__tol': '0.0',\n",
       " 'prep__numeric__pca__transformer__whiten': 'False',\n",
       " 'prep__numeric__scaler': 'TransformerChooser(transformer=MinMaxScaler())',\n",
       " 'prep__numeric__scaler__transformer': 'MinMaxScaler()',\n",
       " 'prep__numeric__scaler__transformer__clip': 'False',\n",
       " 'prep__numeric__scaler__transformer__copy': 'True',\n",
       " 'prep__numeric__scaler__transformer__feature_range': '(0, 1)',\n",
       " 'prep__numeric__steps': \"[('imputer', \"\n",
       "                         \"TransformerChooser(transformer=SimpleImputer(strategy='most_frequent'))), \"\n",
       "                         \"('scaler', \"\n",
       "                         'TransformerChooser(transformer=MinMaxScaler())), '\n",
       "                         \"('pca', \"\n",
       "                         \"TransformerChooser(transformer=PCA(n_components='mle')))]\",\n",
       " 'prep__numeric__verbose': 'False',\n",
       " 'prep__remainder': 'drop',\n",
       " 'prep__sparse_threshold': '0.3',\n",
       " 'prep__transformer_weights': 'None',\n",
       " 'prep__transformers': \"[('numeric', Pipeline(steps=[('imputer',\\n\"\n",
       "                       '                 '\n",
       "                       \"TransformerChooser(transformer=SimpleImputer(strategy='most_frequent'))),\\n\"\n",
       "                       \"                ('scaler', \"\n",
       "                       'TransformerChooser(transformer=MinMaxScaler())),\\n'\n",
       "                       \"                ('pca',\\n\"\n",
       "                       '               ...',\n",
       " 'prep__verbose': 'False',\n",
       " 'prep__verbose_feature_names_out': 'True',\n",
       " 'steps': \"[('prep', ColumnTransformer(transformers=[('numeric',\\n\"\n",
       "          \"                                 Pipeline(steps=[('imputer',\\n\"\n",
       "          '                                                  '\n",
       "          \"TransformerChooser(transformer=SimpleImputer(strategy='most_frequent'))),\\n\"\n",
       "          '        ...',\n",
       " 'verbose': 'False'}, tags={'estimator_class': 'sklearn.pipeline.Pipeline',\n",
       " 'estimator_name': 'Pipeline',\n",
       " 'mlflow.log-model.history': '[{\"run_id\": \"e3130874a3954cb88862298db633f13c\", '\n",
       "                             '\"artifact_path\": \"model\", \"utc_time_created\": '\n",
       "                             '\"2022-06-07 03:08:46.085348\", \"flavors\": '\n",
       "                             '{\"python_function\": {\"model_path\": \"model.pkl\", '\n",
       "                             '\"loader_module\": \"mlflow.sklearn\", '\n",
       "                             '\"python_version\": \"3.9.10\", \"env\": '\n",
       "                             '\"conda.yaml\"}, \"sklearn\": {\"pickled_model\": '\n",
       "                             '\"model.pkl\", \"sklearn_version\": \"1.1.1\", '\n",
       "                             '\"serialization_format\": \"cloudpickle\", \"code\": '\n",
       "                             'null}}, \"model_uuid\": '\n",
       "                             '\"435a528386484f1db71aa49df0055def\", '\n",
       "                             '\"mlflow_version\": \"1.26.1\"}]',\n",
       " 'mlflow.note.content': '2022_06_06_20_08_29',\n",
       " 'mlflow.source.git.commit': 'b86662dff81afdbc527ea2b42b642aa5e760bfaf',\n",
       " 'mlflow.source.name': 'source/scripts/commands.py',\n",
       " 'mlflow.source.type': 'LOCAL',\n",
       " 'mlflow.user': 'shanekercheval',\n",
       " 'type': 'BayesSearchCV'}>"
      ]
     },
     "execution_count": 46,
     "metadata": {},
     "output_type": "execute_result"
    }
   ],
   "source": [
    "client.get_run(latest_run_id).data"
   ]
  },
  {
   "cell_type": "code",
   "execution_count": 14,
   "id": "e251f633",
   "metadata": {
    "pycharm": {
     "name": "#%%\n"
    }
   },
   "outputs": [
    {
     "data": {
      "text/plain": [
       "<Experiment: artifact_location='file:///Users/shanekercheval/repos/data-science-template/mlruns/0', experiment_id='0', lifecycle_stage='active', name='Default', tags={}>"
      ]
     },
     "execution_count": 14,
     "metadata": {},
     "output_type": "execute_result"
    }
   ],
   "source": [
    "experiments[0]"
   ]
  },
  {
   "cell_type": "code",
   "execution_count": null,
   "id": "063ddfb9",
   "metadata": {
    "pycharm": {
     "name": "#%%\n"
    }
   },
   "outputs": [],
   "source": [
    "import mlflow\n",
    "import os\n",
    "from mlflow.tracking import MlflowClient\n",
    "client = MlflowClient()\n",
    "local_dir = \"<local-path-to-store-artifacts>\"\n",
    "if not os.path.exists(local_dir):\n",
    "    os.mkdir(local_dir)\n",
    "\n",
    "# Creating sample artifact \"features.txt\".\n",
    "features = \"rooms, zipcode, median_price, school_rating, transport\"\n",
    "with open(\"features.txt\", 'w') as f:\n",
    "    f.write(features)\n",
    "\n",
    "# Creating sample MLflow run & logging artifact \"features.txt\" to the MLflow run.\n",
    "with mlflow.start_run() as run:\n",
    "    mlflow.log_artifact(\"features.txt\", artifact_path=\"features\")\n",
    "\n",
    "# Download the artifact to local storage.\n",
    "local_path = client.download_artifacts(<run-id>, \"features\", local_dir)\n",
    "print(\"Artifacts downloaded in: {}\".format(local_dir))\n",
    "print(\"Artifacts: {}\".format(local_dir))"
   ]
  },
  {
   "cell_type": "code",
   "execution_count": null,
   "id": "7dfb6faf",
   "metadata": {
    "pycharm": {
     "name": "#%%\n"
    }
   },
   "outputs": [],
   "source": [
    "client."
   ]
  },
  {
   "cell_type": "code",
   "execution_count": null,
   "id": "86ca5309",
   "metadata": {
    "pycharm": {
     "name": "#%%\n"
    }
   },
   "outputs": [],
   "source": []
  },
  {
   "cell_type": "code",
   "execution_count": 4,
   "id": "5e393a7f",
   "metadata": {
    "pycharm": {
     "name": "#%%\n"
    }
   },
   "outputs": [
    {
     "data": {
      "text/plain": [
       "True"
      ]
     },
     "execution_count": 4,
     "metadata": {},
     "output_type": "execute_result"
    }
   ],
   "source": [
    "mlflow.last_active_run() is Noneaa"
   ]
  },
  {
   "cell_type": "code",
   "execution_count": null,
   "id": "e288fa65",
   "metadata": {},
   "outputs": [],
   "source": [
    "timestamp = '2022_06_05_12_33_24'"
   ]
  },
  {
   "cell_type": "code",
   "execution_count": null,
   "id": "c5f3fe51",
   "metadata": {},
   "outputs": [],
   "source": [
    "%run \"source/config/notebook_settings.py\"\n",
    "from source.library.utilities import Timer, log_info, get_config\n",
    "\n",
    "config = get_config()\n",
    "experiment_directory = os.path.join(config['EXPERIMENTS']['DIRECTORY'], f\"experiment__{timestamp}\")\n",
    "log_info(f\"Experiment Directory: {experiment_directory}\")\n",
    "\n",
    "def file_path(file_name):\n",
    "    return os.path.join(experiment_directory, file_name)"
   ]
  },
  {
   "cell_type": "markdown",
   "id": "1930b7e6",
   "metadata": {
    "pycharm": {
     "name": "#%% md\n"
    }
   },
   "source": [
    "# Load Data"
   ]
  },
  {
   "cell_type": "code",
   "execution_count": null,
   "id": "306eb67c",
   "metadata": {},
   "outputs": [],
   "source": [
    "with Timer(\"Loading training/test datasets\"):\n",
    "    X_train = pd.pandas.read_pickle(file_path('x_train.pkl'))\n",
    "    X_test = pd.pandas.read_pickle(file_path('x_test.pkl'))\n",
    "    y_train = pd.pandas.read_pickle(file_path('y_train.pkl'))\n",
    "    y_test = pd.pandas.read_pickle(file_path('y_test.pkl'))"
   ]
  },
  {
   "cell_type": "code",
   "execution_count": null,
   "id": "4c9fbfbf",
   "metadata": {},
   "outputs": [],
   "source": [
    "log_info(X_train.shape)\n",
    "log_info(len(y_train))\n",
    "\n",
    "log_info(X_test.shape)\n",
    "log_info(len(y_test))"
   ]
  },
  {
   "cell_type": "code",
   "execution_count": null,
   "id": "fb45ffa3",
   "metadata": {},
   "outputs": [],
   "source": [
    "np.unique(y_train, return_counts=True)"
   ]
  },
  {
   "cell_type": "code",
   "execution_count": null,
   "id": "4e3d1362",
   "metadata": {},
   "outputs": [],
   "source": [
    "np.unique(y_train, return_counts=True)[1] / np.sum(np.unique(y_train, return_counts=True)[1])"
   ]
  },
  {
   "cell_type": "code",
   "execution_count": null,
   "id": "216eb8e1",
   "metadata": {},
   "outputs": [],
   "source": [
    "np.unique(y_test, return_counts=True)[1] / np.sum(np.unique(y_test, return_counts=True)[1])"
   ]
  },
  {
   "cell_type": "markdown",
   "id": "4cb2736c",
   "metadata": {},
   "source": [
    "---"
   ]
  },
  {
   "cell_type": "code",
   "execution_count": null,
   "id": "a14624fd",
   "metadata": {
    "pycharm": {
     "name": "#%%\n"
    }
   },
   "outputs": [],
   "source": [
    "file_name = file_path('experiment.yaml')\n",
    "results = hlp.sklearn_eval.MLExperimentResults.from_yaml_file(yaml_file_name = file_name)"
   ]
  },
  {
   "cell_type": "markdown",
   "id": "54a33939",
   "metadata": {},
   "source": [
    "---"
   ]
  },
  {
   "cell_type": "markdown",
   "id": "eb177594",
   "metadata": {},
   "source": [
    "# Hyper-Param Tuning - Cross Validation Results"
   ]
  },
  {
   "cell_type": "markdown",
   "id": "352a2dd8",
   "metadata": {},
   "source": [
    "## Best Scores/Params"
   ]
  },
  {
   "cell_type": "code",
   "execution_count": null,
   "id": "31f0b98a",
   "metadata": {
    "pycharm": {
     "name": "#%%\n"
    }
   },
   "outputs": [],
   "source": [
    "log_info(f\"Best Score: {results.best_score}\")"
   ]
  },
  {
   "cell_type": "code",
   "execution_count": null,
   "id": "59c9c626",
   "metadata": {},
   "outputs": [],
   "source": [
    "log_info(f\"Best Params: {results.best_params}\")"
   ]
  },
  {
   "cell_type": "code",
   "execution_count": null,
   "id": "76f52f3f",
   "metadata": {
    "scrolled": true
   },
   "outputs": [],
   "source": [
    "# Best model from each model-type.\n",
    "df = results.to_formatted_dataframe(return_style=False, include_rank=True)\n",
    "df[\"model_rank\"] = df.groupby(\"model\")[\"roc_auc Mean\"].rank(method=\"first\", ascending=False)\n",
    "df.query('model_rank == 1')"
   ]
  },
  {
   "cell_type": "code",
   "execution_count": null,
   "id": "5d25ab96",
   "metadata": {
    "pycharm": {
     "name": "#%%\n"
    },
    "scrolled": false
   },
   "outputs": [],
   "source": [
    "results.to_formatted_dataframe(return_style=True,\n",
    "                               include_rank=True,\n",
    "                               num_rows=1000)"
   ]
  },
  {
   "cell_type": "code",
   "execution_count": null,
   "id": "3d4d1a95",
   "metadata": {
    "scrolled": false
   },
   "outputs": [],
   "source": [
    "results.to_formatted_dataframe(query='model == \"RandomForestClassifier()\"', include_rank=True)"
   ]
  },
  {
   "cell_type": "code",
   "execution_count": null,
   "id": "35644690",
   "metadata": {
    "scrolled": false
   },
   "outputs": [],
   "source": [
    "results.to_formatted_dataframe(query='model == \"LogisticRegression()\"', include_rank=True)"
   ]
  },
  {
   "cell_type": "markdown",
   "id": "59fde126",
   "metadata": {},
   "source": [
    "## BayesSearchCV Performance Over Time"
   ]
  },
  {
   "cell_type": "code",
   "execution_count": null,
   "id": "69b25b60",
   "metadata": {},
   "outputs": [],
   "source": [
    "results.plot_performance_across_trials(facet_by='model').show()"
   ]
  },
  {
   "cell_type": "code",
   "execution_count": null,
   "id": "96106468",
   "metadata": {},
   "outputs": [],
   "source": [
    "results.plot_performance_across_trials(query='model == \"RandomForestClassifier()\"').show()"
   ]
  },
  {
   "cell_type": "markdown",
   "id": "a6f5be61",
   "metadata": {},
   "source": [
    "---"
   ]
  },
  {
   "cell_type": "markdown",
   "id": "49f22c15",
   "metadata": {},
   "source": [
    "## Variable Performance Over Time"
   ]
  },
  {
   "cell_type": "code",
   "execution_count": null,
   "id": "e100ea68",
   "metadata": {},
   "outputs": [],
   "source": [
    "results.plot_parameter_values_across_trials(query='model == \"RandomForestClassifier()\"').show()"
   ]
  },
  {
   "cell_type": "markdown",
   "id": "e23227a1",
   "metadata": {},
   "source": [
    "---"
   ]
  },
  {
   "cell_type": "markdown",
   "id": "3a27957a",
   "metadata": {},
   "source": [
    "## Scatter Matrix"
   ]
  },
  {
   "cell_type": "code",
   "execution_count": null,
   "id": "03852712",
   "metadata": {
    "scrolled": true
   },
   "outputs": [],
   "source": [
    "# results.plot_scatter_matrix(query='model == \"RandomForestClassifier()\"',\n",
    "#                             height=1000, width=1000).show()"
   ]
  },
  {
   "cell_type": "markdown",
   "id": "c6159d18",
   "metadata": {},
   "source": [
    "---"
   ]
  },
  {
   "cell_type": "markdown",
   "id": "ee749684",
   "metadata": {},
   "source": [
    "## Variable Performance - Numeric"
   ]
  },
  {
   "cell_type": "code",
   "execution_count": null,
   "id": "39189dad",
   "metadata": {},
   "outputs": [],
   "source": [
    "results.plot_performance_numeric_params(query='model == \"RandomForestClassifier()\"',\n",
    "                                        height=800)"
   ]
  },
  {
   "cell_type": "code",
   "execution_count": null,
   "id": "7a76f2c9",
   "metadata": {},
   "outputs": [],
   "source": [
    "results.plot_parallel_coordinates(query='model == \"RandomForestClassifier()\"').show()"
   ]
  },
  {
   "cell_type": "markdown",
   "id": "b8835e43",
   "metadata": {},
   "source": [
    "---"
   ]
  },
  {
   "cell_type": "markdown",
   "id": "030936ad",
   "metadata": {},
   "source": [
    "## Variable Performance - Non-Numeric"
   ]
  },
  {
   "cell_type": "code",
   "execution_count": null,
   "id": "9fe0a693",
   "metadata": {},
   "outputs": [],
   "source": [
    "results.plot_performance_non_numeric_params(query='model == \"RandomForestClassifier()\"').show()"
   ]
  },
  {
   "cell_type": "markdown",
   "id": "ec79358c",
   "metadata": {
    "pycharm": {
     "name": "#%% md\n"
    }
   },
   "source": [
    "---"
   ]
  },
  {
   "cell_type": "code",
   "execution_count": null,
   "id": "a4cb1cd0",
   "metadata": {},
   "outputs": [],
   "source": [
    "results.plot_score_vs_parameter(\n",
    "    query='model == \"RandomForestClassifier()\"',\n",
    "    parameter='max_features',\n",
    "    size='max_depth',\n",
    "    color='encoder',\n",
    ")"
   ]
  },
  {
   "cell_type": "markdown",
   "id": "b09bd440",
   "metadata": {},
   "source": [
    "---"
   ]
  },
  {
   "cell_type": "code",
   "execution_count": null,
   "id": "05670ea0",
   "metadata": {},
   "outputs": [],
   "source": [
    "# results.plot_parameter_vs_parameter(\n",
    "#     query='model == \"XGBClassifier()\"',\n",
    "#     parameter_x='colsample_bytree',\n",
    "#     parameter_y='learning_rate',\n",
    "#     size='max_depth'\n",
    "# )"
   ]
  },
  {
   "cell_type": "code",
   "execution_count": null,
   "id": "aab85748",
   "metadata": {},
   "outputs": [],
   "source": [
    "# results.plot_parameter_vs_parameter(\n",
    "#     query='model == \"XGBClassifier()\"',\n",
    "#     parameter_x='colsample_bytree',\n",
    "#     parameter_y='learning_rate',\n",
    "#     size='imputer'\n",
    "# )"
   ]
  },
  {
   "cell_type": "markdown",
   "id": "99721fb8",
   "metadata": {},
   "source": [
    "---"
   ]
  },
  {
   "cell_type": "markdown",
   "id": "6abb1968",
   "metadata": {},
   "source": [
    "# Best Model - Test Set Performance"
   ]
  },
  {
   "cell_type": "code",
   "execution_count": null,
   "id": "d7276dc9",
   "metadata": {},
   "outputs": [],
   "source": [
    "file_name = file_path('experiment_best_estimator.pkl')\n",
    "best_estimator = hlp.utility.read_pickle(file_name)"
   ]
  },
  {
   "cell_type": "code",
   "execution_count": null,
   "id": "5f2d803e",
   "metadata": {},
   "outputs": [],
   "source": [
    "x_test = pd.read_pickle(file_path('x_test.pkl'))\n",
    "x_test.head()"
   ]
  },
  {
   "cell_type": "code",
   "execution_count": null,
   "id": "0e7586c3",
   "metadata": {},
   "outputs": [],
   "source": [
    "y_test = hlp.utility.read_pickle(file_path('y_test.pkl'))\n",
    "y_test[0:10]"
   ]
  },
  {
   "cell_type": "code",
   "execution_count": null,
   "id": "3b256e43",
   "metadata": {},
   "outputs": [],
   "source": [
    "test_predictions = best_estimator.predict_proba(x_test)[:, 1]\n",
    "test_predictions[0:10]"
   ]
  },
  {
   "cell_type": "code",
   "execution_count": null,
   "id": "6abd219e",
   "metadata": {},
   "outputs": [],
   "source": [
    "evaluator = hlp.sklearn_eval.TwoClassEvaluator(\n",
    "    actual_values=y_test,\n",
    "    predicted_scores=test_predictions,\n",
    "    score_threshold=0.37\n",
    ")"
   ]
  },
  {
   "cell_type": "code",
   "execution_count": null,
   "id": "1dcd2c01",
   "metadata": {},
   "outputs": [],
   "source": [
    "evaluator.plot_actual_vs_predict_histogram()"
   ]
  },
  {
   "cell_type": "code",
   "execution_count": null,
   "id": "7e98d47c",
   "metadata": {},
   "outputs": [],
   "source": [
    "evaluator.plot_confusion_matrix()"
   ]
  },
  {
   "cell_type": "code",
   "execution_count": null,
   "id": "2fc49b20",
   "metadata": {},
   "outputs": [],
   "source": [
    "evaluator.all_metrics_df(return_style=True,\n",
    "                         dummy_classifier_strategy=['prior', 'constant'],\n",
    "                         round_by=3)"
   ]
  },
  {
   "cell_type": "code",
   "execution_count": null,
   "id": "bc9457e9",
   "metadata": {},
   "outputs": [],
   "source": [
    "evaluator.plot_roc_auc_curve().show()"
   ]
  },
  {
   "cell_type": "code",
   "execution_count": null,
   "id": "9233e119",
   "metadata": {},
   "outputs": [],
   "source": [
    "evaluator.plot_precision_recall_auc_curve().show()"
   ]
  },
  {
   "cell_type": "code",
   "execution_count": null,
   "id": "2e816815",
   "metadata": {},
   "outputs": [],
   "source": [
    "evaluator.plot_threshold_curves(score_threshold_range=(0.1, 0.7)).show()"
   ]
  },
  {
   "cell_type": "code",
   "execution_count": null,
   "id": "70aa5d47",
   "metadata": {},
   "outputs": [],
   "source": [
    "evaluator.plot_precision_recall_tradeoff(score_threshold_range=(0.1, 0.6)).show()"
   ]
  },
  {
   "cell_type": "code",
   "execution_count": null,
   "id": "5b729774",
   "metadata": {},
   "outputs": [],
   "source": [
    "evaluator.calculate_lift_gain(return_style=True)"
   ]
  },
  {
   "cell_type": "markdown",
   "id": "12d03792",
   "metadata": {},
   "source": [
    "---"
   ]
  }
 ],
 "metadata": {
  "kernelspec": {
   "display_name": "Python 3 (ipykernel)",
   "language": "python",
   "name": "python3"
  },
  "language_info": {
   "codemirror_mode": {
    "name": "ipython",
    "version": 3
   },
   "file_extension": ".py",
   "mimetype": "text/x-python",
   "name": "python",
   "nbconvert_exporter": "python",
   "pygments_lexer": "ipython3",
   "version": "3.9.10"
  },
  "toc": {
   "base_numbering": 1,
   "nav_menu": {},
   "number_sections": false,
   "sideBar": true,
   "skip_h1_title": false,
   "title_cell": "Table of Contents",
   "title_sidebar": "Contents",
   "toc_cell": false,
   "toc_position": {
    "height": "calc(100% - 180px)",
    "left": "10px",
    "top": "150px",
    "width": "258px"
   },
   "toc_section_display": true,
   "toc_window_display": true
  }
 },
 "nbformat": 4,
 "nbformat_minor": 5
}
