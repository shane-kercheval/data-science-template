{
 "cells": [
  {
   "cell_type": "code",
   "execution_count": 1,
   "id": "0ddc37d2",
   "metadata": {},
   "outputs": [
    {
     "name": "stdout",
     "output_type": "stream",
     "text": [
      "/code\n"
     ]
    }
   ],
   "source": [
    "cd ../.."
   ]
  },
  {
   "cell_type": "code",
   "execution_count": 3,
   "id": "c5f3fe51",
   "metadata": {},
   "outputs": [
    {
     "name": "stderr",
     "output_type": "stream",
     "text": [
      "2022-06-12 16:02:09 - INFO     | MLFlow URI: http://mlflow_server:1235\n"
     ]
    }
   ],
   "source": [
    "%run \"source/config/notebook_settings.py\"\n",
    "import os\n",
    "import mlflow\n",
    "from mlflow.tracking import MlflowClient\n",
    "from helpsk.utility import read_pickle\n",
    "import helpsk as hlp\n",
    "\n",
    "from source.library.utilities import Timer, log_info, get_config\n",
    "\n",
    "config = get_config()\n",
    "mlflow_uri = config['MLFLOW']['URI']\n",
    "log_info(f\"MLFlow URI: {mlflow_uri}\")\n",
    "\n",
    "client = MlflowClient(tracking_uri=mlflow_uri)"
   ]
  },
  {
   "cell_type": "markdown",
   "id": "1930b7e6",
   "metadata": {
    "pycharm": {
     "name": "#%% md\n"
    }
   },
   "source": [
    "# Get Latest Experiment Run from MLFlow"
   ]
  },
  {
   "cell_type": "code",
   "execution_count": 4,
   "id": "166d2f0d",
   "metadata": {},
   "outputs": [
    {
     "name": "stderr",
     "output_type": "stream",
     "text": [
      "2022-06-12 16:02:13 - INFO     | Production Model Version: 2\n"
     ]
    }
   ],
   "source": [
    "# Get the production model version and actual model\n",
    "production_model_info = client.get_latest_versions(name=config['MLFLOW']['MODEL_NAME'], stages=['Production'])\n",
    "assert len(production_model_info) == 1\n",
    "production_model_info = production_model_info[0]\n",
    "production_model = read_pickle(client.download_artifacts(\n",
    "    run_id=production_model_info.run_id,\n",
    "    path='model/model.pkl'\n",
    "))\n",
    "log_info(f\"Production Model Version: {production_model_info.version}\")"
   ]
  },
  {
   "cell_type": "code",
   "execution_count": 5,
   "id": "8ba5e54b",
   "metadata": {},
   "outputs": [],
   "source": [
    "# get experiment and latest run info\n",
    "credit_experiment = client.get_experiment_by_name(name=config['MLFLOW']['EXPERIMENT_NAME'])\n",
    "runs = client.list_run_infos(experiment_id=credit_experiment.experiment_id)\n",
    "latest_run = runs[np.argmax([x.start_time for x in runs])]"
   ]
  },
  {
   "cell_type": "code",
   "execution_count": 6,
   "id": "dc0d8366",
   "metadata": {},
   "outputs": [],
   "source": [
    "yaml_path = client.download_artifacts(run_id=latest_run.run_id, path='experiment.yaml')\n",
    "results = hlp.sklearn_eval.MLExperimentResults.from_yaml_file(yaml_file_name = yaml_path)"
   ]
  },
  {
   "cell_type": "code",
   "execution_count": 7,
   "id": "4756049e",
   "metadata": {},
   "outputs": [],
   "source": [
    "# get the best estimator from the BayesSearchCV\n",
    "best_estimator = read_pickle(client.download_artifacts(\n",
    "    run_id=latest_run.run_id,\n",
    "    path='model/model.pkl'\n",
    "))"
   ]
  },
  {
   "cell_type": "code",
   "execution_count": 8,
   "id": "ed7bb247",
   "metadata": {},
   "outputs": [
    {
     "data": {
      "text/html": [
       "<style>#sk-container-id-1 {color: black;background-color: white;}#sk-container-id-1 pre{padding: 0;}#sk-container-id-1 div.sk-toggleable {background-color: white;}#sk-container-id-1 label.sk-toggleable__label {cursor: pointer;display: block;width: 100%;margin-bottom: 0;padding: 0.3em;box-sizing: border-box;text-align: center;}#sk-container-id-1 label.sk-toggleable__label-arrow:before {content: \"▸\";float: left;margin-right: 0.25em;color: #696969;}#sk-container-id-1 label.sk-toggleable__label-arrow:hover:before {color: black;}#sk-container-id-1 div.sk-estimator:hover label.sk-toggleable__label-arrow:before {color: black;}#sk-container-id-1 div.sk-toggleable__content {max-height: 0;max-width: 0;overflow: hidden;text-align: left;background-color: #f0f8ff;}#sk-container-id-1 div.sk-toggleable__content pre {margin: 0.2em;color: black;border-radius: 0.25em;background-color: #f0f8ff;}#sk-container-id-1 input.sk-toggleable__control:checked~div.sk-toggleable__content {max-height: 200px;max-width: 100%;overflow: auto;}#sk-container-id-1 input.sk-toggleable__control:checked~label.sk-toggleable__label-arrow:before {content: \"▾\";}#sk-container-id-1 div.sk-estimator input.sk-toggleable__control:checked~label.sk-toggleable__label {background-color: #d4ebff;}#sk-container-id-1 div.sk-label input.sk-toggleable__control:checked~label.sk-toggleable__label {background-color: #d4ebff;}#sk-container-id-1 input.sk-hidden--visually {border: 0;clip: rect(1px 1px 1px 1px);clip: rect(1px, 1px, 1px, 1px);height: 1px;margin: -1px;overflow: hidden;padding: 0;position: absolute;width: 1px;}#sk-container-id-1 div.sk-estimator {font-family: monospace;background-color: #f0f8ff;border: 1px dotted black;border-radius: 0.25em;box-sizing: border-box;margin-bottom: 0.5em;}#sk-container-id-1 div.sk-estimator:hover {background-color: #d4ebff;}#sk-container-id-1 div.sk-parallel-item::after {content: \"\";width: 100%;border-bottom: 1px solid gray;flex-grow: 1;}#sk-container-id-1 div.sk-label:hover label.sk-toggleable__label {background-color: #d4ebff;}#sk-container-id-1 div.sk-serial::before {content: \"\";position: absolute;border-left: 1px solid gray;box-sizing: border-box;top: 0;bottom: 0;left: 50%;z-index: 0;}#sk-container-id-1 div.sk-serial {display: flex;flex-direction: column;align-items: center;background-color: white;padding-right: 0.2em;padding-left: 0.2em;position: relative;}#sk-container-id-1 div.sk-item {position: relative;z-index: 1;}#sk-container-id-1 div.sk-parallel {display: flex;align-items: stretch;justify-content: center;background-color: white;position: relative;}#sk-container-id-1 div.sk-item::before, #sk-container-id-1 div.sk-parallel-item::before {content: \"\";position: absolute;border-left: 1px solid gray;box-sizing: border-box;top: 0;bottom: 0;left: 50%;z-index: -1;}#sk-container-id-1 div.sk-parallel-item {display: flex;flex-direction: column;z-index: 1;position: relative;background-color: white;}#sk-container-id-1 div.sk-parallel-item:first-child::after {align-self: flex-end;width: 50%;}#sk-container-id-1 div.sk-parallel-item:last-child::after {align-self: flex-start;width: 50%;}#sk-container-id-1 div.sk-parallel-item:only-child::after {width: 0;}#sk-container-id-1 div.sk-dashed-wrapped {border: 1px dashed gray;margin: 0 0.4em 0.5em 0.4em;box-sizing: border-box;padding-bottom: 0.4em;background-color: white;}#sk-container-id-1 div.sk-label label {font-family: monospace;font-weight: bold;display: inline-block;line-height: 1.2em;}#sk-container-id-1 div.sk-label-container {text-align: center;}#sk-container-id-1 div.sk-container {/* jupyter's `normalize.less` sets `[hidden] { display: none; }` but bootstrap.min.css set `[hidden] { display: none !important; }` so we also need the `!important` here to be able to override the default hidden behavior on the sphinx rendered scikit-learn.org. See: https://github.com/scikit-learn/scikit-learn/issues/21755 */display: inline-block !important;position: relative;}#sk-container-id-1 div.sk-text-repr-fallback {display: none;}</style><div id=\"sk-container-id-1\" class=\"sk-top-container\"><div class=\"sk-text-repr-fallback\"><pre>Pipeline(steps=[(&#x27;prep&#x27;,\n",
       "                 ColumnTransformer(transformers=[(&#x27;numeric&#x27;,\n",
       "                                                  Pipeline(steps=[(&#x27;imputer&#x27;,\n",
       "                                                                   TransformerChooser(transformer=SimpleImputer(strategy=&#x27;median&#x27;))),\n",
       "                                                                  (&#x27;scaler&#x27;,\n",
       "                                                                   TransformerChooser()),\n",
       "                                                                  (&#x27;pca&#x27;,\n",
       "                                                                   TransformerChooser(transformer=PCA(n_components=&#x27;mle&#x27;)))]),\n",
       "                                                  [&#x27;duration&#x27;, &#x27;credit_amount&#x27;,\n",
       "                                                   &#x27;installment_commitment&#x27;,\n",
       "                                                   &#x27;residence_since&#x27;, &#x27;age&#x27;,\n",
       "                                                   &#x27;existing_credi...\n",
       "                                                   &#x27;employment&#x27;,\n",
       "                                                   &#x27;personal_status&#x27;,\n",
       "                                                   &#x27;other_parties&#x27;,\n",
       "                                                   &#x27;property_magnitude&#x27;,\n",
       "                                                   &#x27;other_payment_plans&#x27;,\n",
       "                                                   &#x27;housing&#x27;, &#x27;job&#x27;,\n",
       "                                                   &#x27;own_telephone&#x27;,\n",
       "                                                   &#x27;foreign_worker&#x27;])])),\n",
       "                (&#x27;model&#x27;,\n",
       "                 RandomForestClassifier(criterion=&#x27;entropy&#x27;, max_depth=99,\n",
       "                                        max_features=0.031837350792579364,\n",
       "                                        max_samples=0.9248344222191298,\n",
       "                                        min_samples_leaf=4,\n",
       "                                        min_samples_split=16, n_estimators=1235,\n",
       "                                        random_state=42))])</pre><b>In a Jupyter environment, please rerun this cell to show the HTML representation or trust the notebook. <br />On GitHub, the HTML representation is unable to render, please try loading this page with nbviewer.org.</b></div><div class=\"sk-container\" hidden><div class=\"sk-item sk-dashed-wrapped\"><div class=\"sk-label-container\"><div class=\"sk-label sk-toggleable\"><input class=\"sk-toggleable__control sk-hidden--visually\" id=\"sk-estimator-id-1\" type=\"checkbox\" ><label for=\"sk-estimator-id-1\" class=\"sk-toggleable__label sk-toggleable__label-arrow\">Pipeline</label><div class=\"sk-toggleable__content\"><pre>Pipeline(steps=[(&#x27;prep&#x27;,\n",
       "                 ColumnTransformer(transformers=[(&#x27;numeric&#x27;,\n",
       "                                                  Pipeline(steps=[(&#x27;imputer&#x27;,\n",
       "                                                                   TransformerChooser(transformer=SimpleImputer(strategy=&#x27;median&#x27;))),\n",
       "                                                                  (&#x27;scaler&#x27;,\n",
       "                                                                   TransformerChooser()),\n",
       "                                                                  (&#x27;pca&#x27;,\n",
       "                                                                   TransformerChooser(transformer=PCA(n_components=&#x27;mle&#x27;)))]),\n",
       "                                                  [&#x27;duration&#x27;, &#x27;credit_amount&#x27;,\n",
       "                                                   &#x27;installment_commitment&#x27;,\n",
       "                                                   &#x27;residence_since&#x27;, &#x27;age&#x27;,\n",
       "                                                   &#x27;existing_credi...\n",
       "                                                   &#x27;employment&#x27;,\n",
       "                                                   &#x27;personal_status&#x27;,\n",
       "                                                   &#x27;other_parties&#x27;,\n",
       "                                                   &#x27;property_magnitude&#x27;,\n",
       "                                                   &#x27;other_payment_plans&#x27;,\n",
       "                                                   &#x27;housing&#x27;, &#x27;job&#x27;,\n",
       "                                                   &#x27;own_telephone&#x27;,\n",
       "                                                   &#x27;foreign_worker&#x27;])])),\n",
       "                (&#x27;model&#x27;,\n",
       "                 RandomForestClassifier(criterion=&#x27;entropy&#x27;, max_depth=99,\n",
       "                                        max_features=0.031837350792579364,\n",
       "                                        max_samples=0.9248344222191298,\n",
       "                                        min_samples_leaf=4,\n",
       "                                        min_samples_split=16, n_estimators=1235,\n",
       "                                        random_state=42))])</pre></div></div></div><div class=\"sk-serial\"><div class=\"sk-item sk-dashed-wrapped\"><div class=\"sk-label-container\"><div class=\"sk-label sk-toggleable\"><input class=\"sk-toggleable__control sk-hidden--visually\" id=\"sk-estimator-id-2\" type=\"checkbox\" ><label for=\"sk-estimator-id-2\" class=\"sk-toggleable__label sk-toggleable__label-arrow\">prep: ColumnTransformer</label><div class=\"sk-toggleable__content\"><pre>ColumnTransformer(transformers=[(&#x27;numeric&#x27;,\n",
       "                                 Pipeline(steps=[(&#x27;imputer&#x27;,\n",
       "                                                  TransformerChooser(transformer=SimpleImputer(strategy=&#x27;median&#x27;))),\n",
       "                                                 (&#x27;scaler&#x27;,\n",
       "                                                  TransformerChooser()),\n",
       "                                                 (&#x27;pca&#x27;,\n",
       "                                                  TransformerChooser(transformer=PCA(n_components=&#x27;mle&#x27;)))]),\n",
       "                                 [&#x27;duration&#x27;, &#x27;credit_amount&#x27;,\n",
       "                                  &#x27;installment_commitment&#x27;, &#x27;residence_since&#x27;,\n",
       "                                  &#x27;age&#x27;, &#x27;existing_credits&#x27;,\n",
       "                                  &#x27;num_dependents&#x27;]),\n",
       "                                (&#x27;non_numeric&#x27;,\n",
       "                                 Pipeline(steps=[(&#x27;encoder&#x27;,\n",
       "                                                  TransformerChooser(transformer=CustomOrdinalEncoder()))]),\n",
       "                                 [&#x27;checking_status&#x27;, &#x27;credit_history&#x27;,\n",
       "                                  &#x27;purpose&#x27;, &#x27;savings_status&#x27;, &#x27;employment&#x27;,\n",
       "                                  &#x27;personal_status&#x27;, &#x27;other_parties&#x27;,\n",
       "                                  &#x27;property_magnitude&#x27;, &#x27;other_payment_plans&#x27;,\n",
       "                                  &#x27;housing&#x27;, &#x27;job&#x27;, &#x27;own_telephone&#x27;,\n",
       "                                  &#x27;foreign_worker&#x27;])])</pre></div></div></div><div class=\"sk-parallel\"><div class=\"sk-parallel-item\"><div class=\"sk-item\"><div class=\"sk-label-container\"><div class=\"sk-label sk-toggleable\"><input class=\"sk-toggleable__control sk-hidden--visually\" id=\"sk-estimator-id-3\" type=\"checkbox\" ><label for=\"sk-estimator-id-3\" class=\"sk-toggleable__label sk-toggleable__label-arrow\">numeric</label><div class=\"sk-toggleable__content\"><pre>[&#x27;duration&#x27;, &#x27;credit_amount&#x27;, &#x27;installment_commitment&#x27;, &#x27;residence_since&#x27;, &#x27;age&#x27;, &#x27;existing_credits&#x27;, &#x27;num_dependents&#x27;]</pre></div></div></div><div class=\"sk-serial\"><div class=\"sk-item\"><div class=\"sk-serial\"><div class=\"sk-item sk-dashed-wrapped\"><div class=\"sk-label-container\"><div class=\"sk-label sk-toggleable\"><input class=\"sk-toggleable__control sk-hidden--visually\" id=\"sk-estimator-id-4\" type=\"checkbox\" ><label for=\"sk-estimator-id-4\" class=\"sk-toggleable__label sk-toggleable__label-arrow\">imputer: TransformerChooser</label><div class=\"sk-toggleable__content\"><pre>TransformerChooser(transformer=SimpleImputer(strategy=&#x27;median&#x27;))</pre></div></div></div><div class=\"sk-parallel\"><div class=\"sk-parallel-item\"><div class=\"sk-item\"><div class=\"sk-label-container\"><div class=\"sk-label sk-toggleable\"><input class=\"sk-toggleable__control sk-hidden--visually\" id=\"sk-estimator-id-5\" type=\"checkbox\" ><label for=\"sk-estimator-id-5\" class=\"sk-toggleable__label sk-toggleable__label-arrow\">transformer: SimpleImputer</label><div class=\"sk-toggleable__content\"><pre>SimpleImputer(strategy=&#x27;median&#x27;)</pre></div></div></div><div class=\"sk-serial\"><div class=\"sk-item\"><div class=\"sk-estimator sk-toggleable\"><input class=\"sk-toggleable__control sk-hidden--visually\" id=\"sk-estimator-id-6\" type=\"checkbox\" ><label for=\"sk-estimator-id-6\" class=\"sk-toggleable__label sk-toggleable__label-arrow\">SimpleImputer</label><div class=\"sk-toggleable__content\"><pre>SimpleImputer(strategy=&#x27;median&#x27;)</pre></div></div></div></div></div></div></div></div><div class=\"sk-item\"><div class=\"sk-estimator sk-toggleable\"><input class=\"sk-toggleable__control sk-hidden--visually\" id=\"sk-estimator-id-7\" type=\"checkbox\" ><label for=\"sk-estimator-id-7\" class=\"sk-toggleable__label sk-toggleable__label-arrow\">TransformerChooser</label><div class=\"sk-toggleable__content\"><pre>TransformerChooser()</pre></div></div></div><div class=\"sk-item sk-dashed-wrapped\"><div class=\"sk-label-container\"><div class=\"sk-label sk-toggleable\"><input class=\"sk-toggleable__control sk-hidden--visually\" id=\"sk-estimator-id-8\" type=\"checkbox\" ><label for=\"sk-estimator-id-8\" class=\"sk-toggleable__label sk-toggleable__label-arrow\">pca: TransformerChooser</label><div class=\"sk-toggleable__content\"><pre>TransformerChooser(transformer=PCA(n_components=&#x27;mle&#x27;))</pre></div></div></div><div class=\"sk-parallel\"><div class=\"sk-parallel-item\"><div class=\"sk-item\"><div class=\"sk-label-container\"><div class=\"sk-label sk-toggleable\"><input class=\"sk-toggleable__control sk-hidden--visually\" id=\"sk-estimator-id-9\" type=\"checkbox\" ><label for=\"sk-estimator-id-9\" class=\"sk-toggleable__label sk-toggleable__label-arrow\">transformer: PCA</label><div class=\"sk-toggleable__content\"><pre>PCA(n_components=&#x27;mle&#x27;)</pre></div></div></div><div class=\"sk-serial\"><div class=\"sk-item\"><div class=\"sk-estimator sk-toggleable\"><input class=\"sk-toggleable__control sk-hidden--visually\" id=\"sk-estimator-id-10\" type=\"checkbox\" ><label for=\"sk-estimator-id-10\" class=\"sk-toggleable__label sk-toggleable__label-arrow\">PCA</label><div class=\"sk-toggleable__content\"><pre>PCA(n_components=&#x27;mle&#x27;)</pre></div></div></div></div></div></div></div></div></div></div></div></div></div><div class=\"sk-parallel-item\"><div class=\"sk-item\"><div class=\"sk-label-container\"><div class=\"sk-label sk-toggleable\"><input class=\"sk-toggleable__control sk-hidden--visually\" id=\"sk-estimator-id-11\" type=\"checkbox\" ><label for=\"sk-estimator-id-11\" class=\"sk-toggleable__label sk-toggleable__label-arrow\">non_numeric</label><div class=\"sk-toggleable__content\"><pre>[&#x27;checking_status&#x27;, &#x27;credit_history&#x27;, &#x27;purpose&#x27;, &#x27;savings_status&#x27;, &#x27;employment&#x27;, &#x27;personal_status&#x27;, &#x27;other_parties&#x27;, &#x27;property_magnitude&#x27;, &#x27;other_payment_plans&#x27;, &#x27;housing&#x27;, &#x27;job&#x27;, &#x27;own_telephone&#x27;, &#x27;foreign_worker&#x27;]</pre></div></div></div><div class=\"sk-serial\"><div class=\"sk-item\"><div class=\"sk-serial\"><div class=\"sk-item sk-dashed-wrapped\"><div class=\"sk-label-container\"><div class=\"sk-label sk-toggleable\"><input class=\"sk-toggleable__control sk-hidden--visually\" id=\"sk-estimator-id-12\" type=\"checkbox\" ><label for=\"sk-estimator-id-12\" class=\"sk-toggleable__label sk-toggleable__label-arrow\">encoder: TransformerChooser</label><div class=\"sk-toggleable__content\"><pre>TransformerChooser(transformer=CustomOrdinalEncoder())</pre></div></div></div><div class=\"sk-parallel\"><div class=\"sk-parallel-item\"><div class=\"sk-item\"><div class=\"sk-label-container\"><div class=\"sk-label sk-toggleable\"><input class=\"sk-toggleable__control sk-hidden--visually\" id=\"sk-estimator-id-13\" type=\"checkbox\" ><label for=\"sk-estimator-id-13\" class=\"sk-toggleable__label sk-toggleable__label-arrow\">transformer: CustomOrdinalEncoder</label><div class=\"sk-toggleable__content\"><pre>CustomOrdinalEncoder()</pre></div></div></div><div class=\"sk-serial\"><div class=\"sk-item\"><div class=\"sk-estimator sk-toggleable\"><input class=\"sk-toggleable__control sk-hidden--visually\" id=\"sk-estimator-id-14\" type=\"checkbox\" ><label for=\"sk-estimator-id-14\" class=\"sk-toggleable__label sk-toggleable__label-arrow\">CustomOrdinalEncoder</label><div class=\"sk-toggleable__content\"><pre>CustomOrdinalEncoder()</pre></div></div></div></div></div></div></div></div></div></div></div></div></div></div></div><div class=\"sk-item\"><div class=\"sk-estimator sk-toggleable\"><input class=\"sk-toggleable__control sk-hidden--visually\" id=\"sk-estimator-id-15\" type=\"checkbox\" ><label for=\"sk-estimator-id-15\" class=\"sk-toggleable__label sk-toggleable__label-arrow\">RandomForestClassifier</label><div class=\"sk-toggleable__content\"><pre>RandomForestClassifier(criterion=&#x27;entropy&#x27;, max_depth=99,\n",
       "                       max_features=0.031837350792579364,\n",
       "                       max_samples=0.9248344222191298, min_samples_leaf=4,\n",
       "                       min_samples_split=16, n_estimators=1235,\n",
       "                       random_state=42)</pre></div></div></div></div></div></div></div>"
      ],
      "text/plain": [
       "Pipeline(steps=[('prep',\n",
       "                 ColumnTransformer(transformers=[('numeric',\n",
       "                                                  Pipeline(steps=[('imputer',\n",
       "                                                                   TransformerChooser(transformer=SimpleImputer(strategy='median'))),\n",
       "                                                                  ('scaler',\n",
       "                                                                   TransformerChooser()),\n",
       "                                                                  ('pca',\n",
       "                                                                   TransformerChooser(transformer=PCA(n_components='mle')))]),\n",
       "                                                  ['duration', 'credit_amount',\n",
       "                                                   'installment_commitment',\n",
       "                                                   'residence_since', 'age',\n",
       "                                                   'existing_credi...\n",
       "                                                   'employment',\n",
       "                                                   'personal_status',\n",
       "                                                   'other_parties',\n",
       "                                                   'property_magnitude',\n",
       "                                                   'other_payment_plans',\n",
       "                                                   'housing', 'job',\n",
       "                                                   'own_telephone',\n",
       "                                                   'foreign_worker'])])),\n",
       "                ('model',\n",
       "                 RandomForestClassifier(criterion='entropy', max_depth=99,\n",
       "                                        max_features=0.031837350792579364,\n",
       "                                        max_samples=0.9248344222191298,\n",
       "                                        min_samples_leaf=4,\n",
       "                                        min_samples_split=16, n_estimators=1235,\n",
       "                                        random_state=42))])"
      ]
     },
     "execution_count": 8,
     "metadata": {},
     "output_type": "execute_result"
    }
   ],
   "source": [
    "best_estimator.model"
   ]
  },
  {
   "cell_type": "markdown",
   "id": "94ce5ff7",
   "metadata": {},
   "source": [
    "# Training & Test Data Info"
   ]
  },
  {
   "cell_type": "code",
   "execution_count": 9,
   "id": "896c91eb",
   "metadata": {},
   "outputs": [
    {
     "data": {
      "text/plain": [
       "'/code/mlflow-artifact-root/1/e9af36e49d6c45edbcefca98c6921560/artifacts/x_train.pkl'"
      ]
     },
     "execution_count": 9,
     "metadata": {},
     "output_type": "execute_result"
    }
   ],
   "source": [
    "client.download_artifacts(run_id=latest_run.run_id, path='x_train.pkl')"
   ]
  },
  {
   "cell_type": "code",
   "execution_count": 10,
   "id": "306eb67c",
   "metadata": {},
   "outputs": [
    {
     "name": "stderr",
     "output_type": "stream",
     "text": [
      "2022-06-12 16:03:08 - INFO     | *****Timer Started: Loading training/test datasets\n",
      "2022-06-12 16:03:08 - INFO     | *****Timer Finished (0.10 seconds)\n"
     ]
    }
   ],
   "source": [
    "with Timer(\"Loading training/test datasets\"):\n",
    "    X_train = pd.pandas.read_pickle(client.download_artifacts(run_id=latest_run.run_id, path='x_train.pkl'))\n",
    "    X_test = pd.pandas.read_pickle(client.download_artifacts(run_id=latest_run.run_id, path='x_test.pkl'))\n",
    "    y_train = pd.pandas.read_pickle(client.download_artifacts(run_id=latest_run.run_id, path='y_train.pkl'))\n",
    "    y_test = pd.pandas.read_pickle(client.download_artifacts(run_id=latest_run.run_id, path='y_test.pkl'))"
   ]
  },
  {
   "cell_type": "code",
   "execution_count": 11,
   "id": "4c9fbfbf",
   "metadata": {},
   "outputs": [
    {
     "name": "stderr",
     "output_type": "stream",
     "text": [
      "2022-06-12 16:03:08 - INFO     | (800, 20)\n",
      "2022-06-12 16:03:08 - INFO     | 800\n",
      "2022-06-12 16:03:08 - INFO     | (200, 20)\n",
      "2022-06-12 16:03:08 - INFO     | 200\n"
     ]
    }
   ],
   "source": [
    "log_info(X_train.shape)\n",
    "log_info(len(y_train))\n",
    "\n",
    "log_info(X_test.shape)\n",
    "log_info(len(y_test))"
   ]
  },
  {
   "cell_type": "code",
   "execution_count": 12,
   "id": "fb45ffa3",
   "metadata": {},
   "outputs": [
    {
     "data": {
      "text/plain": [
       "(array([0, 1]), array([559, 241]))"
      ]
     },
     "execution_count": 12,
     "metadata": {},
     "output_type": "execute_result"
    }
   ],
   "source": [
    "np.unique(y_train, return_counts=True)"
   ]
  },
  {
   "cell_type": "code",
   "execution_count": 13,
   "id": "4e3d1362",
   "metadata": {},
   "outputs": [
    {
     "data": {
      "text/plain": [
       "array([0.69875, 0.30125])"
      ]
     },
     "execution_count": 13,
     "metadata": {},
     "output_type": "execute_result"
    }
   ],
   "source": [
    "np.unique(y_train, return_counts=True)[1] / np.sum(np.unique(y_train, return_counts=True)[1])"
   ]
  },
  {
   "cell_type": "code",
   "execution_count": 14,
   "id": "216eb8e1",
   "metadata": {},
   "outputs": [
    {
     "data": {
      "text/plain": [
       "array([0.705, 0.295])"
      ]
     },
     "execution_count": 14,
     "metadata": {},
     "output_type": "execute_result"
    }
   ],
   "source": [
    "np.unique(y_test, return_counts=True)[1] / np.sum(np.unique(y_test, return_counts=True)[1])"
   ]
  },
  {
   "cell_type": "markdown",
   "id": "cf982907",
   "metadata": {},
   "source": [
    "# Cross Validation Results"
   ]
  },
  {
   "cell_type": "markdown",
   "id": "352a2dd8",
   "metadata": {},
   "source": [
    "## Best Scores/Params"
   ]
  },
  {
   "cell_type": "code",
   "execution_count": null,
   "id": "31f0b98a",
   "metadata": {
    "pycharm": {
     "name": "#%%\n"
    }
   },
   "outputs": [],
   "source": [
    "log_info(f\"Best Score: {results.best_score}\")"
   ]
  },
  {
   "cell_type": "code",
   "execution_count": null,
   "id": "59c9c626",
   "metadata": {},
   "outputs": [],
   "source": [
    "log_info(f\"Best Params: {results.best_params}\")"
   ]
  },
  {
   "cell_type": "code",
   "execution_count": null,
   "id": "76f52f3f",
   "metadata": {
    "scrolled": true
   },
   "outputs": [],
   "source": [
    "# Best model from each model-type.\n",
    "df = results.to_formatted_dataframe(return_style=False, include_rank=True)\n",
    "df[\"model_rank\"] = df.groupby(\"model\")[\"roc_auc Mean\"].rank(method=\"first\", ascending=False)\n",
    "df.query('model_rank == 1')"
   ]
  },
  {
   "cell_type": "code",
   "execution_count": null,
   "id": "5d25ab96",
   "metadata": {
    "pycharm": {
     "name": "#%%\n"
    },
    "scrolled": false
   },
   "outputs": [],
   "source": [
    "results.to_formatted_dataframe(return_style=True,\n",
    "                               include_rank=True,\n",
    "                               num_rows=500)"
   ]
  },
  {
   "cell_type": "code",
   "execution_count": null,
   "id": "3d4d1a95",
   "metadata": {
    "scrolled": false
   },
   "outputs": [],
   "source": [
    "results.to_formatted_dataframe(query='model == \"RandomForestClassifier()\"', include_rank=True)"
   ]
  },
  {
   "cell_type": "code",
   "execution_count": null,
   "id": "35644690",
   "metadata": {
    "scrolled": false
   },
   "outputs": [],
   "source": [
    "results.to_formatted_dataframe(query='model == \"LogisticRegression()\"', include_rank=True)"
   ]
  },
  {
   "cell_type": "markdown",
   "id": "59fde126",
   "metadata": {},
   "source": [
    "## BayesSearchCV Performance Over Time"
   ]
  },
  {
   "cell_type": "code",
   "execution_count": null,
   "id": "69b25b60",
   "metadata": {},
   "outputs": [],
   "source": [
    "results.plot_performance_across_trials(facet_by='model').show()"
   ]
  },
  {
   "cell_type": "code",
   "execution_count": null,
   "id": "96106468",
   "metadata": {},
   "outputs": [],
   "source": [
    "results.plot_performance_across_trials(query='model == \"RandomForestClassifier()\"').show()"
   ]
  },
  {
   "cell_type": "markdown",
   "id": "a6f5be61",
   "metadata": {},
   "source": [
    "---"
   ]
  },
  {
   "cell_type": "markdown",
   "id": "49f22c15",
   "metadata": {},
   "source": [
    "## Variable Performance Over Time"
   ]
  },
  {
   "cell_type": "code",
   "execution_count": null,
   "id": "e100ea68",
   "metadata": {},
   "outputs": [],
   "source": [
    "results.plot_parameter_values_across_trials(query='model == \"RandomForestClassifier()\"').show()"
   ]
  },
  {
   "cell_type": "markdown",
   "id": "e23227a1",
   "metadata": {},
   "source": [
    "---"
   ]
  },
  {
   "cell_type": "markdown",
   "id": "3a27957a",
   "metadata": {},
   "source": [
    "## Scatter Matrix"
   ]
  },
  {
   "cell_type": "code",
   "execution_count": null,
   "id": "03852712",
   "metadata": {
    "scrolled": true
   },
   "outputs": [],
   "source": [
    "# results.plot_scatter_matrix(query='model == \"RandomForestClassifier()\"',\n",
    "#                             height=1000, width=1000).show()"
   ]
  },
  {
   "cell_type": "markdown",
   "id": "c6159d18",
   "metadata": {},
   "source": [
    "---"
   ]
  },
  {
   "cell_type": "markdown",
   "id": "ee749684",
   "metadata": {},
   "source": [
    "## Variable Performance - Numeric"
   ]
  },
  {
   "cell_type": "code",
   "execution_count": null,
   "id": "39189dad",
   "metadata": {},
   "outputs": [],
   "source": [
    "results.plot_performance_numeric_params(query='model == \"RandomForestClassifier()\"',\n",
    "                                        height=800)"
   ]
  },
  {
   "cell_type": "code",
   "execution_count": null,
   "id": "7a76f2c9",
   "metadata": {},
   "outputs": [],
   "source": [
    "results.plot_parallel_coordinates(query='model == \"RandomForestClassifier()\"').show()"
   ]
  },
  {
   "cell_type": "markdown",
   "id": "b8835e43",
   "metadata": {},
   "source": [
    "---"
   ]
  },
  {
   "cell_type": "markdown",
   "id": "030936ad",
   "metadata": {},
   "source": [
    "## Variable Performance - Non-Numeric"
   ]
  },
  {
   "cell_type": "code",
   "execution_count": null,
   "id": "9fe0a693",
   "metadata": {},
   "outputs": [],
   "source": [
    "results.plot_performance_non_numeric_params(query='model == \"RandomForestClassifier()\"').show()"
   ]
  },
  {
   "cell_type": "markdown",
   "id": "ec79358c",
   "metadata": {
    "pycharm": {
     "name": "#%% md\n"
    }
   },
   "source": [
    "---"
   ]
  },
  {
   "cell_type": "code",
   "execution_count": null,
   "id": "a4cb1cd0",
   "metadata": {},
   "outputs": [],
   "source": [
    "results.plot_score_vs_parameter(\n",
    "    query='model == \"RandomForestClassifier()\"',\n",
    "    parameter='max_features',\n",
    "    size='max_depth',\n",
    "    color='encoder',\n",
    ")"
   ]
  },
  {
   "cell_type": "markdown",
   "id": "b09bd440",
   "metadata": {},
   "source": [
    "---"
   ]
  },
  {
   "cell_type": "code",
   "execution_count": null,
   "id": "05670ea0",
   "metadata": {},
   "outputs": [],
   "source": [
    "# results.plot_parameter_vs_parameter(\n",
    "#     query='model == \"XGBClassifier()\"',\n",
    "#     parameter_x='colsample_bytree',\n",
    "#     parameter_y='learning_rate',\n",
    "#     size='max_depth'\n",
    "# )"
   ]
  },
  {
   "cell_type": "code",
   "execution_count": null,
   "id": "aab85748",
   "metadata": {},
   "outputs": [],
   "source": [
    "# results.plot_parameter_vs_parameter(\n",
    "#     query='model == \"XGBClassifier()\"',\n",
    "#     parameter_x='colsample_bytree',\n",
    "#     parameter_y='learning_rate',\n",
    "#     size='imputer'\n",
    "# )"
   ]
  },
  {
   "cell_type": "markdown",
   "id": "99721fb8",
   "metadata": {},
   "source": [
    "---"
   ]
  },
  {
   "cell_type": "markdown",
   "id": "6abb1968",
   "metadata": {},
   "source": [
    "# Best Model - Test Set Performance"
   ]
  },
  {
   "cell_type": "code",
   "execution_count": null,
   "id": "3b256e43",
   "metadata": {},
   "outputs": [],
   "source": [
    "test_predictions = best_estimator.predict(X_test)\n",
    "test_predictions[0:10]"
   ]
  },
  {
   "cell_type": "code",
   "execution_count": null,
   "id": "6abd219e",
   "metadata": {},
   "outputs": [],
   "source": [
    "evaluator = hlp.sklearn_eval.TwoClassEvaluator(\n",
    "    actual_values=y_test,\n",
    "    predicted_scores=test_predictions,\n",
    "    score_threshold=0.37\n",
    ")"
   ]
  },
  {
   "cell_type": "code",
   "execution_count": null,
   "id": "1dcd2c01",
   "metadata": {},
   "outputs": [],
   "source": [
    "evaluator.plot_actual_vs_predict_histogram()"
   ]
  },
  {
   "cell_type": "code",
   "execution_count": null,
   "id": "7e98d47c",
   "metadata": {},
   "outputs": [],
   "source": [
    "evaluator.plot_confusion_matrix()"
   ]
  },
  {
   "cell_type": "code",
   "execution_count": null,
   "id": "2fc49b20",
   "metadata": {},
   "outputs": [],
   "source": [
    "evaluator.all_metrics_df(return_style=True,\n",
    "                         dummy_classifier_strategy=['prior', 'constant'],\n",
    "                         round_by=3)"
   ]
  },
  {
   "cell_type": "code",
   "execution_count": null,
   "id": "bc9457e9",
   "metadata": {},
   "outputs": [],
   "source": [
    "evaluator.plot_roc_auc_curve().show()"
   ]
  },
  {
   "cell_type": "code",
   "execution_count": null,
   "id": "9233e119",
   "metadata": {},
   "outputs": [],
   "source": [
    "evaluator.plot_precision_recall_auc_curve().show()"
   ]
  },
  {
   "cell_type": "code",
   "execution_count": null,
   "id": "2e816815",
   "metadata": {},
   "outputs": [],
   "source": [
    "evaluator.plot_threshold_curves(score_threshold_range=(0.1, 0.7)).show()"
   ]
  },
  {
   "cell_type": "code",
   "execution_count": null,
   "id": "70aa5d47",
   "metadata": {},
   "outputs": [],
   "source": [
    "evaluator.plot_precision_recall_tradeoff(score_threshold_range=(0.1, 0.6)).show()"
   ]
  },
  {
   "cell_type": "code",
   "execution_count": null,
   "id": "5b729774",
   "metadata": {},
   "outputs": [],
   "source": [
    "evaluator.calculate_lift_gain(return_style=True)"
   ]
  },
  {
   "cell_type": "markdown",
   "id": "12d03792",
   "metadata": {},
   "source": [
    "---"
   ]
  },
  {
   "cell_type": "markdown",
   "id": "1edf23fd",
   "metadata": {},
   "source": [
    "# Production Model - Test Set Performance"
   ]
  },
  {
   "cell_type": "code",
   "execution_count": null,
   "id": "59b0962b",
   "metadata": {},
   "outputs": [],
   "source": [
    "test_predictions = production_model.predict(X_test)\n",
    "test_predictions[0:10]"
   ]
  },
  {
   "cell_type": "code",
   "execution_count": null,
   "id": "ffb609f3",
   "metadata": {},
   "outputs": [],
   "source": [
    "evaluator = hlp.sklearn_eval.TwoClassEvaluator(\n",
    "    actual_values=y_test,\n",
    "    predicted_scores=test_predictions,\n",
    "    score_threshold=0.37\n",
    ")"
   ]
  },
  {
   "cell_type": "code",
   "execution_count": null,
   "id": "047b1275",
   "metadata": {},
   "outputs": [],
   "source": [
    "evaluator.plot_actual_vs_predict_histogram()"
   ]
  },
  {
   "cell_type": "code",
   "execution_count": null,
   "id": "b2a10461",
   "metadata": {},
   "outputs": [],
   "source": [
    "evaluator.plot_confusion_matrix()"
   ]
  },
  {
   "cell_type": "code",
   "execution_count": null,
   "id": "6ad962d9",
   "metadata": {},
   "outputs": [],
   "source": [
    "evaluator.all_metrics_df(return_style=True,\n",
    "                         dummy_classifier_strategy=['prior', 'constant'],\n",
    "                         round_by=3)"
   ]
  },
  {
   "cell_type": "code",
   "execution_count": null,
   "id": "346f2bf7",
   "metadata": {},
   "outputs": [],
   "source": [
    "evaluator.plot_roc_auc_curve().show()"
   ]
  },
  {
   "cell_type": "code",
   "execution_count": null,
   "id": "adb01e2d",
   "metadata": {},
   "outputs": [],
   "source": [
    "evaluator.plot_precision_recall_auc_curve().show()"
   ]
  },
  {
   "cell_type": "code",
   "execution_count": null,
   "id": "a4567e6b",
   "metadata": {},
   "outputs": [],
   "source": [
    "evaluator.plot_threshold_curves(score_threshold_range=(0.1, 0.7)).show()"
   ]
  },
  {
   "cell_type": "code",
   "execution_count": null,
   "id": "302ff8f5",
   "metadata": {},
   "outputs": [],
   "source": [
    "evaluator.plot_precision_recall_tradeoff(score_threshold_range=(0.1, 0.6)).show()"
   ]
  },
  {
   "cell_type": "code",
   "execution_count": null,
   "id": "69a68d13",
   "metadata": {},
   "outputs": [],
   "source": [
    "evaluator.calculate_lift_gain(return_style=True)"
   ]
  },
  {
   "cell_type": "markdown",
   "id": "a2019017",
   "metadata": {},
   "source": [
    "---"
   ]
  }
 ],
 "metadata": {
  "kernelspec": {
   "display_name": "Python 3 (ipykernel)",
   "language": "python",
   "name": "python3"
  },
  "language_info": {
   "codemirror_mode": {
    "name": "ipython",
    "version": 3
   },
   "file_extension": ".py",
   "mimetype": "text/x-python",
   "name": "python",
   "nbconvert_exporter": "python",
   "pygments_lexer": "ipython3",
   "version": "3.9.10"
  },
  "toc": {
   "base_numbering": 1,
   "nav_menu": {},
   "number_sections": false,
   "sideBar": true,
   "skip_h1_title": false,
   "title_cell": "Table of Contents",
   "title_sidebar": "Contents",
   "toc_cell": false,
   "toc_position": {
    "height": "calc(100% - 180px)",
    "left": "10px",
    "top": "150px",
    "width": "258px"
   },
   "toc_section_display": true,
   "toc_window_display": true
  }
 },
 "nbformat": 4,
 "nbformat_minor": 5
}
