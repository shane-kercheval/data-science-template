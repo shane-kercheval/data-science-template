{
 "cells": [
  {
   "cell_type": "code",
   "execution_count": 1,
   "id": "d1507992",
   "metadata": {},
   "outputs": [
    {
     "name": "stdout",
     "output_type": "stream",
     "text": [
      "/Users/shanekercheval/repos/data-science-template\n"
     ]
    }
   ],
   "source": [
    "cd ../.."
   ]
  },
  {
   "cell_type": "code",
   "execution_count": 2,
   "id": "c5f3fe51",
   "metadata": {},
   "outputs": [],
   "source": [
    "%run \"source/config/notebook_settings.py\""
   ]
  },
  {
   "cell_type": "markdown",
   "id": "1930b7e6",
   "metadata": {
    "pycharm": {
     "name": "#%% md\n"
    }
   },
   "source": [
    "# Load Data"
   ]
  },
  {
   "cell_type": "code",
   "execution_count": 4,
   "id": "a14624fd",
   "metadata": {
    "pycharm": {
     "name": "#%%\n"
    }
   },
   "outputs": [],
   "source": [
    "file_name = 'artifacts/models/experiments/multi-model-BayesSearchCV-2022-03-18-12-15-35.yaml'\n",
    "results = hlp.sklearn_eval.MLExperimentResults.from_yaml_file(yaml_file_name = file_name)"
   ]
  },
  {
   "cell_type": "markdown",
   "id": "54a33939",
   "metadata": {},
   "source": [
    "---"
   ]
  },
  {
   "cell_type": "markdown",
   "id": "eb177594",
   "metadata": {},
   "source": [
    "# Hyper-Param Tuning - Cross Validation Results"
   ]
  },
  {
   "cell_type": "markdown",
   "id": "352a2dd8",
   "metadata": {},
   "source": [
    "## Best Scores/Params"
   ]
  },
  {
   "cell_type": "code",
   "execution_count": 5,
   "id": "31f0b98a",
   "metadata": {
    "pycharm": {
     "name": "#%%\n"
    }
   },
   "outputs": [
    {
     "data": {
      "text/plain": [
       "0.774092779234226"
      ]
     },
     "execution_count": 5,
     "metadata": {},
     "output_type": "execute_result"
    }
   ],
   "source": [
    "results.best_score"
   ]
  },
  {
   "cell_type": "code",
   "execution_count": 6,
   "id": "59c9c626",
   "metadata": {},
   "outputs": [
    {
     "data": {
      "text/plain": [
       "{'model': 'LogisticRegression()',\n",
       " 'C': 0.13184996310179986,\n",
       " 'imputer': \"SimpleImputer(strategy='median')\",\n",
       " 'scaler': 'StandardScaler()',\n",
       " 'pca': 'None',\n",
       " 'encoder': 'OneHotEncoder()'}"
      ]
     },
     "execution_count": 6,
     "metadata": {},
     "output_type": "execute_result"
    }
   ],
   "source": [
    "results.best_params"
   ]
  },
  {
   "cell_type": "code",
   "execution_count": null,
   "id": "76f52f3f",
   "metadata": {
    "scrolled": true
   },
   "outputs": [],
   "source": [
    "# Best model from each model-type.\n",
    "df = results.to_formatted_dataframe(return_style=False, include_rank=True)\n",
    "df[\"model_rank\"] = df.groupby(\"model\")[\"roc_auc Mean\"].rank(method=\"first\", ascending=False)\n",
    "df.query('model_rank == 1')"
   ]
  },
  {
   "cell_type": "code",
   "execution_count": null,
   "id": "5d25ab96",
   "metadata": {
    "pycharm": {
     "name": "#%%\n"
    },
    "scrolled": false
   },
   "outputs": [],
   "source": [
    "results.to_formatted_dataframe(return_style=True,\n",
    "                               include_rank=True,\n",
    "                               num_rows=1000)"
   ]
  },
  {
   "cell_type": "code",
   "execution_count": null,
   "id": "3d4d1a95",
   "metadata": {
    "scrolled": false
   },
   "outputs": [],
   "source": [
    "results.to_formatted_dataframe(query='model == \"RandomForestClassifier()\"', include_rank=True)"
   ]
  },
  {
   "cell_type": "code",
   "execution_count": null,
   "id": "35644690",
   "metadata": {
    "scrolled": false
   },
   "outputs": [],
   "source": [
    "results.to_formatted_dataframe(query='model == \"LogisticRegression()\"', include_rank=True)"
   ]
  },
  {
   "cell_type": "markdown",
   "id": "59fde126",
   "metadata": {},
   "source": [
    "## BayesSearchCV Performance Over Time"
   ]
  },
  {
   "cell_type": "code",
   "execution_count": null,
   "id": "69b25b60",
   "metadata": {},
   "outputs": [],
   "source": [
    "results.plot_performance_across_trials(facet_by='model').show()"
   ]
  },
  {
   "cell_type": "code",
   "execution_count": null,
   "id": "96106468",
   "metadata": {},
   "outputs": [],
   "source": [
    "results.plot_performance_across_trials(query='model == \"RandomForestClassifier()\"').show()"
   ]
  },
  {
   "cell_type": "markdown",
   "id": "a6f5be61",
   "metadata": {},
   "source": [
    "---"
   ]
  },
  {
   "cell_type": "markdown",
   "id": "49f22c15",
   "metadata": {},
   "source": [
    "## Variable Performance Over Time"
   ]
  },
  {
   "cell_type": "code",
   "execution_count": null,
   "id": "e100ea68",
   "metadata": {},
   "outputs": [],
   "source": [
    "results.plot_parameter_values_across_trials(query='model == \"RandomForestClassifier()\"').show()"
   ]
  },
  {
   "cell_type": "markdown",
   "id": "e23227a1",
   "metadata": {},
   "source": [
    "---"
   ]
  },
  {
   "cell_type": "markdown",
   "id": "3a27957a",
   "metadata": {},
   "source": [
    "## Scatter Matrix"
   ]
  },
  {
   "cell_type": "code",
   "execution_count": null,
   "id": "03852712",
   "metadata": {
    "scrolled": true
   },
   "outputs": [],
   "source": [
    "# results.plot_scatter_matrix(query='model == \"RandomForestClassifier()\"',\n",
    "#                             height=1000, width=1000).show()"
   ]
  },
  {
   "cell_type": "markdown",
   "id": "c6159d18",
   "metadata": {},
   "source": [
    "---"
   ]
  },
  {
   "cell_type": "markdown",
   "id": "ee749684",
   "metadata": {},
   "source": [
    "## Variable Performance - Numeric"
   ]
  },
  {
   "cell_type": "code",
   "execution_count": null,
   "id": "39189dad",
   "metadata": {},
   "outputs": [],
   "source": [
    "results.plot_performance_numeric_params(query='model == \"RandomForestClassifier()\"',\n",
    "                                        height=800)"
   ]
  },
  {
   "cell_type": "code",
   "execution_count": null,
   "id": "7a76f2c9",
   "metadata": {},
   "outputs": [],
   "source": [
    "results.plot_parallel_coordinates(query='model == \"RandomForestClassifier()\"').show()"
   ]
  },
  {
   "cell_type": "markdown",
   "id": "b8835e43",
   "metadata": {},
   "source": [
    "---"
   ]
  },
  {
   "cell_type": "markdown",
   "id": "030936ad",
   "metadata": {},
   "source": [
    "## Variable Performance - Non-Numeric"
   ]
  },
  {
   "cell_type": "code",
   "execution_count": null,
   "id": "9fe0a693",
   "metadata": {},
   "outputs": [],
   "source": [
    "results.plot_performance_non_numeric_params(query='model == \"RandomForestClassifier()\"').show()"
   ]
  },
  {
   "cell_type": "markdown",
   "id": "ec79358c",
   "metadata": {
    "pycharm": {
     "name": "#%% md\n"
    }
   },
   "source": [
    "---"
   ]
  },
  {
   "cell_type": "code",
   "execution_count": null,
   "id": "a4cb1cd0",
   "metadata": {},
   "outputs": [],
   "source": [
    "results.plot_score_vs_parameter(\n",
    "    query='model == \"RandomForestClassifier()\"',\n",
    "    parameter='max_features',\n",
    "    size='max_depth',\n",
    "    color='encoder',\n",
    ")"
   ]
  },
  {
   "cell_type": "markdown",
   "id": "b09bd440",
   "metadata": {},
   "source": [
    "---"
   ]
  },
  {
   "cell_type": "code",
   "execution_count": null,
   "id": "05670ea0",
   "metadata": {},
   "outputs": [],
   "source": [
    "# results.plot_parameter_vs_parameter(\n",
    "#     query='model == \"XGBClassifier()\"',\n",
    "#     parameter_x='colsample_bytree',\n",
    "#     parameter_y='learning_rate',\n",
    "#     size='max_depth'\n",
    "# )"
   ]
  },
  {
   "cell_type": "code",
   "execution_count": null,
   "id": "aab85748",
   "metadata": {},
   "outputs": [],
   "source": [
    "# results.plot_parameter_vs_parameter(\n",
    "#     query='model == \"XGBClassifier()\"',\n",
    "#     parameter_x='colsample_bytree',\n",
    "#     parameter_y='learning_rate',\n",
    "#     size='imputer'\n",
    "# )"
   ]
  },
  {
   "cell_type": "markdown",
   "id": "99721fb8",
   "metadata": {},
   "source": [
    "---"
   ]
  },
  {
   "cell_type": "markdown",
   "id": "6abb1968",
   "metadata": {},
   "source": [
    "# Best Model - Test Set Performance"
   ]
  },
  {
   "cell_type": "code",
   "execution_count": 7,
   "id": "333ec5fb",
   "metadata": {},
   "outputs": [],
   "source": [
    "file_name = 'artifacts/models/experiments/multi-model-BayesSearchCV-2022-03-18-12-15-35_best_estimator.pkl'\n",
    "best_estimator = hlp.utility.read_pickle(file_name)"
   ]
  },
  {
   "cell_type": "code",
   "execution_count": 9,
   "id": "5f2d803e",
   "metadata": {},
   "outputs": [
    {
     "data": {
      "text/html": [
       "<div>\n",
       "<style scoped>\n",
       "    .dataframe tbody tr th:only-of-type {\n",
       "        vertical-align: middle;\n",
       "    }\n",
       "\n",
       "    .dataframe tbody tr th {\n",
       "        vertical-align: top;\n",
       "    }\n",
       "\n",
       "    .dataframe thead th {\n",
       "        text-align: right;\n",
       "    }\n",
       "</style>\n",
       "<table border=\"1\" class=\"dataframe tex2jax_ignore\">\n",
       "  <thead>\n",
       "    <tr style=\"text-align: right;\">\n",
       "      <th></th>\n",
       "      <th>checking_status</th>\n",
       "      <th>duration</th>\n",
       "      <th>credit_history</th>\n",
       "      <th>purpose</th>\n",
       "      <th>credit_amount</th>\n",
       "      <th>savings_status</th>\n",
       "      <th>employment</th>\n",
       "      <th>installment_commitment</th>\n",
       "      <th>personal_status</th>\n",
       "      <th>other_parties</th>\n",
       "      <th>residence_since</th>\n",
       "      <th>property_magnitude</th>\n",
       "      <th>age</th>\n",
       "      <th>other_payment_plans</th>\n",
       "      <th>housing</th>\n",
       "      <th>existing_credits</th>\n",
       "      <th>job</th>\n",
       "      <th>num_dependents</th>\n",
       "      <th>own_telephone</th>\n",
       "      <th>foreign_worker</th>\n",
       "    </tr>\n",
       "  </thead>\n",
       "  <tbody>\n",
       "    <tr>\n",
       "      <th>521</th>\n",
       "      <td>&lt;0</td>\n",
       "      <td>18.00</td>\n",
       "      <td>existing paid</td>\n",
       "      <td>radio/tv</td>\n",
       "      <td>3190.00</td>\n",
       "      <td>&lt;100</td>\n",
       "      <td>1&lt;=X&lt;4</td>\n",
       "      <td>2.00</td>\n",
       "      <td>female div/dep/mar</td>\n",
       "      <td>none</td>\n",
       "      <td>2.00</td>\n",
       "      <td>real estate</td>\n",
       "      <td>24.00</td>\n",
       "      <td>none</td>\n",
       "      <td>own</td>\n",
       "      <td>1.00</td>\n",
       "      <td>skilled</td>\n",
       "      <td>1.00</td>\n",
       "      <td>none</td>\n",
       "      <td>yes</td>\n",
       "    </tr>\n",
       "    <tr>\n",
       "      <th>737</th>\n",
       "      <td>&lt;0</td>\n",
       "      <td>18.00</td>\n",
       "      <td>existing paid</td>\n",
       "      <td>new car</td>\n",
       "      <td>4380.00</td>\n",
       "      <td>100&lt;=X&lt;500</td>\n",
       "      <td>1&lt;=X&lt;4</td>\n",
       "      <td>3.00</td>\n",
       "      <td>male single</td>\n",
       "      <td>none</td>\n",
       "      <td>4.00</td>\n",
       "      <td>car</td>\n",
       "      <td>35.00</td>\n",
       "      <td>none</td>\n",
       "      <td>own</td>\n",
       "      <td>1.00</td>\n",
       "      <td>unskilled resident</td>\n",
       "      <td>2.00</td>\n",
       "      <td>yes</td>\n",
       "      <td>yes</td>\n",
       "    </tr>\n",
       "    <tr>\n",
       "      <th>740</th>\n",
       "      <td>&lt;0</td>\n",
       "      <td>24.00</td>\n",
       "      <td>all paid</td>\n",
       "      <td>new car</td>\n",
       "      <td>2325.00</td>\n",
       "      <td>100&lt;=X&lt;500</td>\n",
       "      <td>4&lt;=X&lt;7</td>\n",
       "      <td>2.00</td>\n",
       "      <td>male single</td>\n",
       "      <td>none</td>\n",
       "      <td>3.00</td>\n",
       "      <td>car</td>\n",
       "      <td>32.00</td>\n",
       "      <td>bank</td>\n",
       "      <td>own</td>\n",
       "      <td>1.00</td>\n",
       "      <td>skilled</td>\n",
       "      <td>1.00</td>\n",
       "      <td>none</td>\n",
       "      <td>yes</td>\n",
       "    </tr>\n",
       "    <tr>\n",
       "      <th>660</th>\n",
       "      <td>&gt;=200</td>\n",
       "      <td>12.00</td>\n",
       "      <td>existing paid</td>\n",
       "      <td>radio/tv</td>\n",
       "      <td>1297.00</td>\n",
       "      <td>&lt;100</td>\n",
       "      <td>1&lt;=X&lt;4</td>\n",
       "      <td>3.00</td>\n",
       "      <td>male mar/wid</td>\n",
       "      <td>none</td>\n",
       "      <td>4.00</td>\n",
       "      <td>real estate</td>\n",
       "      <td>23.00</td>\n",
       "      <td>none</td>\n",
       "      <td>rent</td>\n",
       "      <td>1.00</td>\n",
       "      <td>skilled</td>\n",
       "      <td>1.00</td>\n",
       "      <td>none</td>\n",
       "      <td>yes</td>\n",
       "    </tr>\n",
       "    <tr>\n",
       "      <th>411</th>\n",
       "      <td>no checking</td>\n",
       "      <td>33.00</td>\n",
       "      <td>critical/other existing credit</td>\n",
       "      <td>used car</td>\n",
       "      <td>7253.00</td>\n",
       "      <td>&lt;100</td>\n",
       "      <td>4&lt;=X&lt;7</td>\n",
       "      <td>3.00</td>\n",
       "      <td>male single</td>\n",
       "      <td>none</td>\n",
       "      <td>2.00</td>\n",
       "      <td>car</td>\n",
       "      <td>35.00</td>\n",
       "      <td>none</td>\n",
       "      <td>own</td>\n",
       "      <td>2.00</td>\n",
       "      <td>high qualif/self emp/mgmt</td>\n",
       "      <td>1.00</td>\n",
       "      <td>yes</td>\n",
       "      <td>yes</td>\n",
       "    </tr>\n",
       "  </tbody>\n",
       "</table>\n",
       "</div>"
      ],
      "text/plain": [
       "    checking_status  duration                  credit_history   purpose  \\\n",
       "521              <0     18.00                   existing paid  radio/tv   \n",
       "737              <0     18.00                   existing paid   new car   \n",
       "740              <0     24.00                        all paid   new car   \n",
       "660           >=200     12.00                   existing paid  radio/tv   \n",
       "411     no checking     33.00  critical/other existing credit  used car   \n",
       "\n",
       "     credit_amount savings_status employment  installment_commitment  \\\n",
       "521        3190.00           <100     1<=X<4                    2.00   \n",
       "737        4380.00     100<=X<500     1<=X<4                    3.00   \n",
       "740        2325.00     100<=X<500     4<=X<7                    2.00   \n",
       "660        1297.00           <100     1<=X<4                    3.00   \n",
       "411        7253.00           <100     4<=X<7                    3.00   \n",
       "\n",
       "        personal_status other_parties  residence_since property_magnitude  \\\n",
       "521  female div/dep/mar          none             2.00        real estate   \n",
       "737         male single          none             4.00                car   \n",
       "740         male single          none             3.00                car   \n",
       "660        male mar/wid          none             4.00        real estate   \n",
       "411         male single          none             2.00                car   \n",
       "\n",
       "      age other_payment_plans housing  existing_credits  \\\n",
       "521 24.00                none     own              1.00   \n",
       "737 35.00                none     own              1.00   \n",
       "740 32.00                bank     own              1.00   \n",
       "660 23.00                none    rent              1.00   \n",
       "411 35.00                none     own              2.00   \n",
       "\n",
       "                           job  num_dependents own_telephone foreign_worker  \n",
       "521                    skilled            1.00          none            yes  \n",
       "737         unskilled resident            2.00           yes            yes  \n",
       "740                    skilled            1.00          none            yes  \n",
       "660                    skilled            1.00          none            yes  \n",
       "411  high qualif/self emp/mgmt            1.00           yes            yes  "
      ]
     },
     "execution_count": 9,
     "metadata": {},
     "output_type": "execute_result"
    }
   ],
   "source": [
    "x_test = pd.read_pickle('artifacts/data/processed/x_test.pkl')\n",
    "x_test.head()"
   ]
  },
  {
   "cell_type": "code",
   "execution_count": 10,
   "id": "0e7586c3",
   "metadata": {},
   "outputs": [
    {
     "data": {
      "text/plain": [
       "array([1, 0, 0, 0, 0, 0, 0, 0, 0, 0])"
      ]
     },
     "execution_count": 10,
     "metadata": {},
     "output_type": "execute_result"
    }
   ],
   "source": [
    "y_test = hlp.utility.read_pickle('artifacts/data/processed/y_test.pkl')\n",
    "y_test[0:10]"
   ]
  },
  {
   "cell_type": "code",
   "execution_count": 11,
   "id": "3b256e43",
   "metadata": {},
   "outputs": [
    {
     "data": {
      "text/plain": [
       "array([0.403314  , 0.49843118, 0.59686198, 0.32004122, 0.0857983 ,\n",
       "       0.35470202, 0.08364243, 0.45742452, 0.09325265, 0.13118732])"
      ]
     },
     "execution_count": 11,
     "metadata": {},
     "output_type": "execute_result"
    }
   ],
   "source": [
    "test_predictions = best_estimator.predict_proba(x_test)[:, 1]\n",
    "test_predictions[0:10]"
   ]
  },
  {
   "cell_type": "code",
   "execution_count": null,
   "id": "6abd219e",
   "metadata": {},
   "outputs": [],
   "source": [
    "evaluator = hlp.sklearn_eval.TwoClassEvaluator(\n",
    "    actual_values=y_test,\n",
    "    predicted_scores=test_predictions,\n",
    "    score_threshold=0.37\n",
    ")"
   ]
  },
  {
   "cell_type": "code",
   "execution_count": null,
   "id": "1dcd2c01",
   "metadata": {},
   "outputs": [],
   "source": [
    "evaluator.plot_actual_vs_predict_histogram()"
   ]
  },
  {
   "cell_type": "code",
   "execution_count": null,
   "id": "7e98d47c",
   "metadata": {},
   "outputs": [],
   "source": [
    "evaluator.plot_confusion_matrix()"
   ]
  },
  {
   "cell_type": "code",
   "execution_count": null,
   "id": "2fc49b20",
   "metadata": {},
   "outputs": [],
   "source": [
    "evaluator.all_metrics_df(return_style=True,\n",
    "                         dummy_classifier_strategy=['prior', 'constant'],\n",
    "                         round_by=3)"
   ]
  },
  {
   "cell_type": "code",
   "execution_count": null,
   "id": "bc9457e9",
   "metadata": {},
   "outputs": [],
   "source": [
    "evaluator.plot_roc_auc_curve().show()"
   ]
  },
  {
   "cell_type": "code",
   "execution_count": null,
   "id": "9233e119",
   "metadata": {},
   "outputs": [],
   "source": [
    "evaluator.plot_precision_recall_auc_curve().show()"
   ]
  },
  {
   "cell_type": "code",
   "execution_count": null,
   "id": "2e816815",
   "metadata": {},
   "outputs": [],
   "source": [
    "evaluator.plot_threshold_curves(score_threshold_range=(0.1, 0.7)).show()"
   ]
  },
  {
   "cell_type": "code",
   "execution_count": null,
   "id": "70aa5d47",
   "metadata": {},
   "outputs": [],
   "source": [
    "evaluator.plot_precision_recall_tradeoff(score_threshold_range=(0.1, 0.6)).show()"
   ]
  },
  {
   "cell_type": "code",
   "execution_count": null,
   "id": "5b729774",
   "metadata": {},
   "outputs": [],
   "source": [
    "evaluator.calculate_lift_gain(return_style=True)"
   ]
  },
  {
   "cell_type": "markdown",
   "id": "12d03792",
   "metadata": {},
   "source": [
    "---"
   ]
  }
 ],
 "metadata": {
  "kernelspec": {
   "display_name": "Python 3 (ipykernel)",
   "language": "python",
   "name": "python3"
  },
  "language_info": {
   "codemirror_mode": {
    "name": "ipython",
    "version": 3
   },
   "file_extension": ".py",
   "mimetype": "text/x-python",
   "name": "python",
   "nbconvert_exporter": "python",
   "pygments_lexer": "ipython3",
   "version": "3.9.10"
  },
  "toc": {
   "base_numbering": 1,
   "nav_menu": {},
   "number_sections": false,
   "sideBar": true,
   "skip_h1_title": false,
   "title_cell": "Table of Contents",
   "title_sidebar": "Contents",
   "toc_cell": false,
   "toc_position": {
    "height": "calc(100% - 180px)",
    "left": "10px",
    "top": "150px",
    "width": "258px"
   },
   "toc_section_display": true,
   "toc_window_display": true
  }
 },
 "nbformat": 4,
 "nbformat_minor": 5
}
